{
 "cells": [
  {
   "cell_type": "markdown",
   "metadata": {},
   "source": [
    "# Curbing Chicago Car Crashes\n",
    "\n",
    "**Authors:** Carlos McCrum, Michael Lee, Doug Mill\n",
    "***"
   ]
  },
  {
   "cell_type": "markdown",
   "metadata": {},
   "source": [
    "## Overview\n",
    "\n",
    "Our task is to build inferential classification models for the Vehicle Safety Board of Chicago. We cleaned and formatted our data provided by the City of Chicago containing crashes,  vehicles and people relating to crashes from 2016 to 2020, we then modeled the primary contributory causes of car accidents into two categories. We used an iterative modeling approach and incorporated several classification models to see if we could find what crashes were preventable. Our recommendations include investing in driver education for certain age groups and fixing certain road conditions that could cause a crash. \n",
    "***"
   ]
  },
  {
   "cell_type": "markdown",
   "metadata": {},
   "source": [
    "## Business Problem\n",
    "\n",
    "Vehicle Safety Board wants to know if they should spend more funding in drivers education or fixing roads. Determining whether a crash is preventable and how to allocate funds to limit the number of crashes to present to the Vehicle Safety Board of Chicago.\n",
    "\n",
    "\n",
    "***"
   ]
  },
  {
   "cell_type": "markdown",
   "metadata": {},
   "source": [
    "## Data Understanding\n",
    "\n",
    "Our stakeholder is the Vehicle Safety Board of Chicago. They are launching a new campaign to reduce car crashes. Our task is to build an inferential model to find out  which crashes were preventable and not. We labeled ‘Preventable’ as crashes that could have easily been avoided. Not following traffic laws and negligent driving would fall under this category. ‘Less Preventable’ are crashes that would require a substantial amount of money, time, and labor to fix. Bad road conditions, vision obscurity, and bad weather conditions would fall under this category.\n",
    "***\n",
    "\n",
    "##### Start by importing necessary packages. "
   ]
  },
  {
   "cell_type": "code",
   "execution_count": 16,
   "metadata": {},
   "outputs": [],
   "source": [
    "import pandas as pd\n",
    "import numpy as np\n",
    "import matplotlib.pyplot as plt\n",
    "import seaborn as sns\n",
    "from sklearn.tree import DecisionTreeClassifier\n",
    "from sklearn.model_selection import train_test_split, GridSearchCV, cross_val_score\n",
    "from sklearn.metrics import plot_confusion_matrix, roc_auc_score, plot_roc_curve\n",
    "from sklearn.preprocessing import OneHotEncoder, StandardScaler\n",
    "from sklearn.compose import make_column_transformer\n",
    "from sklearn.svm import LinearSVC\n",
    "from sklearn.ensemble import RandomForestClassifier\n",
    "from sklearn.pipeline import Pipeline\n",
    "from sklearn.metrics import accuracy_score\n",
    "from sklearn.linear_model import LogisticRegression\n",
    "from sklearn.feature_selection import RFE\n",
    "from xgboost import XGBClassifier\n",
    "\n",
    "%matplotlib inline\n",
    "import warnings\n",
    "warnings.filterwarnings('ignore')"
   ]
  },
  {
   "cell_type": "markdown",
   "metadata": {},
   "source": [
    "***\n",
    "\n",
    "## Model Preparation\n",
    "\n",
    "Import data previously cleaned with only the relevant columns we need for our analysis. Our variable is a binary target that points to the contributory cause of the crash either being preventable or non-preventable.\n",
    "\n",
    "***\n"
   ]
  },
  {
   "cell_type": "markdown",
   "metadata": {},
   "source": [
    "Import our cleaned dataframe we cleaned previously. "
   ]
  },
  {
   "cell_type": "code",
   "execution_count": 17,
   "metadata": {},
   "outputs": [],
   "source": [
    "main_df = pd.read_csv('data/cleaned_data/cleaned_modeling_data.csv')\n",
    "columns_to_drop = ['Unnamed: 0']\n",
    "main_df.drop((columns_to_drop), axis = 1, inplace = True)"
   ]
  },
  {
   "cell_type": "markdown",
   "metadata": {},
   "source": [
    "Check to see if we have a class imbalance. "
   ]
  },
  {
   "cell_type": "code",
   "execution_count": 18,
   "metadata": {},
   "outputs": [
    {
     "data": {
      "text/plain": [
       "0    0.754374\n",
       "1    0.245626\n",
       "Name: Target, dtype: float64"
      ]
     },
     "execution_count": 18,
     "metadata": {},
     "output_type": "execute_result"
    }
   ],
   "source": [
    "main_df['Target'].value_counts(normalize = True)"
   ]
  },
  {
   "cell_type": "markdown",
   "metadata": {},
   "source": [
    "Check correlations with our target"
   ]
  },
  {
   "cell_type": "markdown",
   "metadata": {},
   "source": [
    "\n",
    "## Data Modeling\n",
    "We modeled the data through iterative modeling. We used a logistic regression model as our first simple model. For our second model, we created a Decision Tree Classifier that scored slightly better than our simple model. We used a RFE to determine the most important features and iterated with GridSearch to find the best parameters. Lastly, we used a XGBoost classifier with GridSearchCV to find the best model.\n",
    "***"
   ]
  },
  {
   "cell_type": "markdown",
   "metadata": {},
   "source": [
    "## Simple Model - Logistic Regression"
   ]
  },
  {
   "cell_type": "markdown",
   "metadata": {},
   "source": [
    "To measure our model performance, we will be using accruacy. \n",
    "Since we are creating a inferential model, correctly classifiying the target category correctly, should be the main priority."
   ]
  },
  {
   "cell_type": "markdown",
   "metadata": {},
   "source": [
    "To run our first simple model we start off by dropping irrelevant columns. "
   ]
  },
  {
   "cell_type": "code",
   "execution_count": 19,
   "metadata": {},
   "outputs": [],
   "source": [
    "columns_to_drop = ['CRASH_RECORD_ID','CRASH_DATE', 'LONGITUDE', 'LATITUDE', 'Target']"
   ]
  },
  {
   "cell_type": "markdown",
   "metadata": {},
   "source": [
    "Split our data with train test split "
   ]
  },
  {
   "cell_type": "code",
   "execution_count": 20,
   "metadata": {},
   "outputs": [],
   "source": [
    "X = main_df.drop((columns_to_drop), axis=1)\n",
    "y = main_df['Target']\n",
    "X_train, X_test, y_train, y_test = train_test_split(X, y, random_state=42)"
   ]
  },
  {
   "cell_type": "code",
   "execution_count": 21,
   "metadata": {},
   "outputs": [
    {
     "data": {
      "text/plain": [
       "LogisticRegression()"
      ]
     },
     "execution_count": 21,
     "metadata": {},
     "output_type": "execute_result"
    }
   ],
   "source": [
    "logreg = LogisticRegression()\n",
    "logreg.fit(X_train, y_train)"
   ]
  },
  {
   "cell_type": "code",
   "execution_count": 22,
   "metadata": {},
   "outputs": [
    {
     "name": "stdout",
     "output_type": "stream",
     "text": [
      "[[ 0.12988649  0.20098016  0.822363    1.42466443 -0.44294368 -0.07022554\n",
      "   0.45626927 -0.40778448  0.90737109 -2.07794228]] [-0.69633504]\n"
     ]
    }
   ],
   "source": [
    "print(logreg.coef_, logreg.intercept_)"
   ]
  },
  {
   "cell_type": "code",
   "execution_count": 23,
   "metadata": {},
   "outputs": [
    {
     "name": "stdout",
     "output_type": "stream",
     "text": [
      "Optimization terminated successfully.\n",
      "         Current function value: 0.481552\n",
      "         Iterations 7\n",
      "                           Logit Regression Results                           \n",
      "==============================================================================\n",
      "Dep. Variable:                 Target   No. Observations:               952140\n",
      "Model:                          Logit   Df Residuals:                   952129\n",
      "Method:                           MLE   Df Model:                           10\n",
      "Date:                Wed, 27 Oct 2021   Pseudo R-squ.:                  0.1362\n",
      "Time:                        12:36:34   Log-Likelihood:            -4.5851e+05\n",
      "converged:                       True   LL-Null:                   -5.3080e+05\n",
      "Covariance Type:            nonrobust   LLR p-value:                     0.000\n",
      "==========================================================================================\n",
      "                             coef    std err          z      P>|z|      [0.025      0.975]\n",
      "------------------------------------------------------------------------------------------\n",
      "const                     -0.6939      0.005   -143.200      0.000      -0.703      -0.684\n",
      "BAD_VISIBILITY             0.1263      0.009     14.177      0.000       0.109       0.144\n",
      "BAD_TRAFFIC                0.1994      0.005     38.767      0.000       0.189       0.210\n",
      "BAD_ROAD_CONDITION         0.8229      0.006    132.684      0.000       0.811       0.835\n",
      "DEFECT_ROAD                1.4184      0.030     46.646      0.000       1.359       1.478\n",
      "WORKING_TRAFFIC_DEVICE    -0.4452      0.005    -85.077      0.000      -0.455      -0.435\n",
      "NUM_PASSENGERS            -0.0740      0.007    -10.869      0.000      -0.087      -0.061\n",
      "VEHICLE_DEFECT             0.4517      0.014     32.462      0.000       0.424       0.479\n",
      "DANGEROUS_BEH             -0.4072      0.034    -11.862      0.000      -0.474      -0.340\n",
      "OBSCURED_VIZ               0.8978      0.014     66.138      0.000       0.871       0.924\n",
      "DRIVER_ERROR              -2.0773      0.007   -286.979      0.000      -2.092      -2.063\n",
      "==========================================================================================\n"
     ]
    }
   ],
   "source": [
    "from statsmodels.discrete.discrete_model import Logit\n",
    "from statsmodels.tools import add_constant\n",
    "X = add_constant(X)\n",
    "print(Logit(y, X).fit().summary())"
   ]
  },
  {
   "cell_type": "markdown",
   "metadata": {},
   "source": [
    "Based on the coefficients generated from our model, it seems like 'Defect_Road' has the highest odds of happening at around 3x when compared to other factors.\n",
    "\n",
    "This means that we can cut down on the impact of 'Defect_Roads' to mitigate crashes. So, perhaps some funding in road fixtures would be a good idea."
   ]
  },
  {
   "cell_type": "code",
   "execution_count": 24,
   "metadata": {},
   "outputs": [
    {
     "data": {
      "text/plain": [
       "0.7466465015648959"
      ]
     },
     "execution_count": 24,
     "metadata": {},
     "output_type": "execute_result"
    }
   ],
   "source": [
    "logreg.score(X_test, y_test)"
   ]
  },
  {
   "cell_type": "markdown",
   "metadata": {},
   "source": [
    "Our model seems to be pretty good at classifying if a crash was easily preventable or less preventable. However, we wanted to explore if a DecisionTreeClassifier or XGBoost would give us a better accuracy score."
   ]
  },
  {
   "cell_type": "markdown",
   "metadata": {},
   "source": [
    "## Using RFE to select the most important columns"
   ]
  },
  {
   "cell_type": "markdown",
   "metadata": {},
   "source": [
    "In order to determine the most important features, we used the RFE tool with the DecisionTreeClassifier"
   ]
  },
  {
   "cell_type": "code",
   "execution_count": 25,
   "metadata": {
    "tags": []
   },
   "outputs": [
    {
     "data": {
      "text/plain": [
       "\"'BAD_ROAD_CONDITION','DEFECT_ROAD','WORKING_TRAFFIC_DEVICE','OBSCURED_VIZ','DRIVER_ERROR'\""
      ]
     },
     "execution_count": 25,
     "metadata": {},
     "output_type": "execute_result"
    }
   ],
   "source": [
    "# Instantiate classifier and parameters for model accessibility\n",
    "dt = DecisionTreeClassifier()\n",
    "num_features_to_select = 5\n",
    "\n",
    "select = RFE(dt, n_features_to_select=num_features_to_select)\n",
    "select.fit(X = X_train, y = y_train)\n",
    "\n",
    "# Create a list of the most important features\n",
    "keep_list = [(k,v) for k,v in zip(main_df.drop((columns_to_drop), axis=1).columns,select.support_)]\n",
    "keep_string = \"'\"\n",
    "for k,v in keep_list:\n",
    "    if v:\n",
    "        keep_string += k + \"','\"\n",
    "keep_string = keep_string[:-2]\n",
    "\n",
    "keep_string"
   ]
  },
  {
   "cell_type": "code",
   "execution_count": 26,
   "metadata": {},
   "outputs": [
    {
     "data": {
      "text/plain": [
       "0.7549478017938538"
      ]
     },
     "execution_count": 26,
     "metadata": {},
     "output_type": "execute_result"
    }
   ],
   "source": [
    "X = main_df[['BAD_VISIBILITY','BAD_TRAFFIC','BAD_ROAD_CONDITION','DEFECT_ROAD','WORKING_TRAFFIC_DEVICE']]\n",
    "y = main_df['Target']\n",
    "X_train, X_test, y_train, y_test = train_test_split(X, y, random_state = 1)\n",
    "\n",
    "dt_rfe = DecisionTreeClassifier(random_state = 42)\n",
    "dt_rfe.fit(X_train, y_train)\n",
    "dt_rfe.score(X_test, y_test)"
   ]
  },
  {
   "cell_type": "code",
   "execution_count": 27,
   "metadata": {},
   "outputs": [
    {
     "data": {
      "text/plain": [
       "0.7563467557291995"
      ]
     },
     "execution_count": 27,
     "metadata": {},
     "output_type": "execute_result"
    }
   ],
   "source": [
    "X = main_df.drop((columns_to_drop), axis = 1)\n",
    "y = main_df['Target']\n",
    "X_train, X_test, y_train, y_test = train_test_split(X, y, random_state = 1)\n",
    "\n",
    "dt = DecisionTreeClassifier(random_state = 42)\n",
    "dt.fit(X_train, y_train)\n",
    "dt.score(X_test, y_test)"
   ]
  },
  {
   "cell_type": "code",
   "execution_count": 28,
   "metadata": {},
   "outputs": [
    {
     "data": {
      "image/png": "[encoded data removed]",
      "text/plain": [
       "<Figure size 432x288 with 2 Axes>"
      ]
     },
     "metadata": {
      "needs_background": "light"
     },
     "output_type": "display_data"
    }
   ],
   "source": [
    "plot_confusion_matrix(dt, X_train, y_train);"
   ]
  },
  {
   "cell_type": "code",
   "execution_count": 29,
   "metadata": {
    "tags": []
   },
   "outputs": [
    {
     "data": {
      "image/png": "[encoded data removed]",
      "text/plain": [
       "<Figure size 432x288 with 2 Axes>"
      ]
     },
     "metadata": {
      "needs_background": "light"
     },
     "output_type": "display_data"
    }
   ],
   "source": [
    "plot_confusion_matrix(dt, X_test, y_test);"
   ]
  },
  {
   "cell_type": "markdown",
   "metadata": {},
   "source": [
    "Awsome! Our DecisionTreeClassifier is doing better than the LogisticRegression model. However, it does not seem to be by much. Lets see if we can find the best parameters for the DecisionTreeClassifier using GridSearch"
   ]
  },
  {
   "cell_type": "markdown",
   "metadata": {},
   "source": [
    "# Grid Search"
   ]
  },
  {
   "cell_type": "markdown",
   "metadata": {},
   "source": [
    "Because Decision Trees gave us the best accuracy score, we decided to try and find the best parameters\n",
    "Using Grid Search to find the best parameters"
   ]
  },
  {
   "cell_type": "code",
   "execution_count": 30,
   "metadata": {},
   "outputs": [],
   "source": [
    "# Look through max depth, min samples split, min sample leaf to find the best perameters. \n",
    "grid = [{'max_depth': [4, 6, 8], \n",
    "         'min_samples_split': [5, 10, 15], \n",
    "         'min_samples_leaf': [20, 25, 30]}]\n",
    "GS = GridSearchCV(estimator=dt, \n",
    "                          param_grid=grid, \n",
    "                          scoring='accuracy', \n",
    "                          cv=5)"
   ]
  },
  {
   "cell_type": "markdown",
   "metadata": {},
   "source": [
    "Fit to our grid\n",
    "- Analyze the results\n",
    "- See what the best perameters are\n",
    "- Find our best score\n"
   ]
  },
  {
   "cell_type": "code",
   "execution_count": 31,
   "metadata": {},
   "outputs": [
    {
     "data": {
      "text/plain": [
       "{'mean_fit_time': array([0.25202775, 0.24564681, 0.24205537, 0.23427987, 0.23557801,\n",
       "        0.2353734 , 0.23527226, 0.23541002, 0.2353765 , 0.30598264,\n",
       "        0.30469394, 0.30410395, 0.30390573, 0.30273643, 0.30359397,\n",
       "        0.31187563, 0.3033432 , 0.34189277, 0.35214505, 0.35195127,\n",
       "        0.35458512, 0.351373  , 0.351371  , 0.35091228, 0.35046878,\n",
       "        0.35166516, 0.35316916]),\n",
       " 'std_fit_time': array([0.0154109 , 0.01873293, 0.0131987 , 0.00110857, 0.0009769 ,\n",
       "        0.00151287, 0.00111   , 0.00292   , 0.00151185, 0.00330171,\n",
       "        0.00320466, 0.0030263 , 0.00303338, 0.00147146, 0.00392192,\n",
       "        0.01899246, 0.0012062 , 0.03694009, 0.00389209, 0.00294125,\n",
       "        0.00193597, 0.00241225, 0.00150143, 0.00224246, 0.00434422,\n",
       "        0.00390952, 0.0033605 ]),\n",
       " 'mean_score_time': array([0.01795106, 0.01705537, 0.0167542 , 0.01705542, 0.01695423,\n",
       "        0.0165555 , 0.01695471, 0.01665654, 0.01695399, 0.01755261,\n",
       "        0.01805696, 0.01695442, 0.01727257, 0.01735306, 0.01735344,\n",
       "        0.01735353, 0.01716204, 0.01924887, 0.01856132, 0.01874952,\n",
       "        0.01886301, 0.01874967, 0.0190495 , 0.01874948, 0.01885056,\n",
       "        0.01894889, 0.01855702]),\n",
       " 'std_score_time': array([1.66832594e-03, 1.01634223e-03, 3.98541267e-04, 2.02226779e-04,\n",
       "        5.72204590e-07, 4.88480498e-04, 1.78416128e-07, 6.00414817e-04,\n",
       "        6.30600392e-04, 4.88811327e-04, 2.09641585e-04, 1.50789149e-07,\n",
       "        3.93032391e-04, 4.88227347e-04, 4.88499820e-04, 4.88519354e-04,\n",
       "        3.95590193e-04, 2.17732185e-03, 3.63274858e-04, 3.98898620e-04,\n",
       "        1.96462430e-04, 3.98969949e-04, 6.61985757e-04, 3.98874525e-04,\n",
       "        1.97053208e-04, 4.90933902e-07, 4.94444275e-04]),\n",
       " 'param_max_depth': masked_array(data=[4, 4, 4, 4, 4, 4, 4, 4, 4, 6, 6, 6, 6, 6, 6, 6, 6, 6,\n",
       "                    8, 8, 8, 8, 8, 8, 8, 8, 8],\n",
       "              mask=[False, False, False, False, False, False, False, False,\n",
       "                    False, False, False, False, False, False, False, False,\n",
       "                    False, False, False, False, False, False, False, False,\n",
       "                    False, False, False],\n",
       "        fill_value='?',\n",
       "             dtype=object),\n",
       " 'param_min_samples_leaf': masked_array(data=[20, 20, 20, 25, 25, 25, 30, 30, 30, 20, 20, 20, 25, 25,\n",
       "                    25, 30, 30, 30, 20, 20, 20, 25, 25, 25, 30, 30, 30],\n",
       "              mask=[False, False, False, False, False, False, False, False,\n",
       "                    False, False, False, False, False, False, False, False,\n",
       "                    False, False, False, False, False, False, False, False,\n",
       "                    False, False, False],\n",
       "        fill_value='?',\n",
       "             dtype=object),\n",
       " 'param_min_samples_split': masked_array(data=[5, 10, 15, 5, 10, 15, 5, 10, 15, 5, 10, 15, 5, 10, 15,\n",
       "                    5, 10, 15, 5, 10, 15, 5, 10, 15, 5, 10, 15],\n",
       "              mask=[False, False, False, False, False, False, False, False,\n",
       "                    False, False, False, False, False, False, False, False,\n",
       "                    False, False, False, False, False, False, False, False,\n",
       "                    False, False, False],\n",
       "        fill_value='?',\n",
       "             dtype=object),\n",
       " 'params': [{'max_depth': 4, 'min_samples_leaf': 20, 'min_samples_split': 5},\n",
       "  {'max_depth': 4, 'min_samples_leaf': 20, 'min_samples_split': 10},\n",
       "  {'max_depth': 4, 'min_samples_leaf': 20, 'min_samples_split': 15},\n",
       "  {'max_depth': 4, 'min_samples_leaf': 25, 'min_samples_split': 5},\n",
       "  {'max_depth': 4, 'min_samples_leaf': 25, 'min_samples_split': 10},\n",
       "  {'max_depth': 4, 'min_samples_leaf': 25, 'min_samples_split': 15},\n",
       "  {'max_depth': 4, 'min_samples_leaf': 30, 'min_samples_split': 5},\n",
       "  {'max_depth': 4, 'min_samples_leaf': 30, 'min_samples_split': 10},\n",
       "  {'max_depth': 4, 'min_samples_leaf': 30, 'min_samples_split': 15},\n",
       "  {'max_depth': 6, 'min_samples_leaf': 20, 'min_samples_split': 5},\n",
       "  {'max_depth': 6, 'min_samples_leaf': 20, 'min_samples_split': 10},\n",
       "  {'max_depth': 6, 'min_samples_leaf': 20, 'min_samples_split': 15},\n",
       "  {'max_depth': 6, 'min_samples_leaf': 25, 'min_samples_split': 5},\n",
       "  {'max_depth': 6, 'min_samples_leaf': 25, 'min_samples_split': 10},\n",
       "  {'max_depth': 6, 'min_samples_leaf': 25, 'min_samples_split': 15},\n",
       "  {'max_depth': 6, 'min_samples_leaf': 30, 'min_samples_split': 5},\n",
       "  {'max_depth': 6, 'min_samples_leaf': 30, 'min_samples_split': 10},\n",
       "  {'max_depth': 6, 'min_samples_leaf': 30, 'min_samples_split': 15},\n",
       "  {'max_depth': 8, 'min_samples_leaf': 20, 'min_samples_split': 5},\n",
       "  {'max_depth': 8, 'min_samples_leaf': 20, 'min_samples_split': 10},\n",
       "  {'max_depth': 8, 'min_samples_leaf': 20, 'min_samples_split': 15},\n",
       "  {'max_depth': 8, 'min_samples_leaf': 25, 'min_samples_split': 5},\n",
       "  {'max_depth': 8, 'min_samples_leaf': 25, 'min_samples_split': 10},\n",
       "  {'max_depth': 8, 'min_samples_leaf': 25, 'min_samples_split': 15},\n",
       "  {'max_depth': 8, 'min_samples_leaf': 30, 'min_samples_split': 5},\n",
       "  {'max_depth': 8, 'min_samples_leaf': 30, 'min_samples_split': 10},\n",
       "  {'max_depth': 8, 'min_samples_leaf': 30, 'min_samples_split': 15}],\n",
       " 'split0_test_score': array([0.7561213 , 0.7561213 , 0.7561213 , 0.7561213 , 0.7561213 ,\n",
       "        0.7561213 , 0.7561213 , 0.7561213 , 0.7561213 , 0.75673045,\n",
       "        0.75673045, 0.75673045, 0.75673045, 0.75673045, 0.75673045,\n",
       "        0.75670245, 0.75670245, 0.75670245, 0.75661842, 0.75661842,\n",
       "        0.75661842, 0.75661142, 0.75661142, 0.75661142, 0.75656941,\n",
       "        0.75656941, 0.75656941]),\n",
       " 'split1_test_score': array([0.75617731, 0.75617731, 0.75617731, 0.75617731, 0.75617731,\n",
       "        0.75617731, 0.75617731, 0.75617731, 0.75617731, 0.75747264,\n",
       "        0.75747264, 0.75747264, 0.75747264, 0.75747264, 0.75747264,\n",
       "        0.75745164, 0.75745164, 0.75745164, 0.75721358, 0.75721358,\n",
       "        0.75721358, 0.75721358, 0.75721358, 0.75721358, 0.75719257,\n",
       "        0.75719257, 0.75719257]),\n",
       " 'split2_test_score': array([0.75603028, 0.75603028, 0.75603028, 0.75603028, 0.75603028,\n",
       "        0.75603028, 0.75603028, 0.75603028, 0.75603028, 0.75684948,\n",
       "        0.75684948, 0.75684948, 0.75684948, 0.75684948, 0.75684948,\n",
       "        0.75681447, 0.75681447, 0.75681447, 0.75661842, 0.75661842,\n",
       "        0.75661842, 0.75660442, 0.75660442, 0.75660442, 0.75664643,\n",
       "        0.75664643, 0.75664643]),\n",
       " 'split3_test_score': array([0.7557152 , 0.7557152 , 0.7557152 , 0.7557152 , 0.7557152 ,\n",
       "        0.7557152 , 0.7557152 , 0.7557152 , 0.7557152 , 0.75668144,\n",
       "        0.75668144, 0.75668144, 0.75668144, 0.75668144, 0.75668144,\n",
       "        0.75664643, 0.75664643, 0.75664643, 0.75663943, 0.75663943,\n",
       "        0.75663943, 0.75656941, 0.75656941, 0.75656941, 0.75649939,\n",
       "        0.75649939, 0.75649939]),\n",
       " 'split4_test_score': array([0.7561423 , 0.7561423 , 0.7561423 , 0.7561423 , 0.7561423 ,\n",
       "        0.7561423 , 0.7561423 , 0.7561423 , 0.7561423 , 0.75687049,\n",
       "        0.75687049, 0.75687049, 0.75687749, 0.75687749, 0.75687749,\n",
       "        0.75684248, 0.75684248, 0.75684248, 0.75698952, 0.75698952,\n",
       "        0.75698952, 0.75697551, 0.75697551, 0.75697551, 0.75680047,\n",
       "        0.75680047, 0.75680047]),\n",
       " 'mean_test_score': array([0.75603728, 0.75603728, 0.75603728, 0.75603728, 0.75603728,\n",
       "        0.75603728, 0.75603728, 0.75603728, 0.75603728, 0.7569209 ,\n",
       "        0.7569209 , 0.7569209 , 0.7569223 , 0.7569223 , 0.7569223 ,\n",
       "        0.75689149, 0.75689149, 0.75689149, 0.75681587, 0.75681587,\n",
       "        0.75681587, 0.75679487, 0.75679487, 0.75679487, 0.75674166,\n",
       "        0.75674166, 0.75674166]),\n",
       " 'std_test_score': array([0.00016822, 0.00016822, 0.00016822, 0.00016822, 0.00016822,\n",
       "        0.00016822, 0.00016822, 0.00016822, 0.00016822, 0.00028484,\n",
       "        0.00028484, 0.00028484, 0.00028461, 0.00028461, 0.00028461,\n",
       "        0.0002891 , 0.0002891 , 0.0002891 , 0.00024389, 0.00024389,\n",
       "        0.00024389, 0.0002564 , 0.0002564 , 0.0002564 , 0.00024666,\n",
       "        0.00024666, 0.00024666]),\n",
       " 'rank_test_score': array([19, 19, 19, 19, 19, 19, 19, 19, 19,  4,  4,  4,  1,  1,  1,  7,  7,\n",
       "         7, 10, 10, 10, 13, 13, 13, 16, 16, 16])}"
      ]
     },
     "execution_count": 31,
     "metadata": {},
     "output_type": "execute_result"
    }
   ],
   "source": [
    "GS.fit(X_train, y_train)\n",
    "GS.cv_results_"
   ]
  },
  {
   "cell_type": "code",
   "execution_count": 32,
   "metadata": {},
   "outputs": [
    {
     "data": {
      "text/plain": [
       "{'max_depth': 6, 'min_samples_leaf': 25, 'min_samples_split': 5}"
      ]
     },
     "execution_count": 32,
     "metadata": {},
     "output_type": "execute_result"
    }
   ],
   "source": [
    "GS.best_params_"
   ]
  },
  {
   "cell_type": "code",
   "execution_count": 33,
   "metadata": {},
   "outputs": [
    {
     "data": {
      "text/plain": [
       "0.7562291259688702"
      ]
     },
     "execution_count": 33,
     "metadata": {},
     "output_type": "execute_result"
    }
   ],
   "source": [
    "GS.best_estimator_.score(X_test, y_test)"
   ]
  },
  {
   "cell_type": "markdown",
   "metadata": {},
   "source": [
    "The Grid Search gave us the optimal parameters for the DecisionTreeClassifier, and it seems to do slightly better than the DecisionTree with default parameters."
   ]
  },
  {
   "cell_type": "markdown",
   "metadata": {},
   "source": [
    "## XGBoost"
   ]
  },
  {
   "cell_type": "markdown",
   "metadata": {},
   "source": [
    "- Initiate XGBClassifier, fit, and determine the training and validation scores. "
   ]
  },
  {
   "cell_type": "code",
   "execution_count": 34,
   "metadata": {
    "scrolled": false
   },
   "outputs": [
    {
     "name": "stdout",
     "output_type": "stream",
     "text": [
      "Training Accuracy: 75.73%\n",
      "Validation accuracy: 75.64%\n",
      "Test Accuracy: {}\n"
     ]
    }
   ],
   "source": [
    "clf = XGBClassifier(eval_metric='mlogloss')\n",
    "clf.fit(X_train, y_train)\n",
    "training_preds = clf.predict(X_train)\n",
    "test_preds = clf.predict(X_test)\n",
    "\n",
    "# Accuracy\n",
    "training_accuracy = accuracy_score(y_train, training_preds)\n",
    "test_accuracy = accuracy_score(y_test, test_preds)\n",
    "print('Training Accuracy: {:.4}%'.format(training_accuracy * 100))\n",
    "print('Validation accuracy: {:.4}%'.format(test_accuracy * 100))\n",
    "print('Test Accuracy: {}')"
   ]
  },
  {
   "cell_type": "code",
   "execution_count": 35,
   "metadata": {},
   "outputs": [
    {
     "data": {
      "text/plain": [
       "0.7563929674207575"
      ]
     },
     "execution_count": 35,
     "metadata": {},
     "output_type": "execute_result"
    }
   ],
   "source": [
    "clf.score(X_test, y_test)"
   ]
  },
  {
   "cell_type": "code",
   "execution_count": 36,
   "metadata": {},
   "outputs": [],
   "source": [
    "# Test different parameters \n",
    "param_grid = {\n",
    "    'learning_rate': [0.2, 0.5],\n",
    "    'max_depth': [6],\n",
    "    'min_child_weight': [1],\n",
    "    'subsample': [0.7],\n",
    "    'n_estimators': [100, 200],\n",
    "}"
   ]
  },
  {
   "cell_type": "code",
   "execution_count": 37,
   "metadata": {},
   "outputs": [
    {
     "name": "stdout",
     "output_type": "stream",
     "text": [
      "Grid Search found the following optimal parameters: \n",
      "learning_rate: 0.2\n",
      "max_depth: 6\n",
      "min_child_weight: 1\n",
      "n_estimators: 200\n",
      "subsample: 0.7\n",
      "\n",
      "Training Accuracy: 75.73%\n",
      "Validation accuracy: 75.64%\n"
     ]
    }
   ],
   "source": [
    "# Utilitze GridSearch to find best parameters\n",
    "grid_clf = GridSearchCV(clf, param_grid, scoring='accuracy', cv=None, n_jobs=1)\n",
    "grid_clf.fit(X_train, y_train)\n",
    "\n",
    "best_parameters = grid_clf.best_params_\n",
    "\n",
    "print('Grid Search found the following optimal parameters: ')\n",
    "for param_name in sorted(best_parameters.keys()):\n",
    "    print('%s: %r' % (param_name, best_parameters[param_name]))\n",
    "\n",
    "training_preds = grid_clf.predict(X_train)\n",
    "test_preds = grid_clf.predict(X_test)\n",
    "training_accuracy = accuracy_score(y_train, training_preds)\n",
    "test_accuracy = accuracy_score(y_test, test_preds)\n",
    "\n",
    "print('')\n",
    "print('Training Accuracy: {:.4}%'.format(training_accuracy * 100))\n",
    "print('Validation accuracy: {:.4}%'.format(test_accuracy * 100))"
   ]
  },
  {
   "cell_type": "code",
   "execution_count": 38,
   "metadata": {},
   "outputs": [
    {
     "data": {
      "text/plain": [
       "0.7563845652950196"
      ]
     },
     "execution_count": 38,
     "metadata": {},
     "output_type": "execute_result"
    }
   ],
   "source": [
    "grid_clf.score(X_test, y_test)"
   ]
  },
  {
   "cell_type": "markdown",
   "metadata": {},
   "source": [
    "Well, that model took long to run, but we seem to have a winner. Based on the accuracy scores of our models, the XGBoost performs the best."
   ]
  },
  {
   "cell_type": "markdown",
   "metadata": {},
   "source": [
    "## Results"
   ]
  },
  {
   "cell_type": "markdown",
   "metadata": {},
   "source": [
    "The results of our model indicated that most of the crashes were Preventable. By spending more money on drivers education in ages 20 - 39, we could curb the total accidents in Chicago drastically."
   ]
  },
  {
   "cell_type": "markdown",
   "metadata": {},
   "source": [
    "## Evaluation\n",
    "Evaluate how well your work solves the stated business problem.\n",
    "\n",
    "***\n",
    "Questions to consider:\n",
    "* How do you interpret the results?\n",
    "* How well does your model fit your data? How much better is this than your baseline model?\n",
    "* How confident are you that your results would generalize beyond the data you have?\n",
    "* How confident are you that this model would benefit the business if put into use?\n",
    "***"
   ]
  },
  {
   "cell_type": "markdown",
   "metadata": {},
   "source": [
    "## Conclusions\n",
    "\n",
    "We recommend investing in online drivers education because this could significantly lower the amount of preventable crashes in the Chicago area. We recommend driver education because it is affordable, easy to implement, and saves a lot more in labor costs vs. repairing all the roads in Chicago.\n",
    "\n",
    "***\n",
    "Questions to consider:\n",
    "* What would you recommend the business do as a result of this work?\n",
    "* What are some reasons why your analysis might not fully solve the business problem?\n",
    "* What else could you do in the future to improve this project?\n",
    "***"
   ]
  },
  {
   "cell_type": "code",
   "execution_count": null,
   "metadata": {},
   "outputs": [],
   "source": []
  }
 ],
 "metadata": {
  "kernelspec": {
   "display_name": "Python 3",
   "language": "python",
   "name": "python3"
  },
  "language_info": {
   "codemirror_mode": {
    "name": "ipython",
    "version": 3
   },
   "file_extension": ".py",
   "mimetype": "text/x-python",
   "name": "python",
   "nbconvert_exporter": "python",
   "pygments_lexer": "ipython3",
   "version": "3.8.5"
  }
 },
 "nbformat": 4,
 "nbformat_minor": 5
}
