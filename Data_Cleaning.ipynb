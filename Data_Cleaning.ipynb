{
 "cells": [
  {
   "cell_type": "code",
   "execution_count": 38,
   "id": "circular-cotton",
   "metadata": {},
   "outputs": [],
   "source": [
    "import pandas as pd\n",
    "import numpy as np"
   ]
  },
  {
   "cell_type": "markdown",
   "id": "owned-rapid",
   "metadata": {},
   "source": [
    "## Data Preparation\n",
    "\n",
    "Describe and justify the process for preparing the data for analysis.\n",
    "\n",
    "***\n",
    "Questions to consider:\n",
    "* Were there variables you dropped or created?\n",
    "* How did you address missing values or outliers?\n",
    "* Why are these choices appropriate given the data and the business problem?\n",
    "***"
   ]
  },
  {
   "cell_type": "code",
   "execution_count": 2,
   "id": "positive-empty",
   "metadata": {},
   "outputs": [],
   "source": [
    "df1 = pd.read_csv('data/Traffic_Crashes_Crashes.csv')"
   ]
  },
  {
   "cell_type": "code",
   "execution_count": 3,
   "id": "square-consistency",
   "metadata": {},
   "outputs": [
    {
     "name": "stderr",
     "output_type": "stream",
     "text": [
      "/Library/Frameworks/Python.framework/Versions/3.9/lib/python3.9/site-packages/IPython/core/interactiveshell.py:3165: DtypeWarning: Columns (19,21,40,41,42,44,48,49,50,53,55,58,59,61,71) have mixed types.Specify dtype option on import or set low_memory=False.\n",
      "  has_raised = await self.run_ast_nodes(code_ast.body, cell_name,\n"
     ]
    }
   ],
   "source": [
    "df2 = pd.read_csv('data/Traffic_Crashes_Vehicle.csv')"
   ]
  },
  {
   "cell_type": "code",
   "execution_count": 4,
   "id": "secret-texas",
   "metadata": {},
   "outputs": [
    {
     "name": "stderr",
     "output_type": "stream",
     "text": [
      "/Library/Frameworks/Python.framework/Versions/3.9/lib/python3.9/site-packages/IPython/core/interactiveshell.py:3165: DtypeWarning: Columns (12,13,20,21,22,23,24,25,26,27,29) have mixed types.Specify dtype option on import or set low_memory=False.\n",
      "  has_raised = await self.run_ast_nodes(code_ast.body, cell_name,\n"
     ]
    }
   ],
   "source": [
    "df3 = pd.read_csv('data/Traffic_Crashes_People.csv')"
   ]
  },
  {
   "cell_type": "code",
   "execution_count": 83,
   "id": "heavy-heading",
   "metadata": {},
   "outputs": [],
   "source": [
    "df_crash = df1.copy()\n",
    "df_vehicle = df2.copy()\n",
    "df_people = df3.copy()"
   ]
  },
  {
   "cell_type": "markdown",
   "id": "otherwise-console",
   "metadata": {},
   "source": [
    "***\n",
    "# Cleaning Crashes"
   ]
  },
  {
   "cell_type": "code",
   "execution_count": 84,
   "id": "acoustic-right",
   "metadata": {
    "tags": []
   },
   "outputs": [
    {
     "name": "stdout",
     "output_type": "stream",
     "text": [
      "<class 'pandas.core.frame.DataFrame'>\n",
      "RangeIndex: 554228 entries, 0 to 554227\n",
      "Data columns (total 12 columns):\n",
      " #   Column                   Non-Null Count   Dtype  \n",
      "---  ------                   --------------   -----  \n",
      " 0   CRASH_RECORD_ID          554228 non-null  object \n",
      " 1   TRAFFIC_CONTROL_DEVICE   554228 non-null  object \n",
      " 2   DEVICE_CONDITION         554228 non-null  object \n",
      " 3   WEATHER_CONDITION        554228 non-null  object \n",
      " 4   LIGHTING_CONDITION       554228 non-null  object \n",
      " 5   TRAFFICWAY_TYPE          554228 non-null  object \n",
      " 6   ROADWAY_SURFACE_COND     554228 non-null  object \n",
      " 7   ROAD_DEFECT              554228 non-null  object \n",
      " 8   PRIM_CONTRIBUTORY_CAUSE  554228 non-null  object \n",
      " 9   SEC_CONTRIBUTORY_CAUSE   554228 non-null  object \n",
      " 10  LATITUDE                 551029 non-null  float64\n",
      " 11  LONGITUDE                551029 non-null  float64\n",
      "dtypes: float64(2), object(10)\n",
      "memory usage: 50.7+ MB\n"
     ]
    }
   ],
   "source": [
    "# drop columns that are not relevant to \"Car Crash Contributors\". For example, information about the injury severity does not \n",
    "# tell us a contributing factor to a crash.\n",
    "\n",
    "not_relevant_info = ['RD_NO', 'CRASH_DATE', 'CRASH_DATE_EST_I', 'LANE_CNT', 'REPORT_TYPE', 'CRASH_TYPE', \\\n",
    "                     'INTERSECTION_RELATED_I', 'NOT_RIGHT_OF_WAY_I', 'DATE_POLICE_NOTIFIED', 'DAMAGE', 'NUM_UNITS', \\\n",
    "                     'HIT_AND_RUN_I', 'PHOTOS_TAKEN_I', 'STATEMENTS_TAKEN_I', 'FIRST_CRASH_TYPE', \\\n",
    "                     'DOORING_I', 'WORK_ZONE_I', 'WORK_ZONE_TYPE', 'WORKERS_PRESENT_I', 'ALIGNMENT', \\\n",
    "                     'MOST_SEVERE_INJURY', 'INJURIES_TOTAL', 'INJURIES_FATAL', 'INJURIES_INCAPACITATING', \\\n",
    "                     'INJURIES_NON_INCAPACITATING', 'INJURIES_REPORTED_NOT_EVIDENT', 'INJURIES_NO_INDICATION', \\\n",
    "                     'INJURIES_REPORTED_NOT_EVIDENT', 'INJURIES_NO_INDICATION', 'INJURIES_UNKNOWN', \\\n",
    "                     'STREET_NO', 'STREET_DIRECTION', 'STREET_NAME', 'BEAT_OF_OCCURRENCE', \\\n",
    "                     'LOCATION', 'CRASH_HOUR', 'CRASH_DAY_OF_WEEK', 'CRASH_MONTH', 'POSTED_SPEED_LIMIT']\n",
    "\n",
    "df_crash.drop((not_relevant_info), axis = 1, inplace = True)\n",
    "df_crash.info()"
   ]
  },
  {
   "cell_type": "code",
   "execution_count": 85,
   "id": "fantastic-offense",
   "metadata": {},
   "outputs": [],
   "source": [
    "# df_crash.dropna(subset = ['LATITUDE', 'LONGITUDE'], inplace = True)\n",
    "# from folium.plugins import FastMarkerCluster\n",
    "# import folium\n",
    "\n",
    "\n",
    "# my_map = folium.Map([df_crash['LATITUDE'].mean(), df_crash['LONGITUDE'].mean()], zoom_start=9)\n",
    "\n",
    "# my_map.add_child(FastMarkerCluster(df_crash[['LATITUDE', 'LONGITUDE']].values.tolist()))\n",
    "# my_map"
   ]
  },
  {
   "cell_type": "code",
   "execution_count": 86,
   "id": "hungarian-handle",
   "metadata": {},
   "outputs": [],
   "source": [
    "# Helper Functions\n",
    "def traffic_control_transfomer(val):\n",
    "    if val in relevant_device_present:\n",
    "        return 1\n",
    "    else:\n",
    "        return 0\n",
    "    \n",
    "def device_working(val):\n",
    "    if val in working_devices:\n",
    "        return 1\n",
    "    else:\n",
    "        return 0\n",
    "\n",
    "def device_present(val):\n",
    "    if val == True:\n",
    "        return 1\n",
    "    else:\n",
    "        return 0\n",
    "\n",
    "def weather_condition(val):\n",
    "    if val in bad_weather_cond:\n",
    "        return 1\n",
    "    else:\n",
    "        return 0\n",
    "\n",
    "def visibility(val):\n",
    "    if val in bad_visibility:\n",
    "        return 1\n",
    "    else:\n",
    "        return 0\n",
    "\n",
    "def trafficway_danger(val):\n",
    "    if val == 'NOT DIVIDED':\n",
    "        return 1\n",
    "    else:\n",
    "        return 0\n",
    "\n",
    "def road_cond(val):\n",
    "    if val in bad_road_cond:\n",
    "        return 1\n",
    "    else:\n",
    "        return 0\n",
    "\n",
    "def defect_road(val):\n",
    "    if val in road_defect:\n",
    "        return 1\n",
    "    else:\n",
    "        return 0\n",
    "    \n",
    "def crash_cause(val):\n",
    "    if val in driving:\n",
    "        return 1\n",
    "    elif val in behavior:\n",
    "        return 2\n",
    "    elif val in road:\n",
    "        return 3\n",
    "    else:\n",
    "        return 4\n",
    "\n",
    "def two(val):\n",
    "    if val == False:\n",
    "        return 0\n",
    "    else:\n",
    "        return 1"
   ]
  },
  {
   "cell_type": "code",
   "execution_count": 87,
   "id": "southwest-lesson",
   "metadata": {
    "tags": []
   },
   "outputs": [],
   "source": [
    "# Initialize list to help map columns from object to int64 based upon the 4 main factors\n",
    "relevant_device_present = ['TRAFFIC SIGNAL', 'STOP SIGN/FLASHER', 'OTHER', 'LANE USE MARKING', 'YIELD', 'OTHER REG. SIGN', \\\n",
    "                 'OTHER WARNING SIGN', 'RAILROAD CROSSING GATE', 'PEDESTRIAN CROSSING SIGN', 'POLICE/FLAGMAN', 'SCHOOL ZONE', \\\n",
    "                 'DELINEATORS', 'FLASHING CONTROL SIGNAL', 'BICYCLE CROSSING SIGN', 'NO PASSING', 'RR CROSSING SIGN']\n",
    "working_devices = ['FUNCTIONING PROPERLY', 'WORN REFLECTIVE MATERIAL']\n",
    "bad_weather_cond = ['RAIN', 'SNOW', 'FOG/SMOKE/HAZE', 'SLEET/HAIL', 'FREEZING RAIN/DRIZZLE', 'BLOWING SNOW', \\\n",
    "                   'SEVERE CROSS WIND GATE', 'BLOWING SAND, SOIL, DIRT']\n",
    "bad_visibility = ['DARKNESS', 'DUSK', 'DAWN']\n",
    "bad_road_cond = ['WET', 'SNOW OR SLUSH', 'ICE', 'SAND, MUD, DIRT']\n",
    "road_defect = ['RUT, HOLES', 'WORN_SURFACE']"
   ]
  },
  {
   "cell_type": "code",
   "execution_count": 88,
   "id": "surgical-there",
   "metadata": {
    "tags": []
   },
   "outputs": [],
   "source": [
    "# Map all columns to int64 to model\n",
    "df_crash['BAD_WEATHER'] = df_crash['WEATHER_CONDITION'].map(weather_condition)\n",
    "df_crash['BAD_VISIBILITY'] = df_crash['LIGHTING_CONDITION'].map(visibility)\n",
    "df_crash['BAD_TRAFFIC'] = df_crash['TRAFFICWAY_TYPE'].map(trafficway_danger)\n",
    "df_crash['BAD_ROAD_CONDITION'] = df_crash['ROADWAY_SURFACE_COND'].map(road_cond)\n",
    "df_crash['DEFECT_ROAD'] = df_crash['ROAD_DEFECT'].map(defect_road)\n",
    "\n",
    "df_crash['TRAFFIC_DEVICE_PRESENT'] = df_crash['TRAFFIC_CONTROL_DEVICE'].map(traffic_control_transfomer)\n",
    "df_crash['DEVICE_WORKING'] = df_crash['DEVICE_CONDITION'].map(device_working)"
   ]
  },
  {
   "cell_type": "code",
   "execution_count": 89,
   "id": "specific-belly",
   "metadata": {
    "tags": []
   },
   "outputs": [],
   "source": [
    "# Final 'Device' column that returns \"1\" when the traffice device is both present, AND working.\n",
    "device_list = (df_crash['TRAFFIC_DEVICE_PRESENT'] == 1) & (df_crash['DEVICE_WORKING'] == 1)\n",
    "device_dataframe = pd.DataFrame(device_list, columns = ['TRAFFIC_DEVICE'], index = df_crash.index)\n",
    "frames = [df_crash, device_dataframe]\n",
    "df_crash = pd.concat(frames, axis = 1)\n",
    "df_crash['WORKING_TRAFFIC_DEVICE'] = df_crash['TRAFFIC_DEVICE'].map(device_present)"
   ]
  },
  {
   "cell_type": "code",
   "execution_count": 90,
   "id": "banned-stephen",
   "metadata": {
    "tags": []
   },
   "outputs": [],
   "source": [
    "# List for mapping \"PRIMARY CONTRIBUTORY CAUSE\" as recorded by officer at scene.\n",
    "driving = ['FAILING TO YIELD RIGHT-OF-WAY', 'FOLLOWING TOO CLOSELY', 'IMPROPER OVERTAKING/PASSING', 'FAILING TO REDUCE SPEED TO AVOID CRASH', \\\n",
    "          'IMPROPER BACKING', 'IMPROPER LANE USAGE', 'IMPROPER TURNING/NO SIGNAL', 'DRIVING SKILLS/KNOWLEDGE/EXPERIENCE', \\\n",
    "          'DISREGARDING TRAFFIC SIGNALS', 'DISREGARDING STOP SIGN', 'DISTRACTION - FROM INSIDE VEHICLE', 'DRIVING ON WRONG SIDE/WRONG WAY', \\\n",
    "          'DISTRACTION - FROM OUTSIDE VEHICLE', 'EXCEEDING AUTHORIZED SPEED LIMIT', 'EXCEEDING SAFE SPEED FOR CONDITIONS', \\\n",
    "          'DISREGARDING OTHER TRAFFIC SIGNS', 'DISREGARDING ROAD MARKINGS', 'TURNING RIGHT ON RED', 'RELATED TO BUS STOP', 'DISREGARDING YIELD SIGN', \\\n",
    "          'DISTRACTION - OTHER ELECTRONIC DEVICE (NAVIGATION DEVICE, DVD PLAYER, ETC.)', 'PASSING STOPPED SCHOOL BUS']\n",
    "behavior = ['PHYSICAL CONDITION OF DRIVER', 'OPERATING VEHICLE IN ERRATIC, RECKLESS, CARELESS, NEGLIGENT OR AGGRESSIVE MANNER' \\\n",
    "           'UNDER THE INFLUENCE OF ALCOHOL/DRUGS (USE WHEN ARREST IS EFFECTED)', 'CELL PHONE USE OTHER THAN TEXTING', \\\n",
    "           'HAD BEEN DRINKING (USE WHEN ARREST IS NOT MADE)', 'TEXTING']\n",
    "road = ['WEATHER', 'VISION OBSCURED (SIGNS, TREE LIMBS, BUILDINGS, ETC.)', 'ROAD ENGINEERING/SURFACE/MARKING DEFECTS', \\\n",
    "       'ROAD CONSTRUCTION/MAINTENANCE']\n",
    "other = ['EQUIPMENT - VEHICLE CONDITION', 'EVASIVE ACTION DUE TO ANIMAL, OBJECT, NONMOTORIST', 'ANIMAL', \\\n",
    "         'BICYCLE ADVANCING LEGALLY ON RED LIGHT', 'OBSTRUCTED CROSSWALKS', 'MOTORCYCLE ADVANCING LEGALLY ON RED LIGHT']\n",
    "\n",
    "df_crash['Target1'] = df_crash['PRIM_CONTRIBUTORY_CAUSE'].map(crash_cause)"
   ]
  },
  {
   "cell_type": "code",
   "execution_count": 91,
   "id": "inappropriate-alcohol",
   "metadata": {
    "tags": []
   },
   "outputs": [],
   "source": [
    "# for index, row in df_crash.iterrows(): \n",
    "#     if df_crash.loc[index,'PRIM_CONTRIBUTORY_CAUSE'] == 'UNABLE TO DETERMINE':\n",
    "#         if (df_crash.loc[index,'SEC_CONTRIBUTORY_CAUSE'] != 'UNABLE TO DETERMINE') & (df_crash.loc[index,'SEC_CONTRIBUTORY_CAUSE'] != 'NOT APPLICABLE'):\n",
    "#             df_crash.loc[index,'PRIM_CONTRIBUTORY_CAUSE'] = df_crash.loc[index,'SEC_CONTRIBUTORY_CAUSE']"
   ]
  },
  {
   "cell_type": "code",
   "execution_count": 92,
   "id": "personalized-roberts",
   "metadata": {},
   "outputs": [],
   "source": [
    "# Converting 'UNABLE TO DETERMINE' columns to be recorded as \"road\" when 'BAD ROAD CONDITION' is also true\n",
    "df_crash['is_two'] = (df_crash['Target1'] == 4) & (df_crash['BAD_ROAD_CONDITION'] == 1)\n",
    "df_crash['Target'] = df_crash['Target1'] + df_crash['is_two']\n",
    "df_crash['is_two'] = df_crash['is_two'].map(two)\n",
    "\n",
    "df_crash['Target'] = df_crash['Target1'] + df_crash['is_two']"
   ]
  },
  {
   "cell_type": "code",
   "execution_count": 93,
   "id": "virtual-tracy",
   "metadata": {},
   "outputs": [],
   "source": [
    "# Had to separate this helper function due to Python errors\n",
    "def road(val):\n",
    "    if val == 5:\n",
    "        return 2\n",
    "    else:\n",
    "        return val\n",
    "df_crash['Target'] = df_crash['Target'].map(road)"
   ]
  },
  {
   "cell_type": "code",
   "execution_count": 94,
   "id": "patient-slide",
   "metadata": {
    "tags": []
   },
   "outputs": [],
   "source": [
    "# Drop transformed columns to have final clean dataset\n",
    "unnecessary_traffic_columns = ['TRAFFIC_CONTROL_DEVICE', 'DEVICE_CONDITION', 'TRAFFIC_DEVICE_PRESENT', 'DEVICE_WORKING', \\\n",
    "                              'WEATHER_CONDITION', 'LIGHTING_CONDITION', 'TRAFFICWAY_TYPE', 'ROADWAY_SURFACE_COND', 'ROAD_DEFECT', \\\n",
    "                              'PRIM_CONTRIBUTORY_CAUSE', 'SEC_CONTRIBUTORY_CAUSE', 'TRAFFIC_DEVICE', 'Target1', 'is_two']\n",
    "df_crash.drop(unnecessary_traffic_columns, axis = 1, inplace = True)"
   ]
  },
  {
   "cell_type": "code",
   "execution_count": 95,
   "id": "competitive-copyright",
   "metadata": {},
   "outputs": [],
   "source": [
    "df_crash.to_csv('data/cleaned_crash_data.csv')"
   ]
  },
  {
   "cell_type": "code",
   "execution_count": 96,
   "id": "worth-minority",
   "metadata": {},
   "outputs": [],
   "source": [
    "df_crash = pd.read_csv('data/cleaned_crash_data.csv')\n",
    "columns_to_drop = ['LONGITUDE', 'LATITUDE', 'Unnamed: 0']\n",
    "df_crash.drop((columns_to_drop), axis = 1, inplace = True)"
   ]
  },
  {
   "cell_type": "markdown",
   "id": "artistic-feelings",
   "metadata": {},
   "source": [
    "***\n",
    "# Cleaning People"
   ]
  },
  {
   "cell_type": "code",
   "execution_count": 97,
   "id": "entire-exception",
   "metadata": {},
   "outputs": [
    {
     "data": {
      "text/plain": [
       "Index(['CRASH_RECORD_ID', 'CRASH_DATE', 'AGE', 'DRIVER_ACTION',\n",
       "       'DRIVER_VISION', 'PHYSICAL_CONDITION'],\n",
       "      dtype='object')"
      ]
     },
     "execution_count": 97,
     "metadata": {},
     "output_type": "execute_result"
    }
   ],
   "source": [
    "df_people.drop(['PERSON_ID', 'PERSON_TYPE', 'RD_NO', 'VEHICLE_ID', 'SEAT_NO', 'CITY', 'STATE', 'ZIPCODE', 'SEX', \n",
    "         'DRIVERS_LICENSE_STATE', 'DRIVERS_LICENSE_CLASS', 'SAFETY_EQUIPMENT', 'AIRBAG_DEPLOYED', 'EJECTION', \n",
    "         'INJURY_CLASSIFICATION', 'HOSPITAL', 'EMS_AGENCY', 'EMS_RUN_NO', 'PEDPEDAL_ACTION', 'PEDPEDAL_VISIBILITY', \n",
    "         'PEDPEDAL_LOCATION', 'BAC_RESULT', 'BAC_RESULT VALUE', 'CELL_PHONE_USE'], axis=1, inplace=True)\n",
    "df_people.columns"
   ]
  },
  {
   "cell_type": "code",
   "execution_count": 98,
   "id": "intensive-organic",
   "metadata": {},
   "outputs": [],
   "source": [
    "#Drop missing and null values\n",
    "df_people.dropna(subset=['AGE'], inplace=True)\n",
    "df_people.dropna(subset=['DRIVER_ACTION'], inplace=True)\n",
    "df_people.dropna(subset=['DRIVER_VISION'], inplace=True)\n",
    "df_people.dropna(subset=['PHYSICAL_CONDITION'], inplace=True)"
   ]
  },
  {
   "cell_type": "code",
   "execution_count": 99,
   "id": "similar-vacation",
   "metadata": {},
   "outputs": [],
   "source": [
    "#Cleaning the 3 columns with many unknown values\n",
    "df_people = df_people[df_people['DRIVER_VISION']!='UNKNOWN']\n",
    "df_people = df_people[df_people['DRIVER_ACTION']!='UNKNOWN']\n",
    "df_people = df_people[df_people['PHYSICAL_CONDITION']!='UNKNOWN']"
   ]
  },
  {
   "cell_type": "code",
   "execution_count": 100,
   "id": "passive-feelings",
   "metadata": {},
   "outputs": [
    {
     "name": "stdout",
     "output_type": "stream",
     "text": [
      "24-64    359431\n",
      "15-23     55573\n",
      "65+       35406\n",
      "Name: AGE_RANGES, dtype: int64\n"
     ]
    }
   ],
   "source": [
    "#Formatting, cleaning, and binning the AGE column. 15 is the youngest age to legally drive in the state of Illinois\n",
    "#with a learner's permit. \n",
    "df_people = df_people[df_people['AGE']>=15]\n",
    "bins = [14, 23, 64, np.inf]\n",
    "names = ['15-23', '24-64', '65+']\n",
    "df_people['AGE_RANGES'] = pd.cut(df_people['AGE'], bins, labels=names)\n",
    "print(df_people['AGE_RANGES'].value_counts())\n",
    "# df.drop('AGE', axis=1, inplace=True)"
   ]
  },
  {
   "cell_type": "code",
   "execution_count": 104,
   "id": "planned-ferry",
   "metadata": {},
   "outputs": [],
   "source": [
    "dangerous_beh = ['IMPAIRED - ALCOHOL', 'FATIGUED/ASLEEP', 'EMOTIONAL', 'ILLNESS/FAINTED', 'HAD BEEN DRINKING', \n",
    "                 'IMPAIRED - DRUGS', 'IMPAIRED - ALCOHOL AND DRUGS', 'MEDICATED']\n",
    "\n",
    "def physical_condition(val):\n",
    "    if val in dangerous_beh:\n",
    "        return 1\n",
    "    else:\n",
    "        return 0\n",
    "    \n",
    "df_people['DANGEROUS_BEH'] = df_people['PHYSICAL_CONDITION'].map(physical_condition)\n",
    "\n",
    "bad_vision = ['OTHER', 'MOVING VEHICLES', 'PARKED VEHICLES', 'WINDSHIELD (WATER/ICE)', 'BLINDED - SUNLIGHT', 'HILLCREST',\n",
    "             'EMBANKMENT', 'BLOWING MATERIALS', 'SIGNBOARD']\n",
    "\n",
    "def obscured_vision(val):\n",
    "    if val in bad_vision:\n",
    "        return 1\n",
    "    else:\n",
    "        return 0\n",
    "    \n",
    "df_people['OBSCURED_VIZ'] = df_people['DRIVER_VISION'].map(obscured_vision)\n",
    "\n",
    "bad_action = ['OTHER', 'FAILED TO YIELD', 'FOLLOWED TOO CLOSELY', 'IMPROPER TURN', 'IMPROPER BACKING', 'IMPROPER LANE CHANGE',\n",
    "             'IMPROPER PASSING', 'TOO FAST FOR CONDITIONS', 'DISREGARDED CONTROL DEVICES', 'IMPROPER PARKING',\n",
    "             'WRONG WAY/SIDE', 'CELL PHONE USE OTHER THAN TEXTING', 'OVERCORRECTED', 'EMERGENCY VEHICLE ON CALL',\n",
    "             'EVADING POLICE VEHICLE', 'TEXTING', 'STOPPED SCHOOL BUS', 'LICENSE RESTRICTIONS']\n",
    "\n",
    "def driver_error(val):\n",
    "    if val in bad_action:\n",
    "        return 1\n",
    "    else:\n",
    "        return 0\n",
    "    \n",
    "df_people['DRIVER_ERROR'] = df_people['DRIVER_ACTION'].map(driver_error)\n",
    "\n",
    "highrisk_ages = ['15-23', '65+']\n",
    "\n",
    "def ages(val):\n",
    "    if val in highrisk_ages:\n",
    "        return 1\n",
    "    else:\n",
    "        return 0\n",
    "    \n",
    "df_people['HIGHRISK_AGERANGES'] = df_people['AGE_RANGES'].map(ages)\n",
    "\n",
    "unnecessary_columns = ['AGE', 'DRIVER_ACTION', 'DRIVER_VISION', 'PHYSICAL_CONDITION', 'AGE_RANGES']\n",
    "df_people.drop(unnecessary_columns, axis = 1, inplace=True)"
   ]
  },
  {
   "cell_type": "markdown",
   "id": "greenhouse-winter",
   "metadata": {},
   "source": [
    "***\n",
    "# Cleaning Vehicles"
   ]
  },
  {
   "cell_type": "code",
   "execution_count": 105,
   "id": "competitive-mount",
   "metadata": {},
   "outputs": [],
   "source": [
    "df_vehicle = df_vehicle[['CRASH_RECORD_ID', 'NUM_PASSENGERS', 'VEHICLE_DEFECT']]"
   ]
  },
  {
   "cell_type": "code",
   "execution_count": 106,
   "id": "clinical-relevance",
   "metadata": {},
   "outputs": [],
   "source": [
    "No_def = ['NONE', 'UNKNOWN']\n",
    "\n",
    "def veh_defect(val):\n",
    "    if val not in No_def:\n",
    "        return 1\n",
    "    else:\n",
    "        return 0\n",
    "    \n",
    "df_vehicle['VEHICLE_DEFECT'] = df_vehicle['VEHICLE_DEFECT'].map(veh_defect)\n",
    "\n",
    "\n",
    "def passengers(val):\n",
    "    if val >= 1:\n",
    "        return 1\n",
    "    else:\n",
    "        pass\n",
    "\n",
    "df_vehicle['NUM_PASSENGERS'] = df_vehicle['NUM_PASSENGERS'].map(passengers)"
   ]
  },
  {
   "cell_type": "code",
   "execution_count": 102,
   "id": "printable-productivity",
   "metadata": {},
   "outputs": [],
   "source": [
    "df_vehicle.NUM_PASSENGERS = df_vehicle.NUM_PASSENGERS.fillna(0)"
   ]
  },
  {
   "cell_type": "code",
   "execution_count": 109,
   "id": "desperate-representation",
   "metadata": {},
   "outputs": [],
   "source": [
    "main_df = df_crash.merge(df_vehicle, on='CRASH_RECORD_ID', how='inner').merge(df_people, on='CRASH_RECORD_ID', how='inner')"
   ]
  },
  {
   "cell_type": "code",
   "execution_count": 110,
   "id": "breeding-afghanistan",
   "metadata": {},
   "outputs": [],
   "source": [
    "main_df.CRASH_DATE = pd.to_datetime(main_df.CRASH_DATE)"
   ]
  },
  {
   "cell_type": "code",
   "execution_count": 111,
   "id": "material-indicator",
   "metadata": {},
   "outputs": [],
   "source": [
    "main_df.to_csv('data/cleaned_combined_data.csv')"
   ]
  },
  {
   "cell_type": "code",
   "execution_count": 112,
   "id": "mighty-border",
   "metadata": {},
   "outputs": [
    {
     "name": "stdout",
     "output_type": "stream",
     "text": [
      "<class 'pandas.core.frame.DataFrame'>\n",
      "Int64Index: 952140 entries, 0 to 952139\n",
      "Data columns (total 15 columns):\n",
      " #   Column                  Non-Null Count   Dtype         \n",
      "---  ------                  --------------   -----         \n",
      " 0   CRASH_RECORD_ID         952140 non-null  object        \n",
      " 1   BAD_WEATHER             952140 non-null  int64         \n",
      " 2   BAD_VISIBILITY          952140 non-null  int64         \n",
      " 3   BAD_TRAFFIC             952140 non-null  int64         \n",
      " 4   BAD_ROAD_CONDITION      952140 non-null  int64         \n",
      " 5   DEFECT_ROAD             952140 non-null  int64         \n",
      " 6   WORKING_TRAFFIC_DEVICE  952140 non-null  int64         \n",
      " 7   Target                  952140 non-null  int64         \n",
      " 8   NUM_PASSENGERS          171341 non-null  float64       \n",
      " 9   VEHICLE_DEFECT          952140 non-null  int64         \n",
      " 10  CRASH_DATE              952140 non-null  datetime64[ns]\n",
      " 11  DANGEROUS_BEH           952140 non-null  int64         \n",
      " 12  OBSCURED_VIZ            952140 non-null  int64         \n",
      " 13  DRIVER_ERROR            952140 non-null  int64         \n",
      " 14  HIGHRISK_AGERANGES      952140 non-null  int64         \n",
      "dtypes: datetime64[ns](1), float64(1), int64(12), object(1)\n",
      "memory usage: 116.2+ MB\n"
     ]
    }
   ],
   "source": [
    "main_df.info()"
   ]
  },
  {
   "cell_type": "code",
   "execution_count": null,
   "id": "national-encyclopedia",
   "metadata": {},
   "outputs": [],
   "source": []
  }
 ],
 "metadata": {
  "kernelspec": {
   "display_name": "Python 3",
   "language": "python",
   "name": "python3"
  },
  "language_info": {
   "codemirror_mode": {
    "name": "ipython",
    "version": 3
   },
   "file_extension": ".py",
   "mimetype": "text/x-python",
   "name": "python",
   "nbconvert_exporter": "python",
   "pygments_lexer": "ipython3",
   "version": "3.9.2"
  }
 },
 "nbformat": 4,
 "nbformat_minor": 5
}
