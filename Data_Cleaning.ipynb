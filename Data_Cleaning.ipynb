{
 "cells": [
  {
   "cell_type": "markdown",
   "id": "powered-lighting",
   "metadata": {},
   "source": [
    "# Data Preparation\n",
    "\n",
    "Since we are looking at contributing factors to a car crash, information that occurs after the crash event is not utilizable. \n",
    "So, we drop unncessary columns and transform the 'object' data types in the dataframe into a 'int' data type in order for us to pass it into a model.\n",
    "\n",
    "For missing values, if there was a way to fill those in with a reasonable explaination, we did so. Luckily, missing values mostly fell under the columns which we determined not relevant to the crash.\n",
    "\n",
    "First we dropped all unnecessary columns such as injury severity and street direction. After dropping missing values we could not reasonably populate ourselves, we were left with a dataset of ~950,000 entries. Then, we mapped all the object data types into an int or float 64 to pass into our model. Finally, we created a Target column to label the crashes as Preventable or Less Preventable.\n",
    "***"
   ]
  },
  {
   "cell_type": "markdown",
   "id": "military-fireplace",
   "metadata": {},
   "source": [
    "explain why we used our columns and predictors\n"
   ]
  },
  {
   "cell_type": "code",
   "execution_count": 1,
   "id": "abstract-albert",
   "metadata": {},
   "outputs": [],
   "source": [
    "import pandas as pd\n",
    "import numpy as np\n",
    "from sklearn.model_selection import train_test_split, cross_val_score\n",
    "from sklearn.dummy import DummyClassifier\n",
    "from sklearn.metrics import plot_confusion_matrix\n",
    "import matplotlib.pyplot as plt\n",
    "import seaborn as sns\n",
    "%matplotlib inline"
   ]
  },
  {
   "cell_type": "code",
   "execution_count": 2,
   "id": "horizontal-superintendent",
   "metadata": {},
   "outputs": [],
   "source": [
    "df_crash = pd.read_csv('data/raw_data/Traffic_Crashes_Crashes.csv', low_memory=False)"
   ]
  },
  {
   "cell_type": "code",
   "execution_count": 3,
   "id": "relative-balloon",
   "metadata": {},
   "outputs": [],
   "source": [
    "df_vehicle = pd.read_csv('data/raw_data/Traffic_Crashes_Vehicle.csv', low_memory=False)"
   ]
  },
  {
   "cell_type": "code",
   "execution_count": 4,
   "id": "stopped-syndication",
   "metadata": {},
   "outputs": [],
   "source": [
    "df_people = pd.read_csv('data/raw_data/Traffic_Crashes_People.csv', low_memory=False)"
   ]
  },
  {
   "cell_type": "markdown",
   "id": "sunset-financing",
   "metadata": {},
   "source": [
    "***\n",
    "# Cleaning Crashes"
   ]
  },
  {
   "cell_type": "markdown",
   "id": "pediatric-pontiac",
   "metadata": {},
   "source": [
    "### Dropping Columns\n",
    "\n",
    "\n",
    "Within the Crashes dataset, our team determined that there were a lot of columns that did not contribute any value to the \n",
    "stakeholder's business problem, which is identifying causes of a car crash. Information such as injuries may tell us the severity of the crash, but not a clue on to how the crash occured. Same applies to when the police were notified and time it took place.\n",
    "\n",
    "Columns such as 'INTERSECTION_RELATED_I', 'NOT_RIGHT_OF_WAY_I' may contain relevant information, however they hold too many null values for us to fill, so we decided to drop them.\n",
    "\n",
    "Columns such 'STREET_DIRECTION' and 'ALIGNMENT' tells us the road shape, but since it is not feasible to change any of these roads - meaning they will always have turns and a direction - so we also left these columns from our final dataset."
   ]
  },
  {
   "cell_type": "code",
   "execution_count": 5,
   "id": "removable-experiment",
   "metadata": {
    "tags": []
   },
   "outputs": [
    {
     "name": "stdout",
     "output_type": "stream",
     "text": [
      "<class 'pandas.core.frame.DataFrame'>\n",
      "RangeIndex: 554228 entries, 0 to 554227\n",
      "Data columns (total 12 columns):\n",
      " #   Column                   Non-Null Count   Dtype  \n",
      "---  ------                   --------------   -----  \n",
      " 0   CRASH_RECORD_ID          554228 non-null  object \n",
      " 1   TRAFFIC_CONTROL_DEVICE   554228 non-null  object \n",
      " 2   DEVICE_CONDITION         554228 non-null  object \n",
      " 3   WEATHER_CONDITION        554228 non-null  object \n",
      " 4   LIGHTING_CONDITION       554228 non-null  object \n",
      " 5   TRAFFICWAY_TYPE          554228 non-null  object \n",
      " 6   ROADWAY_SURFACE_COND     554228 non-null  object \n",
      " 7   ROAD_DEFECT              554228 non-null  object \n",
      " 8   PRIM_CONTRIBUTORY_CAUSE  554228 non-null  object \n",
      " 9   SEC_CONTRIBUTORY_CAUSE   554228 non-null  object \n",
      " 10  LATITUDE                 551029 non-null  float64\n",
      " 11  LONGITUDE                551029 non-null  float64\n",
      "dtypes: float64(2), object(10)\n",
      "memory usage: 50.7+ MB\n"
     ]
    }
   ],
   "source": [
    "# Drop columns that are not relevant to \"Car Crash Contributors\". For example, information about the injury severity does not \n",
    "# tell us a contributing factor to a crash.\n",
    "\n",
    "not_relevant_info = ['RD_NO', 'CRASH_DATE', 'CRASH_DATE_EST_I', 'LANE_CNT', 'REPORT_TYPE', 'CRASH_TYPE', \\\n",
    "                     'INTERSECTION_RELATED_I', 'NOT_RIGHT_OF_WAY_I', 'DATE_POLICE_NOTIFIED', 'DAMAGE', 'NUM_UNITS', \\\n",
    "                     'HIT_AND_RUN_I', 'PHOTOS_TAKEN_I', 'STATEMENTS_TAKEN_I', 'FIRST_CRASH_TYPE', \\\n",
    "                     'DOORING_I', 'WORK_ZONE_I', 'WORK_ZONE_TYPE', 'WORKERS_PRESENT_I', 'ALIGNMENT', \\\n",
    "                     'MOST_SEVERE_INJURY', 'INJURIES_TOTAL', 'INJURIES_FATAL', 'INJURIES_INCAPACITATING', \\\n",
    "                     'INJURIES_NON_INCAPACITATING', 'INJURIES_REPORTED_NOT_EVIDENT', 'INJURIES_NO_INDICATION', \\\n",
    "                     'INJURIES_REPORTED_NOT_EVIDENT', 'INJURIES_NO_INDICATION', 'INJURIES_UNKNOWN', \\\n",
    "                     'STREET_NO', 'STREET_DIRECTION', 'STREET_NAME', 'BEAT_OF_OCCURRENCE', \\\n",
    "                     'LOCATION', 'CRASH_HOUR', 'CRASH_DAY_OF_WEEK', 'CRASH_MONTH', 'POSTED_SPEED_LIMIT']\n",
    "\n",
    "df_crash.drop((not_relevant_info), axis = 1, inplace = True)\n",
    "df_crash.info()"
   ]
  },
  {
   "cell_type": "code",
   "execution_count": 6,
   "id": "public-amateur",
   "metadata": {},
   "outputs": [],
   "source": [
    "# Helper Functions\n",
    "def traffic_control_transfomer(val):\n",
    "    if val in relevant_device_present:\n",
    "        return 1\n",
    "    else:\n",
    "        return 0\n",
    "    \n",
    "def device_working(val):\n",
    "    if val in working_devices:\n",
    "        return 1\n",
    "    else:\n",
    "        return 0\n",
    "\n",
    "def device_present(val):\n",
    "    if val == True:\n",
    "        return 1\n",
    "    else:\n",
    "        return 0\n",
    "\n",
    "def weather_condition(val):\n",
    "    if val in bad_weather_cond:\n",
    "        return 1\n",
    "    else:\n",
    "        return 0\n",
    "\n",
    "def visibility(val):\n",
    "    if val in bad_visibility:\n",
    "        return 1\n",
    "    else:\n",
    "        return 0\n",
    "\n",
    "def trafficway_danger(val):\n",
    "    if val == 'NOT DIVIDED':\n",
    "        return 1\n",
    "    else:\n",
    "        return 0\n",
    "\n",
    "def road_cond(val):\n",
    "    if val in bad_road_cond:\n",
    "        return 1\n",
    "    else:\n",
    "        return 0\n",
    "\n",
    "def defect_road(val):\n",
    "    if val in road_defect:\n",
    "        return 1\n",
    "    else:\n",
    "        return 0\n",
    "    \n",
    "def crash_cause(val):\n",
    "    if val in driving:\n",
    "        return 1\n",
    "    elif val in behavior:\n",
    "        return 2\n",
    "    elif val in road:\n",
    "        return 3\n",
    "    else:\n",
    "        return 4\n",
    "\n",
    "def boolean(val):\n",
    "    if val == False:\n",
    "        return 0\n",
    "    else:\n",
    "        return 1\n",
    "    \n",
    "def one(val):\n",
    "    if val == 5:\n",
    "        return 1\n",
    "    else:\n",
    "        return val\n",
    "\n",
    "def two(val):\n",
    "    if val == 5:\n",
    "        return 2\n",
    "    else:\n",
    "        return val"
   ]
  },
  {
   "cell_type": "code",
   "execution_count": 7,
   "id": "extended-barcelona",
   "metadata": {
    "tags": []
   },
   "outputs": [],
   "source": [
    "# Initialize list to help map columns from object to int64 based upon the 4 main factors\n",
    "relevant_device_present = ['TRAFFIC SIGNAL', 'STOP SIGN/FLASHER', 'OTHER', 'LANE USE MARKING', 'YIELD', 'OTHER REG. SIGN', \\\n",
    "                 'OTHER WARNING SIGN', 'RAILROAD CROSSING GATE', 'PEDESTRIAN CROSSING SIGN', 'POLICE/FLAGMAN', 'SCHOOL ZONE', \\\n",
    "                 'DELINEATORS', 'FLASHING CONTROL SIGNAL', 'BICYCLE CROSSING SIGN', 'NO PASSING', 'RR CROSSING SIGN']\n",
    "working_devices = ['FUNCTIONING PROPERLY', 'WORN REFLECTIVE MATERIAL']\n",
    "bad_weather_cond = ['RAIN', 'SNOW', 'FOG/SMOKE/HAZE', 'SLEET/HAIL', 'FREEZING RAIN/DRIZZLE', 'BLOWING SNOW', \\\n",
    "                   'SEVERE CROSS WIND GATE', 'BLOWING SAND, SOIL, DIRT']\n",
    "bad_visibility = ['DARKNESS', 'DUSK', 'DAWN']\n",
    "bad_road_cond = ['WET', 'SNOW OR SLUSH', 'ICE', 'SAND, MUD, DIRT']\n",
    "road_defect = ['RUT, HOLES', 'WORN_SURFACE']"
   ]
  },
  {
   "cell_type": "code",
   "execution_count": 8,
   "id": "revolutionary-incidence",
   "metadata": {
    "tags": []
   },
   "outputs": [],
   "source": [
    "# Map all columns to int64 to model\n",
    "df_crash['BAD_WEATHER'] = df_crash['WEATHER_CONDITION'].map(weather_condition)\n",
    "df_crash['BAD_VISIBILITY'] = df_crash['LIGHTING_CONDITION'].map(visibility)\n",
    "df_crash['BAD_TRAFFIC'] = df_crash['TRAFFICWAY_TYPE'].map(trafficway_danger)\n",
    "df_crash['BAD_ROAD_CONDITION'] = df_crash['ROADWAY_SURFACE_COND'].map(road_cond)\n",
    "df_crash['DEFECT_ROAD'] = df_crash['ROAD_DEFECT'].map(defect_road)\n",
    "\n",
    "df_crash['TRAFFIC_DEVICE_PRESENT'] = df_crash['TRAFFIC_CONTROL_DEVICE'].map(traffic_control_transfomer)\n",
    "df_crash['DEVICE_WORKING'] = df_crash['DEVICE_CONDITION'].map(device_working)"
   ]
  },
  {
   "cell_type": "code",
   "execution_count": 9,
   "id": "handy-sodium",
   "metadata": {
    "tags": []
   },
   "outputs": [],
   "source": [
    "# Final 'Device' column that returns \"1\" when the traffice device is both present, AND working.\n",
    "device_list = (df_crash['TRAFFIC_DEVICE_PRESENT'] == 1) & (df_crash['DEVICE_WORKING'] == 1)\n",
    "device_dataframe = pd.DataFrame(device_list, columns = ['TRAFFIC_DEVICE'], index = df_crash.index)\n",
    "frames = [df_crash, device_dataframe]\n",
    "df_crash = pd.concat(frames, axis = 1)\n",
    "df_crash['WORKING_TRAFFIC_DEVICE'] = df_crash['TRAFFIC_DEVICE'].map(device_present)"
   ]
  },
  {
   "cell_type": "code",
   "execution_count": 10,
   "id": "hispanic-laptop",
   "metadata": {
    "tags": []
   },
   "outputs": [],
   "source": [
    "# List for mapping \"PRIMARY CONTRIBUTORY CAUSE\" as recorded by officer at scene.\n",
    "driving = ['FAILING TO YIELD RIGHT-OF-WAY', 'FOLLOWING TOO CLOSELY', 'IMPROPER OVERTAKING/PASSING', 'FAILING TO REDUCE SPEED TO AVOID CRASH', \\\n",
    "          'IMPROPER BACKING', 'IMPROPER LANE USAGE', 'IMPROPER TURNING/NO SIGNAL', 'DRIVING SKILLS/KNOWLEDGE/EXPERIENCE', \\\n",
    "          'DISREGARDING TRAFFIC SIGNALS', 'DISREGARDING STOP SIGN', 'DISTRACTION - FROM INSIDE VEHICLE', 'DRIVING ON WRONG SIDE/WRONG WAY', \\\n",
    "          'DISTRACTION - FROM OUTSIDE VEHICLE', 'EXCEEDING AUTHORIZED SPEED LIMIT', 'EXCEEDING SAFE SPEED FOR CONDITIONS', \\\n",
    "          'DISREGARDING OTHER TRAFFIC SIGNS', 'DISREGARDING ROAD MARKINGS', 'TURNING RIGHT ON RED', 'RELATED TO BUS STOP', 'DISREGARDING YIELD SIGN', \\\n",
    "           'PASSING STOPPED SCHOOL BUS']\n",
    "behavior = ['PHYSICAL CONDITION OF DRIVER', 'OPERATING VEHICLE IN ERRATIC, RECKLESS, CARELESS, NEGLIGENT OR AGGRESSIVE MANNER' \\\n",
    "           'UNDER THE INFLUENCE OF ALCOHOL/DRUGS (USE WHEN ARREST IS EFFECTED)', 'CELL PHONE USE OTHER THAN TEXTING', \\\n",
    "           'HAD BEEN DRINKING (USE WHEN ARREST IS NOT MADE)', 'TEXTING', 'DISTRACTION - OTHER ELECTRONIC DEVICE (NAVIGATION DEVICE, DVD PLAYER, ETC.)']\n",
    "road = ['WEATHER', 'VISION OBSCURED (SIGNS, TREE LIMBS, BUILDINGS, ETC.)', 'ROAD ENGINEERING/SURFACE/MARKING DEFECTS', \\\n",
    "       'ROAD CONSTRUCTION/MAINTENANCE']\n",
    "other = ['EQUIPMENT - VEHICLE CONDITION', 'EVASIVE ACTION DUE TO ANIMAL, OBJECT, NONMOTORIST', 'ANIMAL', \\\n",
    "         'BICYCLE ADVANCING LEGALLY ON RED LIGHT', 'OBSTRUCTED CROSSWALKS', 'MOTORCYCLE ADVANCING LEGALLY ON RED LIGHT']\n",
    "\n",
    "df_crash['Target1'] = df_crash['PRIM_CONTRIBUTORY_CAUSE'].map(crash_cause)"
   ]
  },
  {
   "cell_type": "code",
   "execution_count": 11,
   "id": "diagnostic-frame",
   "metadata": {},
   "outputs": [
    {
     "name": "stdout",
     "output_type": "stream",
     "text": [
      "<class 'pandas.core.frame.DataFrame'>\n",
      "RangeIndex: 554228 entries, 0 to 554227\n",
      "Data columns (total 22 columns):\n",
      " #   Column                   Non-Null Count   Dtype  \n",
      "---  ------                   --------------   -----  \n",
      " 0   CRASH_RECORD_ID          554228 non-null  object \n",
      " 1   TRAFFIC_CONTROL_DEVICE   554228 non-null  object \n",
      " 2   DEVICE_CONDITION         554228 non-null  object \n",
      " 3   WEATHER_CONDITION        554228 non-null  object \n",
      " 4   LIGHTING_CONDITION       554228 non-null  object \n",
      " 5   TRAFFICWAY_TYPE          554228 non-null  object \n",
      " 6   ROADWAY_SURFACE_COND     554228 non-null  object \n",
      " 7   ROAD_DEFECT              554228 non-null  object \n",
      " 8   PRIM_CONTRIBUTORY_CAUSE  554228 non-null  object \n",
      " 9   SEC_CONTRIBUTORY_CAUSE   554228 non-null  object \n",
      " 10  LATITUDE                 551029 non-null  float64\n",
      " 11  LONGITUDE                551029 non-null  float64\n",
      " 12  BAD_WEATHER              554228 non-null  int64  \n",
      " 13  BAD_VISIBILITY           554228 non-null  int64  \n",
      " 14  BAD_TRAFFIC              554228 non-null  int64  \n",
      " 15  BAD_ROAD_CONDITION       554228 non-null  int64  \n",
      " 16  DEFECT_ROAD              554228 non-null  int64  \n",
      " 17  TRAFFIC_DEVICE_PRESENT   554228 non-null  int64  \n",
      " 18  DEVICE_WORKING           554228 non-null  int64  \n",
      " 19  TRAFFIC_DEVICE           554228 non-null  bool   \n",
      " 20  WORKING_TRAFFIC_DEVICE   554228 non-null  int64  \n",
      " 21  Target1                  554228 non-null  int64  \n",
      "dtypes: bool(1), float64(2), int64(9), object(10)\n",
      "memory usage: 89.3+ MB\n"
     ]
    }
   ],
   "source": [
    "df_crash.info()"
   ]
  },
  {
   "cell_type": "code",
   "execution_count": 12,
   "id": "loved-picking",
   "metadata": {
    "tags": []
   },
   "outputs": [],
   "source": [
    "# Update any rows where 'PRIM_CONTRIBUTORY_CAUSE' is \"not determined\" and 'SEC_CONTRIBUTORY_CAUSE' have a value, then update\n",
    "# 'PRIM_CONTRIBUTORY_CAUSE' to the value entered in'SEC_CONTRIBUTORY_CAUSE'\n",
    "for index, row in df_crash.iterrows(): \n",
    "    if df_crash.loc[index,'PRIM_CONTRIBUTORY_CAUSE'] == 'UNABLE TO DETERMINE':\n",
    "        if (df_crash.loc[index,'SEC_CONTRIBUTORY_CAUSE'] != 'UNABLE TO DETERMINE') & (df_crash.loc[index,'SEC_CONTRIBUTORY_CAUSE'] != 'NOT APPLICABLE'):\n",
    "            df_crash.loc[index,'PRIM_CONTRIBUTORY_CAUSE'] = df_crash.loc[index,'SEC_CONTRIBUTORY_CAUSE']"
   ]
  },
  {
   "cell_type": "code",
   "execution_count": 13,
   "id": "juvenile-elevation",
   "metadata": {},
   "outputs": [],
   "source": [
    "# Converting 'UNABLE TO DETERMINE' columns to be recorded as \"road\" when 'BAD ROAD CONDITION' is also true\n",
    "df_crash['is_two'] = (df_crash['Target1'] == 4) & (df_crash['BAD_ROAD_CONDITION'] == 1)\n",
    "df_crash['Target'] = df_crash['Target1'] + df_crash['is_two']\n",
    "df_crash['is_two'] = df_crash['is_two'].map(two)\n",
    "df_crash['Target'] = df_crash['Target1'] + df_crash['is_two']"
   ]
  },
  {
   "cell_type": "code",
   "execution_count": 14,
   "id": "mighty-yeast",
   "metadata": {},
   "outputs": [],
   "source": [
    "# Had to separate this helper function due to Python errors\n",
    "def road(val):\n",
    "    if val == 5:\n",
    "        return 3\n",
    "    else:\n",
    "        return val\n",
    "df_crash['Target'] = df_crash['Target'].map(road)"
   ]
  },
  {
   "cell_type": "code",
   "execution_count": 15,
   "id": "color-excess",
   "metadata": {
    "tags": []
   },
   "outputs": [],
   "source": [
    "# Drop transformed columns to have final clean dataset\n",
    "unnecessary_traffic_columns = ['TRAFFIC_CONTROL_DEVICE', 'DEVICE_CONDITION', 'TRAFFIC_DEVICE_PRESENT', 'DEVICE_WORKING', \\\n",
    "                              'WEATHER_CONDITION', 'LIGHTING_CONDITION', 'TRAFFICWAY_TYPE', 'ROADWAY_SURFACE_COND', 'ROAD_DEFECT', \\\n",
    "                              'PRIM_CONTRIBUTORY_CAUSE', 'SEC_CONTRIBUTORY_CAUSE', 'TRAFFIC_DEVICE', 'Target1', 'is_two']\n",
    "df_crash.drop(unnecessary_traffic_columns, axis = 1, inplace = True)"
   ]
  },
  {
   "cell_type": "code",
   "execution_count": 16,
   "id": "clean-cartridge",
   "metadata": {},
   "outputs": [],
   "source": [
    "# Save file to a csv folder so we do not have to keep running all the data cleaning steps again.\n",
    "df_crash.to_csv('data/cleaned_data/cleaned_crash_data.csv')"
   ]
  },
  {
   "cell_type": "markdown",
   "id": "selected-refrigerator",
   "metadata": {},
   "source": [
    "***\n",
    "# Cleaning People"
   ]
  },
  {
   "cell_type": "code",
   "execution_count": 17,
   "id": "arbitrary-commerce",
   "metadata": {},
   "outputs": [
    {
     "data": {
      "text/plain": [
       "Index(['CRASH_RECORD_ID', 'CRASH_DATE', 'AGE', 'DRIVER_ACTION',\n",
       "       'DRIVER_VISION', 'PHYSICAL_CONDITION'],\n",
       "      dtype='object')"
      ]
     },
     "execution_count": 17,
     "metadata": {},
     "output_type": "execute_result"
    }
   ],
   "source": [
    "# Drop columns that do not have any predictive or inferential value in determining the cause of a car crash\n",
    "df_people.drop(['PERSON_ID', 'PERSON_TYPE', 'RD_NO', 'VEHICLE_ID', 'SEAT_NO', 'CITY', 'STATE', 'ZIPCODE', 'SEX', \n",
    "         'DRIVERS_LICENSE_STATE', 'DRIVERS_LICENSE_CLASS', 'SAFETY_EQUIPMENT', 'AIRBAG_DEPLOYED', 'EJECTION', \n",
    "         'INJURY_CLASSIFICATION', 'HOSPITAL', 'EMS_AGENCY', 'EMS_RUN_NO', 'PEDPEDAL_ACTION', 'PEDPEDAL_VISIBILITY', \n",
    "         'PEDPEDAL_LOCATION', 'BAC_RESULT', 'BAC_RESULT VALUE', 'CELL_PHONE_USE'], axis=1, inplace=True)\n",
    "# Remaining columns\n",
    "df_people.columns"
   ]
  },
  {
   "cell_type": "code",
   "execution_count": 18,
   "id": "affecting-passage",
   "metadata": {},
   "outputs": [],
   "source": [
    "#Drop missing and null values\n",
    "df_people.dropna(subset=['AGE'], inplace=True)\n",
    "df_people.dropna(subset=['DRIVER_ACTION'], inplace=True)\n",
    "df_people.dropna(subset=['DRIVER_VISION'], inplace=True)\n",
    "df_people.dropna(subset=['PHYSICAL_CONDITION'], inplace=True)"
   ]
  },
  {
   "cell_type": "code",
   "execution_count": 19,
   "id": "searching-aruba",
   "metadata": {},
   "outputs": [],
   "source": [
    "#Cleaning the 3 columns with many unknown values\n",
    "df_people = df_people[df_people['DRIVER_VISION']!='UNKNOWN']\n",
    "df_people = df_people[df_people['DRIVER_ACTION']!='UNKNOWN']\n",
    "df_people = df_people[df_people['PHYSICAL_CONDITION']!='UNKNOWN']"
   ]
  },
  {
   "cell_type": "code",
   "execution_count": 20,
   "id": "inside-moderator",
   "metadata": {},
   "outputs": [],
   "source": [
    "#Formatting, cleaning, and binning the AGE column. 15 is the youngest age to legally drive in the state of Illinois\n",
    "#with a learner's permit. \n",
    "df_people = df_people[df_people['AGE']>=15]"
   ]
  },
  {
   "cell_type": "code",
   "execution_count": 21,
   "id": "pleasant-notice",
   "metadata": {},
   "outputs": [],
   "source": [
    "# Define Lists for helper functions in order to map\n",
    "dangerous_beh = ['IMPAIRED - ALCOHOL', 'FATIGUED/ASLEEP', 'EMOTIONAL', 'ILLNESS/FAINTED', 'HAD BEEN DRINKING', \n",
    "                 'IMPAIRED - DRUGS', 'IMPAIRED - ALCOHOL AND DRUGS', 'MEDICATED']\n",
    "bad_vision = ['OTHER', 'MOVING VEHICLES', 'PARKED VEHICLES', 'WINDSHIELD (WATER/ICE)', 'BLINDED - SUNLIGHT', 'HILLCREST',\n",
    "             'EMBANKMENT', 'BLOWING MATERIALS', 'SIGNBOARD']\n",
    "bad_action = ['OTHER', 'FAILED TO YIELD', 'FOLLOWED TOO CLOSELY', 'IMPROPER TURN', 'IMPROPER BACKING', 'IMPROPER LANE CHANGE',\n",
    "             'IMPROPER PASSING', 'TOO FAST FOR CONDITIONS', 'DISREGARDED CONTROL DEVICES', 'IMPROPER PARKING',\n",
    "             'WRONG WAY/SIDE', 'CELL PHONE USE OTHER THAN TEXTING', 'OVERCORRECTED', 'EMERGENCY VEHICLE ON CALL',\n",
    "             'EVADING POLICE VEHICLE', 'TEXTING', 'STOPPED SCHOOL BUS', 'LICENSE RESTRICTIONS']"
   ]
  },
  {
   "cell_type": "code",
   "execution_count": 22,
   "id": "separated-sitting",
   "metadata": {},
   "outputs": [],
   "source": [
    "# Heper functions to help tranform object columns binary\n",
    "def physical_condition(val):\n",
    "    if val in dangerous_beh:\n",
    "        return 1\n",
    "    else:\n",
    "        return 0\n",
    "    \n",
    "def obscured_vision(val):\n",
    "    if val in bad_vision:\n",
    "        return 1\n",
    "    else:\n",
    "        return 0\n",
    "\n",
    "def driver_error(val):\n",
    "    if val in bad_action:\n",
    "        return 1\n",
    "    else:\n",
    "        return 0\n",
    "\n",
    "def ages(val):\n",
    "    if val in highrisk_ages:\n",
    "        return 1\n",
    "    else:\n",
    "        return 0"
   ]
  },
  {
   "cell_type": "code",
   "execution_count": 23,
   "id": "identical-sigma",
   "metadata": {},
   "outputs": [],
   "source": [
    "# Mapping columns \n",
    "df_people['DANGEROUS_BEH'] = df_people['PHYSICAL_CONDITION'].map(physical_condition)\n",
    "df_people['OBSCURED_VIZ'] = df_people['DRIVER_VISION'].map(obscured_vision)\n",
    "df_people['DRIVER_ERROR'] = df_people['DRIVER_ACTION'].map(driver_error)"
   ]
  },
  {
   "cell_type": "code",
   "execution_count": 24,
   "id": "subjective-teaching",
   "metadata": {},
   "outputs": [
    {
     "data": {
      "text/html": [
       "<div>\n",
       "<style scoped>\n",
       "    .dataframe tbody tr th:only-of-type {\n",
       "        vertical-align: middle;\n",
       "    }\n",
       "\n",
       "    .dataframe tbody tr th {\n",
       "        vertical-align: top;\n",
       "    }\n",
       "\n",
       "    .dataframe thead th {\n",
       "        text-align: right;\n",
       "    }\n",
       "</style>\n",
       "<table border=\"1\" class=\"dataframe\">\n",
       "  <thead>\n",
       "    <tr style=\"text-align: right;\">\n",
       "      <th></th>\n",
       "      <th>CRASH_RECORD_ID</th>\n",
       "      <th>CRASH_DATE</th>\n",
       "      <th>DANGEROUS_BEH</th>\n",
       "      <th>OBSCURED_VIZ</th>\n",
       "      <th>DRIVER_ERROR</th>\n",
       "    </tr>\n",
       "  </thead>\n",
       "  <tbody>\n",
       "    <tr>\n",
       "      <th>1</th>\n",
       "      <td>af84fb5c8d996fcd3aefd36593c3a02e6e7509eeb27568...</td>\n",
       "      <td>04/13/2020 10:50:00 PM</td>\n",
       "      <td>0</td>\n",
       "      <td>0</td>\n",
       "      <td>0</td>\n",
       "    </tr>\n",
       "    <tr>\n",
       "      <th>16</th>\n",
       "      <td>49336aaca932f7935c361c892d31e01360a08133079e3a...</td>\n",
       "      <td>05/05/2020 12:20:00 PM</td>\n",
       "      <td>0</td>\n",
       "      <td>1</td>\n",
       "      <td>1</td>\n",
       "    </tr>\n",
       "    <tr>\n",
       "      <th>17</th>\n",
       "      <td>49336aaca932f7935c361c892d31e01360a08133079e3a...</td>\n",
       "      <td>05/05/2020 12:20:00 PM</td>\n",
       "      <td>0</td>\n",
       "      <td>0</td>\n",
       "      <td>0</td>\n",
       "    </tr>\n",
       "    <tr>\n",
       "      <th>40</th>\n",
       "      <td>343f56c14e824e3e10b59cb9c9f15811fd417f5ea2492d...</td>\n",
       "      <td>05/02/2020 11:00:00 AM</td>\n",
       "      <td>0</td>\n",
       "      <td>0</td>\n",
       "      <td>0</td>\n",
       "    </tr>\n",
       "    <tr>\n",
       "      <th>58</th>\n",
       "      <td>91069a7cfa1cec819cbf4c40c6da6859dc3508c324748c...</td>\n",
       "      <td>02/23/2020 08:53:00 PM</td>\n",
       "      <td>0</td>\n",
       "      <td>0</td>\n",
       "      <td>0</td>\n",
       "    </tr>\n",
       "  </tbody>\n",
       "</table>\n",
       "</div>"
      ],
      "text/plain": [
       "                                      CRASH_RECORD_ID              CRASH_DATE  \\\n",
       "1   af84fb5c8d996fcd3aefd36593c3a02e6e7509eeb27568...  04/13/2020 10:50:00 PM   \n",
       "16  49336aaca932f7935c361c892d31e01360a08133079e3a...  05/05/2020 12:20:00 PM   \n",
       "17  49336aaca932f7935c361c892d31e01360a08133079e3a...  05/05/2020 12:20:00 PM   \n",
       "40  343f56c14e824e3e10b59cb9c9f15811fd417f5ea2492d...  05/02/2020 11:00:00 AM   \n",
       "58  91069a7cfa1cec819cbf4c40c6da6859dc3508c324748c...  02/23/2020 08:53:00 PM   \n",
       "\n",
       "    DANGEROUS_BEH  OBSCURED_VIZ  DRIVER_ERROR  \n",
       "1               0             0             0  \n",
       "16              0             1             1  \n",
       "17              0             0             0  \n",
       "40              0             0             0  \n",
       "58              0             0             0  "
      ]
     },
     "execution_count": 24,
     "metadata": {},
     "output_type": "execute_result"
    }
   ],
   "source": [
    "# Drop object columns as they were tranformed into a data format we can pass into a model\n",
    "unnecessary_columns = ['AGE', 'DRIVER_ACTION', 'DRIVER_VISION', 'PHYSICAL_CONDITION']\n",
    "df_people.drop(unnecessary_columns, axis = 1, inplace=True)\n",
    "df_people.head()"
   ]
  },
  {
   "cell_type": "code",
   "execution_count": 25,
   "id": "blank-transcription",
   "metadata": {},
   "outputs": [],
   "source": [
    "# Save file to a csv folder so we do not have to keep running all the data cleaning steps again.\n",
    "df_people.to_csv('data/cleaned_data/cleaned_people_data.csv')"
   ]
  },
  {
   "cell_type": "markdown",
   "id": "rising-filling",
   "metadata": {},
   "source": [
    "***\n",
    "# Cleaning Vehicles"
   ]
  },
  {
   "cell_type": "code",
   "execution_count": null,
   "id": "postal-performance",
   "metadata": {},
   "outputs": [],
   "source": []
  },
  {
   "cell_type": "code",
   "execution_count": 26,
   "id": "initial-seeker",
   "metadata": {},
   "outputs": [],
   "source": [
    "# Instantiate pandas DataFrame with only relevant columns\n",
    "df_vehicle = df_vehicle[['CRASH_RECORD_ID', 'NUM_PASSENGERS', 'VEHICLE_DEFECT']]"
   ]
  },
  {
   "cell_type": "code",
   "execution_count": 27,
   "id": "municipal-scanner",
   "metadata": {},
   "outputs": [],
   "source": [
    "# Clean up unknown values and map defects or if passengers were present at time of crash\n",
    "No_def = ['NONE', 'UNKNOWN']\n",
    "\n",
    "def veh_defect(val):\n",
    "    if val in No_def:\n",
    "        return 0\n",
    "    else:\n",
    "        return 1\n",
    "\n",
    "def passengers(val):\n",
    "    if val >= 1:\n",
    "        return 1\n",
    "    else:\n",
    "        pass"
   ]
  },
  {
   "cell_type": "code",
   "execution_count": 28,
   "id": "cognitive-producer",
   "metadata": {},
   "outputs": [],
   "source": [
    "df_vehicle['VEHICLE_DEFECT'] = df_vehicle['VEHICLE_DEFECT'].map(veh_defect)\n",
    "df_vehicle['NUM_PASSENGERS'] = df_vehicle['NUM_PASSENGERS'].map(passengers)"
   ]
  },
  {
   "cell_type": "code",
   "execution_count": 29,
   "id": "alpine-leeds",
   "metadata": {},
   "outputs": [],
   "source": [
    "# If missing values for passengers, update to just driver in car\n",
    "df_vehicle.NUM_PASSENGERS = df_vehicle.NUM_PASSENGERS.fillna(0)"
   ]
  },
  {
   "cell_type": "code",
   "execution_count": 30,
   "id": "dominican-increase",
   "metadata": {},
   "outputs": [],
   "source": [
    "# Save file to a csv folder so we do not have to keep running all the data cleaning steps again.\n",
    "df_vehicle.to_csv('data/cleaned_data/cleaned_vehicle_data.csv')"
   ]
  },
  {
   "cell_type": "markdown",
   "id": "strong-setting",
   "metadata": {},
   "source": [
    "# Creating the Main Dataframe, \"main_df\""
   ]
  },
  {
   "cell_type": "code",
   "execution_count": 31,
   "id": "focused-capture",
   "metadata": {},
   "outputs": [],
   "source": [
    "# Merge the the DataFrames into one using 'CRASH_RECORD_ID' column to join\n",
    "main_df = df_crash.merge(df_vehicle, left_on='CRASH_RECORD_ID', right_on = 'CRASH_RECORD_ID', how='inner')\n",
    "main_df = main_df.merge(df_people, left_on='CRASH_RECORD_ID', right_on = 'CRASH_RECORD_ID', how='inner')"
   ]
  },
  {
   "cell_type": "markdown",
   "id": "plastic-protection",
   "metadata": {},
   "source": [
    "Once we merged the dataframes, we noticed that the number of rows in our dataset increased drastically, but not exactly 2x. \n",
    "\n",
    "After examining the data, we found that some rows had split into two entries due to a crash normally involving two parties (but not always, so hence the ALMOST 2x). \n",
    "\n",
    "We decided to keep the duplicated entries as that party did get into an accident from a specific cause. \n",
    "\n",
    "Then, we fixed the Target columns to accurately reflect the 'DANGEROUS_BEH' column as the Target column was created before the \n",
    "'DANGEROUS_BEH' merge. Same logic applies to the 'DRIVER_ERROR' column."
   ]
  },
  {
   "cell_type": "code",
   "execution_count": 32,
   "id": "limited-teacher",
   "metadata": {},
   "outputs": [],
   "source": [
    "# Converting 'UNABLE TO DETERMINE' columns to be recorded as \"behavior\" when 'DANGEROUS_BEH' is also true\n",
    "main_df['is_two'] = (main_df['Target'] == 4) & (main_df['DANGEROUS_BEH'] == 1)\n",
    "main_df['is_two'] = main_df['is_two'].map(boolean)\n",
    "main_df['Target'] = main_df['Target'] + main_df['is_two']\n",
    "main_df['Target'] = main_df['Target'].map(two)\n",
    "main_df.drop(['is_two'], axis = 1, inplace = True)\n",
    "\n",
    "# Converting 'UNABLE TO DETERMINE' columns to be recorded as \"driver\" when 'DRIVER_ERROR' is also true\n",
    "main_df['is_one'] = (main_df['Target'] == 4) & (main_df['DRIVER_ERROR'] == 1)\n",
    "main_df['is_one'] = main_df['is_one'].map(boolean)\n",
    "main_df['Target'] = main_df['Target'] + main_df['is_one']\n",
    "main_df['Target'] = main_df['Target'].map(one)\n",
    "main_df.drop(['is_one'], axis = 1, inplace = True)"
   ]
  },
  {
   "cell_type": "markdown",
   "id": "narrow-matter",
   "metadata": {},
   "source": [
    "## Originally we wanted to do a 4 target classifer - driver error, behavioral error, road conditions, and other factors.\n",
    "\n",
    "However, due to the class imbalance, we grouped driver action (driver error, behavioral error) and road / external factors in order to fix the class imbalance problem."
   ]
  },
  {
   "cell_type": "code",
   "execution_count": null,
   "id": "saved-theory",
   "metadata": {},
   "outputs": [],
   "source": [
    "def target_map(val):\n",
    "    if ((val == 1) | (val == 2)):\n",
    "        return 0\n",
    "    elif ((val == 3) | (val == 4)):\n",
    "        return 1\n",
    "    \n",
    "main_df['Target'] = main_df['Target'].map(target_map)\n",
    "main_df['Target'].value_counts()\n",
    "\n",
    "# Save file to a csv folder so we do not have to keep running all the data cleaning steps again.\n",
    "main_df.to_csv('data/cleaned_data/cleaned_modeling_data.csv')"
   ]
  },
  {
   "cell_type": "code",
   "execution_count": null,
   "id": "assigned-advocacy",
   "metadata": {
    "scrolled": true
   },
   "outputs": [],
   "source": [
    "# If you wanted to load the data to explore\n",
    "main_df = pd.read_csv('data/cleaned_data/cleaned_modeling_data.csv')\n",
    "main_df.drop('Unnamed: 0', axis = 1, inplace = True)\n",
    "main_df.head()"
   ]
  }
 ],
 "metadata": {
  "kernelspec": {
   "display_name": "Python 3",
   "language": "python",
   "name": "python3"
  },
  "language_info": {
   "codemirror_mode": {
    "name": "ipython",
    "version": 3
   },
   "file_extension": ".py",
   "mimetype": "text/x-python",
   "name": "python",
   "nbconvert_exporter": "python",
   "pygments_lexer": "ipython3",
   "version": "3.9.2"
  }
 },
 "nbformat": 4,
 "nbformat_minor": 5
}
