{
 "cells": [
  {
   "cell_type": "code",
   "execution_count": 49,
   "metadata": {},
   "outputs": [],
   "source": [
    "import pandas as pd\n",
    "import numpy as np\n",
    "from sklearn.model_selection import train_test_split, cross_val_score\n",
    "from sklearn.dummy import DummyClassifier\n",
    "from sklearn.metrics import plot_confusion_matrix\n",
    "import matplotlib.pyplot as plt\n",
    "import seaborn as sns\n",
    "%matplotlib inline"
   ]
  },
  {
   "cell_type": "markdown",
   "metadata": {},
   "source": [
    "# Data Preparation\n",
    "\n",
    "Describe and justify the process for preparing the data for analysis.\n",
    "\n",
    "***\n",
    "Questions to consider:\n",
    "* Were there variables you dropped or created?\n",
    "* How did you address missing values or outliers?\n",
    "* Why are these choices appropriate given the data and the business problem?\n",
    "***"
   ]
  },
  {
   "cell_type": "code",
   "execution_count": 51,
   "metadata": {},
   "outputs": [],
   "source": [
    "df1 = pd.read_csv('data/raw_data/Traffic_Crashes_Crashes.csv', low_memory=False)"
   ]
  },
  {
   "cell_type": "code",
   "execution_count": 52,
   "metadata": {},
   "outputs": [],
   "source": [
    "df2 = pd.read_csv('data/raw_data/Traffic_Crashes_Vehicle.csv', low_memory=False)"
   ]
  },
  {
   "cell_type": "code",
   "execution_count": 53,
   "metadata": {},
   "outputs": [],
   "source": [
    "df3 = pd.read_csv('data/raw_data/Traffic_Crashes_People.csv', low_memory=False)"
   ]
  },
  {
   "cell_type": "code",
   "execution_count": 54,
   "metadata": {},
   "outputs": [],
   "source": [
    "df_crash = df1.copy()\n",
    "df_vehicle = df2.copy()\n",
    "df_people = df3.copy()"
   ]
  },
  {
   "cell_type": "markdown",
   "metadata": {},
   "source": [
    "***\n",
    "# Cleaning Crashes"
   ]
  },
  {
   "cell_type": "code",
   "execution_count": 55,
   "metadata": {
    "tags": []
   },
   "outputs": [
    {
     "name": "stdout",
     "output_type": "stream",
     "text": [
      "<class 'pandas.core.frame.DataFrame'>\n",
      "RangeIndex: 554228 entries, 0 to 554227\n",
      "Data columns (total 12 columns):\n",
      " #   Column                   Non-Null Count   Dtype  \n",
      "---  ------                   --------------   -----  \n",
      " 0   CRASH_RECORD_ID          554228 non-null  object \n",
      " 1   TRAFFIC_CONTROL_DEVICE   554228 non-null  object \n",
      " 2   DEVICE_CONDITION         554228 non-null  object \n",
      " 3   WEATHER_CONDITION        554228 non-null  object \n",
      " 4   LIGHTING_CONDITION       554228 non-null  object \n",
      " 5   TRAFFICWAY_TYPE          554228 non-null  object \n",
      " 6   ROADWAY_SURFACE_COND     554228 non-null  object \n",
      " 7   ROAD_DEFECT              554228 non-null  object \n",
      " 8   PRIM_CONTRIBUTORY_CAUSE  554228 non-null  object \n",
      " 9   SEC_CONTRIBUTORY_CAUSE   554228 non-null  object \n",
      " 10  LATITUDE                 551029 non-null  float64\n",
      " 11  LONGITUDE                551029 non-null  float64\n",
      "dtypes: float64(2), object(10)\n",
      "memory usage: 50.7+ MB\n"
     ]
    }
   ],
   "source": [
    "# drop columns that are not relevant to \"Car Crash Contributors\". For example, information about the injury severity does not \n",
    "# tell us a contributing factor to a crash.\n",
    "\n",
    "not_relevant_info = ['RD_NO', 'CRASH_DATE', 'CRASH_DATE_EST_I', 'LANE_CNT', 'REPORT_TYPE', 'CRASH_TYPE', \\\n",
    "                     'INTERSECTION_RELATED_I', 'NOT_RIGHT_OF_WAY_I', 'DATE_POLICE_NOTIFIED', 'DAMAGE', 'NUM_UNITS', \\\n",
    "                     'HIT_AND_RUN_I', 'PHOTOS_TAKEN_I', 'STATEMENTS_TAKEN_I', 'FIRST_CRASH_TYPE', \\\n",
    "                     'DOORING_I', 'WORK_ZONE_I', 'WORK_ZONE_TYPE', 'WORKERS_PRESENT_I', 'ALIGNMENT', \\\n",
    "                     'MOST_SEVERE_INJURY', 'INJURIES_TOTAL', 'INJURIES_FATAL', 'INJURIES_INCAPACITATING', \\\n",
    "                     'INJURIES_NON_INCAPACITATING', 'INJURIES_REPORTED_NOT_EVIDENT', 'INJURIES_NO_INDICATION', \\\n",
    "                     'INJURIES_REPORTED_NOT_EVIDENT', 'INJURIES_NO_INDICATION', 'INJURIES_UNKNOWN', \\\n",
    "                     'STREET_NO', 'STREET_DIRECTION', 'STREET_NAME', 'BEAT_OF_OCCURRENCE', \\\n",
    "                     'LOCATION', 'CRASH_HOUR', 'CRASH_DAY_OF_WEEK', 'CRASH_MONTH', 'POSTED_SPEED_LIMIT']\n",
    "\n",
    "df_crash.drop((not_relevant_info), axis = 1, inplace = True)\n",
    "df_crash.info()"
   ]
  },
  {
   "cell_type": "code",
   "execution_count": 56,
   "metadata": {
    "scrolled": true
   },
   "outputs": [],
   "source": [
    "# df_crash.dropna(subset = ['LATITUDE', 'LONGITUDE'], inplace = True)\n",
    "# from folium.plugins import FastMarkerCluster\n",
    "# import folium\n",
    "\n",
    "\n",
    "# my_map = folium.Map([df_crash['LATITUDE'].mean(), df_crash['LONGITUDE'].mean()], zoom_start=9)\n",
    "\n",
    "# my_map.add_child(FastMarkerCluster(df_crash[['LATITUDE', 'LONGITUDE']].values.tolist()))\n",
    "# my_map"
   ]
  },
  {
   "cell_type": "code",
   "execution_count": 57,
   "metadata": {},
   "outputs": [],
   "source": [
    "# Helper Functions\n",
    "def traffic_control_transfomer(val):\n",
    "    if val in relevant_device_present:\n",
    "        return 1\n",
    "    else:\n",
    "        return 0\n",
    "    \n",
    "def device_working(val):\n",
    "    if val in working_devices:\n",
    "        return 1\n",
    "    else:\n",
    "        return 0\n",
    "\n",
    "def device_present(val):\n",
    "    if val == True:\n",
    "        return 1\n",
    "    else:\n",
    "        return 0\n",
    "\n",
    "def weather_condition(val):\n",
    "    if val in bad_weather_cond:\n",
    "        return 1\n",
    "    else:\n",
    "        return 0\n",
    "\n",
    "def visibility(val):\n",
    "    if val in bad_visibility:\n",
    "        return 1\n",
    "    else:\n",
    "        return 0\n",
    "\n",
    "def trafficway_danger(val):\n",
    "    if val == 'NOT DIVIDED':\n",
    "        return 1\n",
    "    else:\n",
    "        return 0\n",
    "\n",
    "def road_cond(val):\n",
    "    if val in bad_road_cond:\n",
    "        return 1\n",
    "    else:\n",
    "        return 0\n",
    "\n",
    "def defect_road(val):\n",
    "    if val in road_defect:\n",
    "        return 1\n",
    "    else:\n",
    "        return 0\n",
    "    \n",
    "def crash_cause(val):\n",
    "    if val in driving:\n",
    "        return 1\n",
    "    elif val in behavior:\n",
    "        return 2\n",
    "    elif val in road:\n",
    "        return 3\n",
    "    else:\n",
    "        return 4\n",
    "\n",
    "def two(val):\n",
    "    if val == False:\n",
    "        return 0\n",
    "    else:\n",
    "        return 1"
   ]
  },
  {
   "cell_type": "code",
   "execution_count": 58,
   "metadata": {
    "tags": []
   },
   "outputs": [],
   "source": [
    "# Initialize list to help map columns from object to int64 based upon the 4 main factors\n",
    "relevant_device_present = ['TRAFFIC SIGNAL', 'STOP SIGN/FLASHER', 'OTHER', 'LANE USE MARKING', 'YIELD', 'OTHER REG. SIGN', \\\n",
    "                 'OTHER WARNING SIGN', 'RAILROAD CROSSING GATE', 'PEDESTRIAN CROSSING SIGN', 'POLICE/FLAGMAN', 'SCHOOL ZONE', \\\n",
    "                 'DELINEATORS', 'FLASHING CONTROL SIGNAL', 'BICYCLE CROSSING SIGN', 'NO PASSING', 'RR CROSSING SIGN']\n",
    "working_devices = ['FUNCTIONING PROPERLY', 'WORN REFLECTIVE MATERIAL']\n",
    "bad_weather_cond = ['RAIN', 'SNOW', 'FOG/SMOKE/HAZE', 'SLEET/HAIL', 'FREEZING RAIN/DRIZZLE', 'BLOWING SNOW', \\\n",
    "                   'SEVERE CROSS WIND GATE', 'BLOWING SAND, SOIL, DIRT']\n",
    "bad_visibility = ['DARKNESS', 'DUSK', 'DAWN']\n",
    "bad_road_cond = ['WET', 'SNOW OR SLUSH', 'ICE', 'SAND, MUD, DIRT']\n",
    "road_defect = ['RUT, HOLES', 'WORN_SURFACE']"
   ]
  },
  {
   "cell_type": "code",
   "execution_count": 59,
   "metadata": {
    "tags": []
   },
   "outputs": [],
   "source": [
    "# Map all columns to int64 to model\n",
    "df_crash['BAD_WEATHER'] = df_crash['WEATHER_CONDITION'].map(weather_condition)\n",
    "df_crash['BAD_VISIBILITY'] = df_crash['LIGHTING_CONDITION'].map(visibility)\n",
    "df_crash['BAD_TRAFFIC'] = df_crash['TRAFFICWAY_TYPE'].map(trafficway_danger)\n",
    "df_crash['BAD_ROAD_CONDITION'] = df_crash['ROADWAY_SURFACE_COND'].map(road_cond)\n",
    "df_crash['DEFECT_ROAD'] = df_crash['ROAD_DEFECT'].map(defect_road)\n",
    "\n",
    "df_crash['TRAFFIC_DEVICE_PRESENT'] = df_crash['TRAFFIC_CONTROL_DEVICE'].map(traffic_control_transfomer)\n",
    "df_crash['DEVICE_WORKING'] = df_crash['DEVICE_CONDITION'].map(device_working)"
   ]
  },
  {
   "cell_type": "code",
   "execution_count": 60,
   "metadata": {
    "tags": []
   },
   "outputs": [],
   "source": [
    "# Final 'Device' column that returns \"1\" when the traffice device is both present, AND working.\n",
    "device_list = (df_crash['TRAFFIC_DEVICE_PRESENT'] == 1) & (df_crash['DEVICE_WORKING'] == 1)\n",
    "device_dataframe = pd.DataFrame(device_list, columns = ['TRAFFIC_DEVICE'], index = df_crash.index)\n",
    "frames = [df_crash, device_dataframe]\n",
    "df_crash = pd.concat(frames, axis = 1)\n",
    "df_crash['WORKING_TRAFFIC_DEVICE'] = df_crash['TRAFFIC_DEVICE'].map(device_present)"
   ]
  },
  {
   "cell_type": "code",
   "execution_count": 61,
   "metadata": {
    "tags": []
   },
   "outputs": [],
   "source": [
    "# List for mapping \"PRIMARY CONTRIBUTORY CAUSE\" as recorded by officer at scene.\n",
    "driving = ['FAILING TO YIELD RIGHT-OF-WAY', 'FOLLOWING TOO CLOSELY', 'IMPROPER OVERTAKING/PASSING', 'FAILING TO REDUCE SPEED TO AVOID CRASH', \\\n",
    "          'IMPROPER BACKING', 'IMPROPER LANE USAGE', 'IMPROPER TURNING/NO SIGNAL', 'DRIVING SKILLS/KNOWLEDGE/EXPERIENCE', \\\n",
    "          'DISREGARDING TRAFFIC SIGNALS', 'DISREGARDING STOP SIGN', 'DISTRACTION - FROM INSIDE VEHICLE', 'DRIVING ON WRONG SIDE/WRONG WAY', \\\n",
    "          'DISTRACTION - FROM OUTSIDE VEHICLE', 'EXCEEDING AUTHORIZED SPEED LIMIT', 'EXCEEDING SAFE SPEED FOR CONDITIONS', \\\n",
    "          'DISREGARDING OTHER TRAFFIC SIGNS', 'DISREGARDING ROAD MARKINGS', 'TURNING RIGHT ON RED', 'RELATED TO BUS STOP', 'DISREGARDING YIELD SIGN', \\\n",
    "           'PASSING STOPPED SCHOOL BUS']\n",
    "behavior = ['PHYSICAL CONDITION OF DRIVER', 'OPERATING VEHICLE IN ERRATIC, RECKLESS, CARELESS, NEGLIGENT OR AGGRESSIVE MANNER' \\\n",
    "           'UNDER THE INFLUENCE OF ALCOHOL/DRUGS (USE WHEN ARREST IS EFFECTED)', 'CELL PHONE USE OTHER THAN TEXTING', \\\n",
    "           'HAD BEEN DRINKING (USE WHEN ARREST IS NOT MADE)', 'TEXTING', 'DISTRACTION - OTHER ELECTRONIC DEVICE (NAVIGATION DEVICE, DVD PLAYER, ETC.)']\n",
    "road = ['WEATHER', 'VISION OBSCURED (SIGNS, TREE LIMBS, BUILDINGS, ETC.)', 'ROAD ENGINEERING/SURFACE/MARKING DEFECTS', \\\n",
    "       'ROAD CONSTRUCTION/MAINTENANCE']\n",
    "other = ['EQUIPMENT - VEHICLE CONDITION', 'EVASIVE ACTION DUE TO ANIMAL, OBJECT, NONMOTORIST', 'ANIMAL', \\\n",
    "         'BICYCLE ADVANCING LEGALLY ON RED LIGHT', 'OBSTRUCTED CROSSWALKS', 'MOTORCYCLE ADVANCING LEGALLY ON RED LIGHT']\n",
    "\n",
    "df_crash['Target1'] = df_crash['PRIM_CONTRIBUTORY_CAUSE'].map(crash_cause)"
   ]
  },
  {
   "cell_type": "code",
   "execution_count": 62,
   "metadata": {
    "tags": []
   },
   "outputs": [],
   "source": [
    "# \n",
    "# for index, row in df_crash.iterrows(): \n",
    "#     if df_crash.loc[index,'PRIM_CONTRIBUTORY_CAUSE'] == 'UNABLE TO DETERMINE':\n",
    "#         if (df_crash.loc[index,'SEC_CONTRIBUTORY_CAUSE'] != 'UNABLE TO DETERMINE') & (df_crash.loc[index,'SEC_CONTRIBUTORY_CAUSE'] != 'NOT APPLICABLE'):\n",
    "#             df_crash.loc[index,'PRIM_CONTRIBUTORY_CAUSE'] = df_crash.loc[index,'SEC_CONTRIBUTORY_CAUSE']"
   ]
  },
  {
   "cell_type": "code",
   "execution_count": 63,
   "metadata": {},
   "outputs": [],
   "source": [
    "# Converting 'UNABLE TO DETERMINE' columns to be recorded as \"road\" when 'BAD ROAD CONDITION' is also true\n",
    "df_crash['is_two'] = (df_crash['Target1'] == 4) & (df_crash['BAD_ROAD_CONDITION'] == 1)\n",
    "df_crash['Target'] = df_crash['Target1'] + df_crash['is_two']\n",
    "df_crash['is_two'] = df_crash['is_two'].map(two)\n",
    "\n",
    "df_crash['Target'] = df_crash['Target1'] + df_crash['is_two']"
   ]
  },
  {
   "cell_type": "code",
   "execution_count": 64,
   "metadata": {},
   "outputs": [],
   "source": [
    "# Had to separate this helper function due to Python errors\n",
    "def road(val):\n",
    "    if val == 5:\n",
    "        return 2\n",
    "    else:\n",
    "        return val\n",
    "df_crash['Target'] = df_crash['Target'].map(road)"
   ]
  },
  {
   "cell_type": "code",
   "execution_count": 65,
   "metadata": {
    "tags": []
   },
   "outputs": [],
   "source": [
    "# Drop transformed columns to have final clean dataset\n",
    "unnecessary_traffic_columns = ['TRAFFIC_CONTROL_DEVICE', 'DEVICE_CONDITION', 'TRAFFIC_DEVICE_PRESENT', 'DEVICE_WORKING', \\\n",
    "                              'WEATHER_CONDITION', 'LIGHTING_CONDITION', 'TRAFFICWAY_TYPE', 'ROADWAY_SURFACE_COND', 'ROAD_DEFECT', \\\n",
    "                              'PRIM_CONTRIBUTORY_CAUSE', 'SEC_CONTRIBUTORY_CAUSE', 'TRAFFIC_DEVICE', 'Target1', 'is_two']\n",
    "df_crash.drop(unnecessary_traffic_columns, axis = 1, inplace = True)"
   ]
  },
  {
   "cell_type": "code",
   "execution_count": 66,
   "metadata": {},
   "outputs": [],
   "source": [
    "df_crash.to_csv('data/cleaned_data/cleaned_crash_data.csv')"
   ]
  },
  {
   "cell_type": "markdown",
   "metadata": {},
   "source": [
    "***\n",
    "# Cleaning People"
   ]
  },
  {
   "cell_type": "code",
   "execution_count": 67,
   "metadata": {},
   "outputs": [
    {
     "data": {
      "text/plain": [
       "Index(['CRASH_RECORD_ID', 'CRASH_DATE', 'AGE', 'DRIVER_ACTION',\n",
       "       'DRIVER_VISION', 'PHYSICAL_CONDITION'],\n",
       "      dtype='object')"
      ]
     },
     "execution_count": 67,
     "metadata": {},
     "output_type": "execute_result"
    }
   ],
   "source": [
    "df_people.drop(['PERSON_ID', 'PERSON_TYPE', 'RD_NO', 'VEHICLE_ID', 'SEAT_NO', 'CITY', 'STATE', 'ZIPCODE', 'SEX', \n",
    "         'DRIVERS_LICENSE_STATE', 'DRIVERS_LICENSE_CLASS', 'SAFETY_EQUIPMENT', 'AIRBAG_DEPLOYED', 'EJECTION', \n",
    "         'INJURY_CLASSIFICATION', 'HOSPITAL', 'EMS_AGENCY', 'EMS_RUN_NO', 'PEDPEDAL_ACTION', 'PEDPEDAL_VISIBILITY', \n",
    "         'PEDPEDAL_LOCATION', 'BAC_RESULT', 'BAC_RESULT VALUE', 'CELL_PHONE_USE'], axis=1, inplace=True)\n",
    "df_people.columns"
   ]
  },
  {
   "cell_type": "code",
   "execution_count": 68,
   "metadata": {},
   "outputs": [],
   "source": [
    "#Drop missing and null values\n",
    "df_people.dropna(subset=['AGE'], inplace=True)\n",
    "df_people.dropna(subset=['DRIVER_ACTION'], inplace=True)\n",
    "df_people.dropna(subset=['DRIVER_VISION'], inplace=True)\n",
    "df_people.dropna(subset=['PHYSICAL_CONDITION'], inplace=True)"
   ]
  },
  {
   "cell_type": "code",
   "execution_count": 69,
   "metadata": {},
   "outputs": [],
   "source": [
    "#Cleaning the 3 columns with many unknown values\n",
    "df_people = df_people[df_people['DRIVER_VISION']!='UNKNOWN']\n",
    "df_people = df_people[df_people['DRIVER_ACTION']!='UNKNOWN']\n",
    "df_people = df_people[df_people['PHYSICAL_CONDITION']!='UNKNOWN']"
   ]
  },
  {
   "cell_type": "code",
   "execution_count": 70,
   "metadata": {},
   "outputs": [
    {
     "name": "stdout",
     "output_type": "stream",
     "text": [
      "24-64    359431\n",
      "15-23     55573\n",
      "65+       35406\n",
      "Name: AGE_RANGES, dtype: int64\n"
     ]
    }
   ],
   "source": [
    "#Formatting, cleaning, and binning the AGE column. 15 is the youngest age to legally drive in the state of Illinois\n",
    "#with a learner's permit. \n",
    "df_people = df_people[df_people['AGE']>=15]\n",
    "bins = [14, 23, 64, np.inf]\n",
    "names = ['15-23', '24-64', '65+']\n",
    "df_people['AGE_RANGES'] = pd.cut(df_people['AGE'], bins, labels=names)\n",
    "print(df_people['AGE_RANGES'].value_counts())"
   ]
  },
  {
   "cell_type": "code",
   "execution_count": 71,
   "metadata": {},
   "outputs": [],
   "source": [
    "dangerous_beh = ['IMPAIRED - ALCOHOL', 'FATIGUED/ASLEEP', 'EMOTIONAL', 'ILLNESS/FAINTED', 'HAD BEEN DRINKING', \n",
    "                 'IMPAIRED - DRUGS', 'IMPAIRED - ALCOHOL AND DRUGS', 'MEDICATED']\n",
    "\n",
    "def physical_condition(val):\n",
    "    if val in dangerous_beh:\n",
    "        return 1\n",
    "    else:\n",
    "        return 0\n",
    "    \n",
    "df_people['DANGEROUS_BEH'] = df_people['PHYSICAL_CONDITION'].map(physical_condition)"
   ]
  },
  {
   "cell_type": "code",
   "execution_count": 72,
   "metadata": {},
   "outputs": [],
   "source": [
    "bad_vision = ['OTHER', 'MOVING VEHICLES', 'PARKED VEHICLES', 'WINDSHIELD (WATER/ICE)', 'BLINDED - SUNLIGHT', 'HILLCREST',\n",
    "             'EMBANKMENT', 'BLOWING MATERIALS', 'SIGNBOARD']\n",
    "\n",
    "def obscured_vision(val):\n",
    "    if val in bad_vision:\n",
    "        return 1\n",
    "    else:\n",
    "        return 0\n",
    "    \n",
    "df_people['OBSCURED_VIZ'] = df_people['DRIVER_VISION'].map(obscured_vision)"
   ]
  },
  {
   "cell_type": "code",
   "execution_count": 73,
   "metadata": {},
   "outputs": [],
   "source": [
    "bad_action = ['OTHER', 'FAILED TO YIELD', 'FOLLOWED TOO CLOSELY', 'IMPROPER TURN', 'IMPROPER BACKING', 'IMPROPER LANE CHANGE',\n",
    "             'IMPROPER PASSING', 'TOO FAST FOR CONDITIONS', 'DISREGARDED CONTROL DEVICES', 'IMPROPER PARKING',\n",
    "             'WRONG WAY/SIDE', 'CELL PHONE USE OTHER THAN TEXTING', 'OVERCORRECTED', 'EMERGENCY VEHICLE ON CALL',\n",
    "             'EVADING POLICE VEHICLE', 'TEXTING', 'STOPPED SCHOOL BUS', 'LICENSE RESTRICTIONS']\n",
    "\n",
    "def driver_error(val):\n",
    "    if val in bad_action:\n",
    "        return 1\n",
    "    else:\n",
    "        return 0\n",
    "    \n",
    "df_people['DRIVER_ERROR'] = df_people['DRIVER_ACTION'].map(driver_error)"
   ]
  },
  {
   "cell_type": "code",
   "execution_count": 74,
   "metadata": {},
   "outputs": [],
   "source": [
    "highrisk_ages = ['15-23', '65+']\n",
    "\n",
    "def ages(val):\n",
    "    if val in highrisk_ages:\n",
    "        return 1\n",
    "    else:\n",
    "        return 0\n",
    "    \n",
    "df_people['HIGHRISK_AGERANGES'] = df_people['AGE_RANGES'].map(ages)"
   ]
  },
  {
   "cell_type": "code",
   "execution_count": 75,
   "metadata": {},
   "outputs": [],
   "source": [
    "unnecessary_columns = ['AGE', 'DRIVER_ACTION', 'DRIVER_VISION', 'PHYSICAL_CONDITION', 'AGE_RANGES']\n",
    "df_people.drop(unnecessary_columns, axis = 1, inplace=True)"
   ]
  },
  {
   "cell_type": "code",
   "execution_count": 76,
   "metadata": {},
   "outputs": [],
   "source": [
    "df_people.to_csv('data/cleaned_data/cleaned_people_data.csv')"
   ]
  },
  {
   "cell_type": "markdown",
   "metadata": {},
   "source": [
    "***\n",
    "# Cleaning Vehicles"
   ]
  },
  {
   "cell_type": "code",
   "execution_count": 77,
   "metadata": {},
   "outputs": [],
   "source": [
    "df_vehicle = df_vehicle[['CRASH_RECORD_ID', 'NUM_PASSENGERS', 'VEHICLE_DEFECT',]]"
   ]
  },
  {
   "cell_type": "code",
   "execution_count": 78,
   "metadata": {},
   "outputs": [],
   "source": [
    "No_def = ['NONE', 'UNKNOWN']\n",
    "\n",
    "def veh_defect(val):\n",
    "    if val in No_def:\n",
    "        return 0\n",
    "    else:\n",
    "        return 1\n",
    "    \n",
    "df_vehicle['VEHICLE_DEFECT'] = df_vehicle['VEHICLE_DEFECT'].map(veh_defect)\n",
    "\n",
    "\n",
    "def passengers(val):\n",
    "    if val >= 1:\n",
    "        return 1\n",
    "    else:\n",
    "        pass\n",
    "\n",
    "df_vehicle['NUM_PASSENGERS'] = df_vehicle['NUM_PASSENGERS'].map(passengers)"
   ]
  },
  {
   "cell_type": "code",
   "execution_count": 79,
   "metadata": {},
   "outputs": [],
   "source": [
    "df_vehicle.NUM_PASSENGERS = df_vehicle.NUM_PASSENGERS.fillna(0)"
   ]
  },
  {
   "cell_type": "code",
   "execution_count": 80,
   "metadata": {},
   "outputs": [],
   "source": [
    "df_vehicle.to_csv('data/cleaned_data/cleaned_vehicle_data.csv')"
   ]
  },
  {
   "cell_type": "code",
   "execution_count": 81,
   "metadata": {},
   "outputs": [],
   "source": [
    "main_df = df_crash.merge(df_vehicle, on='CRASH_RECORD_ID', how='inner').merge(df_people, on='CRASH_RECORD_ID', how='inner')\n",
    "main_df.to_csv('data/cleaned_data/cleaned_modeling_data.csv')"
   ]
  },
  {
   "cell_type": "markdown",
   "metadata": {},
   "source": [
    "## Data Modeling\n",
    "Describe and justify the process for analyzing or modeling the data.\n",
    "\n",
    "***\n",
    "Questions to consider:\n",
    "* How did you analyze or model the data?\n",
    "* How did you iterate on your initial approach to make it better?\n",
    "* Why are these choices appropriate given the data and the business problem?\n",
    "***"
   ]
  },
  {
   "cell_type": "markdown",
   "metadata": {},
   "source": [
    "### First Simple Model (FSM) - \"Dummy\" Model"
   ]
  },
  {
   "cell_type": "code",
   "execution_count": 28,
   "metadata": {
    "scrolled": false
   },
   "outputs": [],
   "source": [
    "# main_df['Target'].value_counts()"
   ]
  },
  {
   "cell_type": "code",
   "execution_count": 29,
   "metadata": {},
   "outputs": [],
   "source": [
    "X = main_df.drop(['CRASH_RECORD_ID','CRASH_DATE', 'Target'], axis=1)\n",
    "y = main_df['Target']\n",
    "X_train, X_test, y_train, y_test = train_test_split(X, y, random_state=42)"
   ]
  },
  {
   "cell_type": "code",
   "execution_count": 30,
   "metadata": {
    "scrolled": true
   },
   "outputs": [],
   "source": [
    "# X.columns"
   ]
  },
  {
   "cell_type": "code",
   "execution_count": 31,
   "metadata": {
    "scrolled": true
   },
   "outputs": [
    {
     "data": {
      "text/plain": [
       "DummyClassifier(strategy='most_frequent')"
      ]
     },
     "execution_count": 31,
     "metadata": {},
     "output_type": "execute_result"
    }
   ],
   "source": [
    "fsm_dummy = DummyClassifier(strategy='most_frequent')\n",
    "fsm_dummy.fit(X_train, y_train)"
   ]
  },
  {
   "cell_type": "code",
   "execution_count": 32,
   "metadata": {
    "scrolled": true
   },
   "outputs": [
    {
     "data": {
      "text/plain": [
       "array([0.67436161, 0.67436161, 0.67436862, 0.67436862, 0.67436161])"
      ]
     },
     "execution_count": 32,
     "metadata": {},
     "output_type": "execute_result"
    }
   ],
   "source": [
    "fsm_cv = cross_val_score(fsm_dummy, X_train, y_train, cv=5)\n",
    "fsm_cv"
   ]
  },
  {
   "cell_type": "code",
   "execution_count": 33,
   "metadata": {
    "scrolled": false
   },
   "outputs": [
    {
     "data": {
      "image/png": "[encoded data removed]",
      "text/plain": [
       "<Figure size 432x288 with 2 Axes>"
      ]
     },
     "metadata": {
      "needs_background": "light"
     },
     "output_type": "display_data"
    }
   ],
   "source": [
    "fig, ax = plt.subplots()\n",
    "fig.suptitle('First Simple Model')\n",
    "plot_confusion_matrix(fsm_dummy, X_train, y_train, ax=ax, cmap='Purples');"
   ]
  },
  {
   "cell_type": "code",
   "execution_count": 80,
   "metadata": {},
   "outputs": [
    {
     "data": {
      "text/plain": [
       "0.6737146498064011"
      ]
     },
     "execution_count": 80,
     "metadata": {},
     "output_type": "execute_result"
    }
   ],
   "source": [
    "481103/(481103+41379+22461+169162)"
   ]
  },
  {
   "cell_type": "code",
   "execution_count": null,
   "metadata": {},
   "outputs": [],
   "source": []
  },
  {
   "cell_type": "code",
   "execution_count": 35,
   "metadata": {},
   "outputs": [
    {
     "ename": "NameError",
     "evalue": "name 'DecisionTreeClassifier' is not defined",
     "output_type": "error",
     "traceback": [
      "\u001b[1;31m---------------------------------------------------------------------------\u001b[0m",
      "\u001b[1;31mNameError\u001b[0m                                 Traceback (most recent call last)",
      "\u001b[1;32m<ipython-input-35-96b054187d66>\u001b[0m in \u001b[0;36m<module>\u001b[1;34m\u001b[0m\n\u001b[1;32m----> 1\u001b[1;33m \u001b[0mdt\u001b[0m \u001b[1;33m=\u001b[0m \u001b[0mDecisionTreeClassifier\u001b[0m\u001b[1;33m(\u001b[0m\u001b[0mrandom_state\u001b[0m \u001b[1;33m=\u001b[0m \u001b[1;36m1\u001b[0m\u001b[1;33m)\u001b[0m\u001b[1;33m\u001b[0m\u001b[1;33m\u001b[0m\u001b[0m\n\u001b[0m\u001b[0;32m      2\u001b[0m \u001b[1;33m\u001b[0m\u001b[0m\n\u001b[0;32m      3\u001b[0m \u001b[0mX\u001b[0m \u001b[1;33m=\u001b[0m \u001b[0mdf_crash\u001b[0m\u001b[1;33m.\u001b[0m\u001b[0mdrop\u001b[0m\u001b[1;33m(\u001b[0m\u001b[1;33m[\u001b[0m\u001b[1;34m'Target1'\u001b[0m\u001b[1;33m,\u001b[0m \u001b[1;34m'CRASH_RECORD_ID'\u001b[0m\u001b[1;33m]\u001b[0m\u001b[1;33m,\u001b[0m \u001b[0maxis\u001b[0m \u001b[1;33m=\u001b[0m \u001b[1;36m1\u001b[0m\u001b[1;33m)\u001b[0m\u001b[1;33m\u001b[0m\u001b[1;33m\u001b[0m\u001b[0m\n\u001b[0;32m      4\u001b[0m \u001b[0my\u001b[0m \u001b[1;33m=\u001b[0m \u001b[0mdf_crash\u001b[0m\u001b[1;33m[\u001b[0m\u001b[1;34m'Target1'\u001b[0m\u001b[1;33m]\u001b[0m\u001b[1;33m\u001b[0m\u001b[1;33m\u001b[0m\u001b[0m\n\u001b[0;32m      5\u001b[0m \u001b[0mX_train\u001b[0m\u001b[1;33m,\u001b[0m \u001b[0mX_test\u001b[0m\u001b[1;33m,\u001b[0m \u001b[0my_train\u001b[0m\u001b[1;33m,\u001b[0m \u001b[0my_test\u001b[0m \u001b[1;33m=\u001b[0m \u001b[0mtrain_test_split\u001b[0m\u001b[1;33m(\u001b[0m\u001b[0mX\u001b[0m\u001b[1;33m,\u001b[0m \u001b[0my\u001b[0m\u001b[1;33m,\u001b[0m \u001b[0mrandom_state\u001b[0m \u001b[1;33m=\u001b[0m \u001b[1;36m1\u001b[0m\u001b[1;33m)\u001b[0m\u001b[1;33m\u001b[0m\u001b[1;33m\u001b[0m\u001b[0m\n",
      "\u001b[1;31mNameError\u001b[0m: name 'DecisionTreeClassifier' is not defined"
     ]
    }
   ],
   "source": [
    "dt = DecisionTreeClassifier(random_state = 1)\n",
    "\n",
    "X = df_crash.drop(['Target1', 'CRASH_RECORD_ID'], axis = 1)\n",
    "y = df_crash['Target1']\n",
    "X_train, X_test, y_train, y_test = train_test_split(X, y, random_state = 1)\n",
    "\n",
    "dt.fit(X_train, y_train)\n",
    "dt.score(X_test, y_test)"
   ]
  },
  {
   "cell_type": "code",
   "execution_count": null,
   "metadata": {},
   "outputs": [],
   "source": [
    "plot_confusion_matrix(dt, X_test, y_test)"
   ]
  },
  {
   "cell_type": "code",
   "execution_count": null,
   "metadata": {},
   "outputs": [],
   "source": [
    "bayes = CategoricalNB()\n",
    "ohe = OneHotEncoder()\n",
    "logreg = LinearSVC()\n",
    "rf = RandomForestClassifier()\n",
    "ovr = OneVsRestClassifier(logreg)"
   ]
  },
  {
   "cell_type": "code",
   "execution_count": null,
   "metadata": {},
   "outputs": [],
   "source": [
    "main_df.info()"
   ]
  },
  {
   "cell_type": "code",
   "execution_count": null,
   "metadata": {},
   "outputs": [],
   "source": [
    "dt = DecisionTreeClassifier(random_state = 1, max_depth=100)\n",
    "X = main_df.drop(['Target1', 'CRASH_RECORD_ID'], axis=1)\n",
    "y = main_df.Target1\n",
    "\n",
    "X = ohe.fit_transform(X)\n",
    "X_train, X_test, y_train, y_test = train_test_split(X, y, random_state = 1)"
   ]
  },
  {
   "cell_type": "code",
   "execution_count": null,
   "metadata": {
    "tags": []
   },
   "outputs": [],
   "source": [
    "ovr.fit(X_train, y_train)\n",
    "dt.fit(X_train, y_train)\n",
    "print('One vs Rest Score: {}'.format(ovr.score(X_train, y_train)))\n",
    "print('Decision Tree Score: {}'.format(dt.score(X_train, y_train))) "
   ]
  },
  {
   "cell_type": "code",
   "execution_count": null,
   "metadata": {},
   "outputs": [],
   "source": [
    "plot_confusion_matrix(dt, X_test, y_test);"
   ]
  },
  {
   "cell_type": "code",
   "execution_count": null,
   "metadata": {},
   "outputs": [],
   "source": [
    "# train_pred = ovr.predict(X_train)\n",
    "# train_pred = label_binarize(train_pred, classes=len(main_df.Target1))\n",
    "# y_test = label_binarize(y_test, classes=len(main_df.Target1))\n"
   ]
  },
  {
   "cell_type": "code",
   "execution_count": null,
   "metadata": {
    "tags": []
   },
   "outputs": [],
   "source": [
    "# roc_auc_score(y_train, train_pred, multi_class='ovo', average='macro')"
   ]
  },
  {
   "cell_type": "code",
   "execution_count": null,
   "metadata": {},
   "outputs": [],
   "source": [
    "X2 = main_df.drop(['Target1', 'CRASH_RECORD_ID', 'MAKE', 'MODEL', 'CRASH_DATE', 'AGE'], axis=1)\n",
    "y2 = main_df.Target1\n",
    "\n",
    "X2 = ohe.fit_transform(X2)\n",
    "X_train2, X_test2, y_train2, y_test2 = train_test_split(X2, y2, random_state = 1)\n"
   ]
  },
  {
   "cell_type": "code",
   "execution_count": null,
   "metadata": {},
   "outputs": [],
   "source": [
    "ovr.fit(X_train2, y_train2)\n",
    "dt.fit(X_train2, y_train2)\n",
    "print('One vs Rest Score: {}'.format(ovr.score(X_train2, y_train2)))\n",
    "print('Decision Tree Score: {}'.format(dt.score(X_train2, y_train2))) "
   ]
  },
  {
   "cell_type": "markdown",
   "metadata": {},
   "source": [
    "## Pipelines"
   ]
  },
  {
   "cell_type": "code",
   "execution_count": null,
   "metadata": {},
   "outputs": [],
   "source": [
    "pipeline_1 = Pipeline([('ss', StandardScaler()), \n",
    "                        ('RF', RandomForestClassifier(random_state = 1,  max_depth=100))])"
   ]
  },
  {
   "cell_type": "code",
   "execution_count": null,
   "metadata": {},
   "outputs": [],
   "source": [
    "grid = [{'RF__max_depth': [4, 5, 6], \n",
    "         'RF__min_samples_split': [0.1, 1.0, 10], \n",
    "         'RF__min_samples_leaf': [0.1, 0.5, 5]}]\n",
    "GS = GridSearchCV(estimator=pipeline_1, \n",
    "                          param_grid=grid, \n",
    "                          scoring='precision', \n",
    "                          cv=5)"
   ]
  },
  {
   "cell_type": "code",
   "execution_count": null,
   "metadata": {},
   "outputs": [],
   "source": [
    "#GS.fit()"
   ]
  },
  {
   "cell_type": "code",
   "execution_count": null,
   "metadata": {},
   "outputs": [],
   "source": [
    "#GS.cv_results_"
   ]
  },
  {
   "cell_type": "code",
   "execution_count": null,
   "metadata": {},
   "outputs": [],
   "source": [
    "#GS.best_estimator_.score()"
   ]
  },
  {
   "cell_type": "code",
   "execution_count": null,
   "metadata": {},
   "outputs": [],
   "source": [
    "#GS.best_params_"
   ]
  },
  {
   "cell_type": "markdown",
   "metadata": {},
   "source": [
    "## Evaluation\n",
    "Evaluate how well your work solves the stated business problem.\n",
    "\n",
    "***\n",
    "Questions to consider:\n",
    "* How do you interpret the results?\n",
    "* How well does your model fit your data? How much better is this than your baseline model?\n",
    "* How confident are you that your results would generalize beyond the data you have?\n",
    "* How confident are you that this model would benefit the business if put into use?\n",
    "***"
   ]
  },
  {
   "cell_type": "markdown",
   "metadata": {},
   "source": [
    "## Conclusions\n",
    "Provide your conclusions about the work you've done, including any limitations or next steps.\n",
    "\n",
    "***\n",
    "Questions to consider:\n",
    "* What would you recommend the business do as a result of this work?\n",
    "* What are some reasons why your analysis might not fully solve the business problem?\n",
    "* What else could you do in the future to improve this project?\n",
    "***"
   ]
  },
  {
   "cell_type": "code",
   "execution_count": null,
   "metadata": {},
   "outputs": [],
   "source": []
  }
 ],
 "metadata": {
  "kernelspec": {
   "display_name": "Python 3",
   "language": "python",
   "name": "python3"
  },
  "language_info": {
   "codemirror_mode": {
    "name": "ipython",
    "version": 3
   },
   "file_extension": ".py",
   "mimetype": "text/x-python",
   "name": "python",
   "nbconvert_exporter": "python",
   "pygments_lexer": "ipython3",
   "version": "3.8.5"
  }
 },
 "nbformat": 4,
 "nbformat_minor": 5
}
