{
 "cells": [
  {
   "cell_type": "markdown",
   "id": "improving-fault",
   "metadata": {},
   "source": [
    "# Project Title\n",
    "\n",
    "**Authors:** Carlos McCrum, Michael Lee, Doug Mill\n",
    "***"
   ]
  },
  {
   "cell_type": "markdown",
   "id": "located-silence",
   "metadata": {},
   "source": [
    "## Overview\n",
    "\n",
    "A one-paragraph overview of the project, including the business problem, data, methods, results and recommendations."
   ]
  },
  {
   "cell_type": "markdown",
   "id": "latest-server",
   "metadata": {},
   "source": [
    "## Business Problem\n",
    "\n",
    "Summary of the business problem you are trying to solve, and the data questions that you plan to answer to solve them.\n",
    "\n",
    "***\n",
    "Questions to consider:\n",
    "* What are the business's pain points related to this project?\n",
    "* How did you pick the data analysis question(s) that you did?\n",
    "* Why are these questions important from a business perspective?\n",
    "***"
   ]
  },
  {
   "cell_type": "markdown",
   "id": "rough-circulation",
   "metadata": {},
   "source": [
    "## Data Understanding\n",
    "\n",
    "Describe the data being used for this project.\n",
    "***\n",
    "Questions to consider:\n",
    "* Where did the data come from, and how do they relate to the data analysis questions?\n",
    "* What do the data represent? Who is in the sample and what variables are included?\n",
    "* What is the target variable?\n",
    "* What are the properties of the variables you intend to use?\n",
    "***"
   ]
  },
  {
   "cell_type": "code",
   "execution_count": 1,
   "id": "polished-expert",
   "metadata": {},
   "outputs": [],
   "source": [
    "import pandas as pd\n",
    "import numpy as np\n",
    "import matplotlib.pyplot as plt\n",
    "import seaborn as sns\n",
    "from sklearn.tree import DecisionTreeClassifier\n",
    "from sklearn.model_selection import train_test_split, GridSearchCV\n",
    "from sklearn.metrics import plot_confusion_matrix, roc_auc_score, plot_roc_curve\n",
    "from sklearn.preprocessing import MultiLabelBinarizer, OneHotEncoder, StandardScaler, label_binarize\n",
    "from sklearn.compose import make_column_transformer\n",
    "from sklearn.impute import SimpleImputer\n",
    "from sklearn.svm import LinearSVC\n",
    "from sklearn.multiclass import OneVsRestClassifier\n",
    "from sklearn.ensemble import RandomForestClassifier\n",
    "from sklearn.pipeline import Pipeline\n",
    "from sklearn.naive_bayes import CategoricalNB\n",
    "\n",
    "%matplotlib inline\n",
    "import warnings\n",
    "warnings.filterwarnings('ignore')"
   ]
  },
  {
   "cell_type": "markdown",
   "id": "international-unemployment",
   "metadata": {},
   "source": [
    "## Data Preparation\n",
    "\n",
    "Describe and justify the process for preparing the data for analysis.\n",
    "\n",
    "***\n",
    "Questions to consider:\n",
    "* Were there variables you dropped or created?\n",
    "* How did you address missing values or outliers?\n",
    "* Why are these choices appropriate given the data and the business problem?\n",
    "***"
   ]
  },
  {
   "cell_type": "code",
   "execution_count": 2,
   "id": "waiting-assist",
   "metadata": {},
   "outputs": [],
   "source": [
    "df1 = pd.read_csv('Traffic_Crashes_-_Crashes.csv')"
   ]
  },
  {
   "cell_type": "code",
   "execution_count": 3,
   "id": "fifteen-sierra",
   "metadata": {},
   "outputs": [],
   "source": [
    "df2 = pd.read_csv('Traffic_Crashes_-_Vehicles.csv')"
   ]
  },
  {
   "cell_type": "code",
   "execution_count": 4,
   "id": "advised-newsletter",
   "metadata": {},
   "outputs": [],
   "source": [
    "df3 = pd.read_csv('Traffic_Crashes_-_People.csv')"
   ]
  },
  {
   "cell_type": "code",
   "execution_count": 136,
   "id": "located-complement",
   "metadata": {},
   "outputs": [],
   "source": [
    "df_crash = df1.copy()\n",
    "df_vehicle = df2.copy()\n",
    "df_people = df3.copy()"
   ]
  },
  {
   "cell_type": "markdown",
   "id": "dominant-somerset",
   "metadata": {},
   "source": [
    "# Cleaning Vehicles"
   ]
  },
  {
   "cell_type": "code",
   "execution_count": 137,
   "id": "opposed-tragedy",
   "metadata": {},
   "outputs": [],
   "source": [
    "df_vehicle = df_vehicle[['CRASH_RECORD_ID', 'NUM_PASSENGERS', 'VEHICLE_DEFECT',]]"
   ]
  },
  {
   "cell_type": "code",
   "execution_count": 138,
   "id": "modular-spanish",
   "metadata": {},
   "outputs": [
    {
     "data": {
      "text/plain": [
       "NaN     964802\n",
       "1.0     119740\n",
       "2.0      31657\n",
       "3.0      12358\n",
       "4.0       4057\n",
       "5.0       1086\n",
       "6.0        407\n",
       "7.0        156\n",
       "8.0         79\n",
       "10.0        53\n",
       "9.0         47\n",
       "12.0        27\n",
       "11.0        26\n",
       "14.0        16\n",
       "13.0        13\n",
       "15.0        12\n",
       "18.0         9\n",
       "19.0         6\n",
       "17.0         5\n",
       "16.0         5\n",
       "27.0         4\n",
       "25.0         4\n",
       "26.0         4\n",
       "20.0         4\n",
       "35.0         4\n",
       "28.0         4\n",
       "29.0         3\n",
       "24.0         2\n",
       "32.0         2\n",
       "43.0         2\n",
       "38.0         2\n",
       "23.0         2\n",
       "21.0         2\n",
       "40.0         2\n",
       "34.0         2\n",
       "22.0         1\n",
       "42.0         1\n",
       "33.0         1\n",
       "59.0         1\n",
       "36.0         1\n",
       "46.0         1\n",
       "30.0         1\n",
       "37.0         1\n",
       "Name: NUM_PASSENGERS, dtype: int64"
      ]
     },
     "execution_count": 138,
     "metadata": {},
     "output_type": "execute_result"
    }
   ],
   "source": [
    "df_vehicle.NUM_PASSENGERS.value_counts(dropna=False)"
   ]
  },
  {
   "cell_type": "code",
   "execution_count": 139,
   "id": "homeless-onion",
   "metadata": {
    "tags": []
   },
   "outputs": [],
   "source": [
    "No_def = ['NONE', 'UNKNOWN']\n",
    "\n",
    "def veh_defect(val):\n",
    "    if val in No_def:\n",
    "        return 0\n",
    "    else:\n",
    "        return 1\n",
    "    \n",
    "df_vehicle['VEHICLE_DEFECT'] = df_vehicle['VEHICLE_DEFECT'].map(veh_defect)\n",
    "\n",
    "\n",
    "def passengers(val):\n",
    "    if val >= 1:\n",
    "        return 1\n",
    "    else:\n",
    "        pass\n",
    "\n",
    "df_vehicle['NUM_PASSENGERS'] = df_vehicle['NUM_PASSENGERS'].map(passengers)"
   ]
  },
  {
   "cell_type": "code",
   "execution_count": 140,
   "id": "blocked-therapy",
   "metadata": {},
   "outputs": [],
   "source": [
    "df_vehicle.NUM_PASSENGERS = df_vehicle.NUM_PASSENGERS.fillna(0)"
   ]
  },
  {
   "cell_type": "code",
   "execution_count": 141,
   "id": "polished-diversity",
   "metadata": {},
   "outputs": [
    {
     "data": {
      "text/plain": [
       "0.0    964802\n",
       "1.0    169810\n",
       "Name: NUM_PASSENGERS, dtype: int64"
      ]
     },
     "execution_count": 141,
     "metadata": {},
     "output_type": "execute_result"
    }
   ],
   "source": [
    "df_vehicle.NUM_PASSENGERS.value_counts()"
   ]
  },
  {
   "cell_type": "code",
   "execution_count": 142,
   "id": "rotary-guess",
   "metadata": {},
   "outputs": [
    {
     "name": "stdout",
     "output_type": "stream",
     "text": [
      "<class 'pandas.core.frame.DataFrame'>\n",
      "RangeIndex: 1134612 entries, 0 to 1134611\n",
      "Data columns (total 3 columns):\n",
      " #   Column           Non-Null Count    Dtype  \n",
      "---  ------           --------------    -----  \n",
      " 0   CRASH_RECORD_ID  1134612 non-null  object \n",
      " 1   NUM_PASSENGERS   1134612 non-null  float64\n",
      " 2   VEHICLE_DEFECT   1134612 non-null  int64  \n",
      "dtypes: float64(1), int64(1), object(1)\n",
      "memory usage: 26.0+ MB\n"
     ]
    }
   ],
   "source": [
    "df_vehicle.info()"
   ]
  },
  {
   "cell_type": "code",
   "execution_count": 34,
   "id": "metropolitan-spencer",
   "metadata": {},
   "outputs": [],
   "source": [
    "main_df = df_crash.merge(df_vehicle, on='CRASH_RECORD_ID', how='inner').merge(df_people, on='CRASH_RECORD_ID', how='inner')"
   ]
  },
  {
   "cell_type": "markdown",
   "id": "pediatric-semester",
   "metadata": {},
   "source": [
    "## Data Modeling\n",
    "Describe and justify the process for analyzing or modeling the data.\n",
    "\n",
    "***\n",
    "Questions to consider:\n",
    "* How did you analyze or model the data?\n",
    "* How did you iterate on your initial approach to make it better?\n",
    "* Why are these choices appropriate given the data and the business problem?\n",
    "***"
   ]
  },
  {
   "cell_type": "code",
   "execution_count": null,
   "id": "alert-broadway",
   "metadata": {},
   "outputs": [],
   "source": []
  },
  {
   "cell_type": "code",
   "execution_count": 35,
   "id": "dominican-canberra",
   "metadata": {},
   "outputs": [
    {
     "data": {
      "text/plain": [
       "1    0.515205\n",
       "4    0.446610\n",
       "3    0.028182\n",
       "2    0.010003\n",
       "Name: Target1, dtype: float64"
      ]
     },
     "execution_count": 35,
     "metadata": {},
     "output_type": "execute_result"
    }
   ],
   "source": [
    "df_crash['Target1'].value_counts(normalize = True)"
   ]
  },
  {
   "cell_type": "code",
   "execution_count": 36,
   "id": "tutorial-tuesday",
   "metadata": {},
   "outputs": [
    {
     "data": {
      "text/plain": [
       "0.5596108460777874"
      ]
     },
     "execution_count": 36,
     "metadata": {},
     "output_type": "execute_result"
    }
   ],
   "source": [
    "dt = DecisionTreeClassifier(random_state = 1)\n",
    "\n",
    "X = df_crash.drop(['Target1', 'CRASH_RECORD_ID'], axis = 1)\n",
    "y = df_crash['Target1']\n",
    "X_train, X_test, y_train, y_test = train_test_split(X, y, random_state = 1)\n",
    "\n",
    "dt.fit(X_train, y_train)\n",
    "dt.score(X_test, y_test)"
   ]
  },
  {
   "cell_type": "code",
   "execution_count": 37,
   "id": "partial-spray",
   "metadata": {},
   "outputs": [
    {
     "data": {
      "text/plain": [
       "<sklearn.metrics._plot.confusion_matrix.ConfusionMatrixDisplay at 0x7ff851a96250>"
      ]
     },
     "execution_count": 37,
     "metadata": {},
     "output_type": "execute_result"
    },
    {
     "data": {
      "image/png": "[encoded data removed]",
      "text/plain": [
       "<Figure size 432x288 with 2 Axes>"
      ]
     },
     "metadata": {
      "needs_background": "light"
     },
     "output_type": "display_data"
    }
   ],
   "source": [
    "plot_confusion_matrix(dt, X_test, y_test)"
   ]
  },
  {
   "cell_type": "code",
   "execution_count": 38,
   "id": "moral-antenna",
   "metadata": {},
   "outputs": [],
   "source": [
    "bayes = CategoricalNB()\n",
    "ohe = OneHotEncoder()\n",
    "logreg = LinearSVC()\n",
    "rf = RandomForestClassifier()\n",
    "ovr = OneVsRestClassifier(logreg)"
   ]
  },
  {
   "cell_type": "code",
   "execution_count": 39,
   "id": "furnished-voice",
   "metadata": {},
   "outputs": [
    {
     "name": "stdout",
     "output_type": "stream",
     "text": [
      "<class 'pandas.core.frame.DataFrame'>\n",
      "Int64Index: 171507 entries, 0 to 171506\n",
      "Data columns (total 16 columns):\n",
      " #   Column              Non-Null Count   Dtype   \n",
      "---  ------              --------------   -----   \n",
      " 0   CRASH_RECORD_ID     171507 non-null  object  \n",
      " 1   TRAFFIC_DEVICE      171507 non-null  int64   \n",
      " 2   BAD_WEATHER         171507 non-null  int64   \n",
      " 3   BAD_VISIBILITY      171507 non-null  int64   \n",
      " 4   BAD_TRAFFIC         171507 non-null  int64   \n",
      " 5   BAD_ROAD_CONDITION  171507 non-null  int64   \n",
      " 6   DEFECT_ROAD         171507 non-null  int64   \n",
      " 7   Target1             171507 non-null  int64   \n",
      " 8   NUM_PASSENGERS      171507 non-null  int64   \n",
      " 9   VEHICLE_DEFECT      171507 non-null  int64   \n",
      " 10  CRASH_DATE          171507 non-null  object  \n",
      " 11  AGE                 171507 non-null  float64 \n",
      " 12  DRIVER_ACTION       171507 non-null  object  \n",
      " 13  DRIVER_VISION       171507 non-null  object  \n",
      " 14  PHYSICAL_CONDITION  171507 non-null  object  \n",
      " 15  AGE_RANGES          171507 non-null  category\n",
      "dtypes: category(1), float64(1), int64(9), object(5)\n",
      "memory usage: 21.1+ MB\n"
     ]
    }
   ],
   "source": [
    "main_df.info()"
   ]
  },
  {
   "cell_type": "code",
   "execution_count": 40,
   "id": "oriented-anderson",
   "metadata": {
    "tags": []
   },
   "outputs": [
    {
     "name": "stdout",
     "output_type": "stream",
     "text": [
      "One vs Rest Score: 0.5599452451578292\n",
      "Decision Tree Score: 0.5611216563099182\n"
     ]
    }
   ],
   "source": [
    "ovr.fit(X_train, y_train)\n",
    "dt.fit(X_train, y_train)\n",
    "print('One vs Rest Score: {}'.format(ovr.score(X_train, y_train)))\n",
    "print('Decision Tree Score: {}'.format(dt.score(X_train, y_train))) "
   ]
  },
  {
   "cell_type": "code",
   "execution_count": 41,
   "id": "transparent-stand",
   "metadata": {},
   "outputs": [
    {
     "data": {
      "image/png": "[encoded data removed]",
      "text/plain": [
       "<Figure size 432x288 with 2 Axes>"
      ]
     },
     "metadata": {
      "needs_background": "light"
     },
     "output_type": "display_data"
    }
   ],
   "source": [
    "plot_confusion_matrix(dt, X_test, y_test);"
   ]
  },
  {
   "cell_type": "code",
   "execution_count": 42,
   "id": "emerging-screw",
   "metadata": {},
   "outputs": [],
   "source": [
    "# train_pred = ovr.predict(X_train)\n",
    "# train_pred = label_binarize(train_pred, classes=len(main_df.Target1))\n",
    "# y_test = label_binarize(y_test, classes=len(main_df.Target1))\n"
   ]
  },
  {
   "cell_type": "code",
   "execution_count": 43,
   "id": "religious-short",
   "metadata": {
    "tags": []
   },
   "outputs": [],
   "source": [
    "# roc_auc_score(y_train, train_pred, multi_class='ovo', average='macro')"
   ]
  },
  {
   "cell_type": "code",
   "execution_count": 44,
   "id": "sought-taxation",
   "metadata": {},
   "outputs": [],
   "source": [
    "X2 = main_df.drop(['Target1', 'CRASH_RECORD_ID', 'CRASH_DATE', 'AGE'], axis=1)\n",
    "y2 = main_df.Target1\n",
    "\n",
    "X2 = ohe.fit_transform(X2)\n",
    "X_train2, X_test2, y_train2, y_test2 = train_test_split(X2, y2, random_state = 1)\n"
   ]
  },
  {
   "cell_type": "code",
   "execution_count": null,
   "id": "modified-preliminary",
   "metadata": {},
   "outputs": [],
   "source": []
  },
  {
   "cell_type": "code",
   "execution_count": 45,
   "id": "earlier-batch",
   "metadata": {
    "tags": []
   },
   "outputs": [
    {
     "name": "stdout",
     "output_type": "stream",
     "text": [
      "One vs Rest Score: 0.7068024566586333\n",
      "Decision Tree Score: 0.7217212158905387\n"
     ]
    }
   ],
   "source": [
    "ovr.fit(X_train2, y_train2)\n",
    "dt.fit(X_train2, y_train2)\n",
    "print('One vs Rest Score: {}'.format(ovr.score(X_train2, y_train2)))\n",
    "print('Decision Tree Score: {}'.format(dt.score(X_train2, y_train2))) "
   ]
  },
  {
   "cell_type": "markdown",
   "id": "mathematical-palestine",
   "metadata": {},
   "source": [
    "# Piplines"
   ]
  },
  {
   "cell_type": "code",
   "execution_count": 87,
   "id": "informed-increase",
   "metadata": {},
   "outputs": [],
   "source": [
    "pipeline_1 = Pipeline([('ss', StandardScaler()), \n",
    "                        ('RF', RandomForestClassifier(random_state = 1,  max_depth=100))])"
   ]
  },
  {
   "cell_type": "code",
   "execution_count": 88,
   "id": "limiting-penalty",
   "metadata": {},
   "outputs": [],
   "source": [
    "grid = [{'RF__max_depth': [4, 5, 6], \n",
    "         'RF__min_samples_split': [0.1, 1.0, 10], \n",
    "         'RF__min_samples_leaf': [0.1, 0.5, 5]}]\n",
    "GS = GridSearchCV(estimator=pipeline_1, \n",
    "                          param_grid=grid, \n",
    "                          scoring='precision', \n",
    "                          cv=5)"
   ]
  },
  {
   "cell_type": "code",
   "execution_count": null,
   "id": "expanded-customer",
   "metadata": {},
   "outputs": [],
   "source": [
    "#GS.fit()"
   ]
  },
  {
   "cell_type": "code",
   "execution_count": null,
   "id": "appointed-summary",
   "metadata": {},
   "outputs": [],
   "source": [
    "#GS.cv_results_"
   ]
  },
  {
   "cell_type": "code",
   "execution_count": null,
   "id": "wireless-click",
   "metadata": {},
   "outputs": [],
   "source": [
    "#GS.best_estimator_.score()"
   ]
  },
  {
   "cell_type": "code",
   "execution_count": null,
   "id": "boxed-environment",
   "metadata": {},
   "outputs": [],
   "source": [
    "#GS.best_params_"
   ]
  },
  {
   "cell_type": "markdown",
   "id": "satellite-marks",
   "metadata": {},
   "source": [
    "## Evaluation\n",
    "Evaluate how well your work solves the stated business problem.\n",
    "\n",
    "***\n",
    "Questions to consider:\n",
    "* How do you interpret the results?\n",
    "* How well does your model fit your data? How much better is this than your baseline model?\n",
    "* How confident are you that your results would generalize beyond the data you have?\n",
    "* How confident are you that this model would benefit the business if put into use?\n",
    "***"
   ]
  },
  {
   "cell_type": "markdown",
   "id": "fifty-ocean",
   "metadata": {},
   "source": [
    "## Conclusions\n",
    "Provide your conclusions about the work you've done, including any limitations or next steps.\n",
    "\n",
    "***\n",
    "Questions to consider:\n",
    "* What would you recommend the business do as a result of this work?\n",
    "* What are some reasons why your analysis might not fully solve the business problem?\n",
    "* What else could you do in the future to improve this project?\n",
    "***"
   ]
  },
  {
   "cell_type": "code",
   "execution_count": null,
   "id": "coupled-anderson",
   "metadata": {},
   "outputs": [],
   "source": []
  }
 ],
 "metadata": {
  "kernelspec": {
   "display_name": "Python 3",
   "language": "python",
   "name": "python3"
  },
  "language_info": {
   "codemirror_mode": {
    "name": "ipython",
    "version": 3
   },
   "file_extension": ".py",
   "mimetype": "text/x-python",
   "name": "python",
   "nbconvert_exporter": "python",
   "pygments_lexer": "ipython3",
   "version": "3.9.2"
  }
 },
 "nbformat": 4,
 "nbformat_minor": 5
}
