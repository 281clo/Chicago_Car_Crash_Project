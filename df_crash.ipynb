{
 "cells": [
  {
   "cell_type": "code",
   "execution_count": 297,
   "metadata": {},
   "outputs": [],
   "source": [
    "import pandas as pd\n",
    "\n",
    "df_crash = pd.read_csv('data/Traffic_Crashes_Crashes.csv')"
   ]
  },
  {
   "cell_type": "code",
   "execution_count": 298,
   "metadata": {},
   "outputs": [
    {
     "name": "stdout",
     "output_type": "stream",
     "text": [
      "<class 'pandas.core.frame.DataFrame'>\n",
      "RangeIndex: 554228 entries, 0 to 554227\n",
      "Data columns (total 10 columns):\n",
      " #   Column                   Non-Null Count   Dtype \n",
      "---  ------                   --------------   ----- \n",
      " 0   CRASH_RECORD_ID          554228 non-null  object\n",
      " 1   TRAFFIC_CONTROL_DEVICE   554228 non-null  object\n",
      " 2   DEVICE_CONDITION         554228 non-null  object\n",
      " 3   WEATHER_CONDITION        554228 non-null  object\n",
      " 4   LIGHTING_CONDITION       554228 non-null  object\n",
      " 5   TRAFFICWAY_TYPE          554228 non-null  object\n",
      " 6   ROADWAY_SURFACE_COND     554228 non-null  object\n",
      " 7   ROAD_DEFECT              554228 non-null  object\n",
      " 8   PRIM_CONTRIBUTORY_CAUSE  554228 non-null  object\n",
      " 9   SEC_CONTRIBUTORY_CAUSE   554228 non-null  object\n",
      "dtypes: object(10)\n",
      "memory usage: 42.3+ MB\n"
     ]
    }
   ],
   "source": [
    "# drop 'CRASH_DATE_EST_I', 'LANE_CNT', 'INTERSECTION_RELATED_I', 'NOT_RIGHT_OF_WAY_I', 'HIT_AND_RUN_I',\n",
    "# 'PHOTOS_TAKEN_I', 'STATEMENTS_TAKEN_I', 'DOORING_I', 'WORK_ZONE_I', 'WORK_ZONE_TYPE', 'WORKERS_PRESENT_I'\n",
    "\n",
    "not_relevant_info = ['RD_NO', 'CRASH_DATE', 'CRASH_DATE_EST_I', 'LANE_CNT', 'REPORT_TYPE', 'CRASH_TYPE', \\\n",
    "                  'INTERSECTION_RELATED_I', 'NOT_RIGHT_OF_WAY_I', 'DATE_POLICE_NOTIFIED', 'DAMAGE', 'NUM_UNITS', \\\n",
    "                  'HIT_AND_RUN_I', 'PHOTOS_TAKEN_I', 'STATEMENTS_TAKEN_I', 'FIRST_CRASH_TYPE', \\\n",
    "                  'DOORING_I', 'WORK_ZONE_I', 'WORK_ZONE_TYPE', 'WORKERS_PRESENT_I', 'ALIGNMENT', \\\n",
    "                  'MOST_SEVERE_INJURY', 'INJURIES_TOTAL', 'INJURIES_FATAL', 'INJURIES_INCAPACITATING', \\\n",
    "                  'INJURIES_NON_INCAPACITATING', 'INJURIES_REPORTED_NOT_EVIDENT', 'INJURIES_NO_INDICATION', \\\n",
    "                  'INJURIES_REPORTED_NOT_EVIDENT', 'INJURIES_NO_INDICATION', 'INJURIES_UNKNOWN', \\\n",
    "                  'STREET_NO', 'STREET_DIRECTION', 'STREET_NAME', 'BEAT_OF_OCCURRENCE', \\\n",
    "                  'LATITUDE', 'LONGITUDE', 'LOCATION', 'CRASH_HOUR', 'CRASH_DAY_OF_WEEK', 'CRASH_MONTH', 'POSTED_SPEED_LIMIT'\n",
    "                 ]\n",
    "\n",
    "df_crash.drop((not_relevant_info), axis = 1, inplace = True)\n",
    "df_crash.info()"
   ]
  },
  {
   "cell_type": "code",
   "execution_count": 299,
   "metadata": {},
   "outputs": [],
   "source": [
    "relevant_device_present = ['TRAFFIC SIGNAL', 'STOP SIGN/FLASHER', 'OTHER', 'LANE USE MARKING', 'YIELD', 'OTHER REG. SIGN', \\\n",
    "                 'OTHER WARNING SIGN', 'RAILROAD CROSSING GATE', 'PEDESTRIAN CROSSING SIGN', 'POLICE/FLAGMAN', 'SCHOOL ZONE', \\\n",
    "                 'DELINEATORS', 'FLASHING CONTROL SIGNAL', 'BICYCLE CROSSING SIGN', 'NO PASSING', 'RR CROSSING SIGN']\n",
    "\n",
    "def traffic_control_transfomer(val):\n",
    "    if val in relevant_device_present:\n",
    "        return 1\n",
    "    else:\n",
    "        return 0\n",
    "\n",
    "df_crash['TRAFFIC_DEVICE_PRESENT'] = df_crash['TRAFFIC_CONTROL_DEVICE'].map(traffic_control_transfomer)"
   ]
  },
  {
   "cell_type": "code",
   "execution_count": 300,
   "metadata": {},
   "outputs": [],
   "source": [
    "working_devices = ['FUNCTIONING PROPERLY', 'WORN REFLECTIVE MATERIAL']\n",
    "\n",
    "def device_working(val):\n",
    "    if val in working_devices:\n",
    "        return 1\n",
    "    else:\n",
    "        return 0\n",
    "    \n",
    "df_crash['DEVICE_WORKING'] = df_crash['DEVICE_CONDITION'].map(device_working)"
   ]
  },
  {
   "cell_type": "code",
   "execution_count": 301,
   "metadata": {},
   "outputs": [],
   "source": [
    "def device_present(val):\n",
    "    if val == True:\n",
    "        return 1\n",
    "    else:\n",
    "        return 0"
   ]
  },
  {
   "cell_type": "code",
   "execution_count": 302,
   "metadata": {},
   "outputs": [],
   "source": [
    "device_list = (df_crash['TRAFFIC_DEVICE_PRESENT'] == 1) & (df_crash['DEVICE_WORKING'] == 1)\n",
    "device_dataframe = pd.DataFrame(device_list, columns = ['TRAFFIC_DEVICE'], index = df_crash.index)\n",
    "frames = [df_crash, device_dataframe]\n",
    "df_crash = pd.concat(frames, axis = 1)"
   ]
  },
  {
   "cell_type": "code",
   "execution_count": 303,
   "metadata": {},
   "outputs": [],
   "source": [
    "df_crash['TRAFFIC_DEVICE'] = df_crash['TRAFFIC_DEVICE'].map(device_present)"
   ]
  },
  {
   "cell_type": "code",
   "execution_count": 304,
   "metadata": {},
   "outputs": [],
   "source": [
    "bad_weather_cond = ['RAIN', 'SNOW', 'FOG/SMOKE/HAZE', 'SLEET/HAIL', 'FREEZING RAIN/DRIZZLE', 'BLOWING SNOW', \\\n",
    "                   'SEVERE CROSS WIND GATE', 'BLOWING SAND, SOIL, DIRT']\n",
    "\n",
    "def weather_condition(val):\n",
    "    if val in bad_weather_cond:\n",
    "        return 1\n",
    "    else:\n",
    "        return 0\n",
    "    \n",
    "df_crash['BAD_WEATHER'] = df_crash['WEATHER_CONDITION'].map(weather_condition)"
   ]
  },
  {
   "cell_type": "code",
   "execution_count": 305,
   "metadata": {},
   "outputs": [],
   "source": [
    "bad_visibility = ['DARKNESS', 'DUSK', 'DAWN']\n",
    "\n",
    "def visibility(val):\n",
    "    if val in bad_visibility:\n",
    "        return 1\n",
    "    else:\n",
    "        return 0\n",
    "\n",
    "df_crash['BAD_VISIBILITY'] = df_crash['LIGHTING_CONDITION'].map(visibility)"
   ]
  },
  {
   "cell_type": "code",
   "execution_count": 306,
   "metadata": {},
   "outputs": [],
   "source": [
    "def trafficway_danger(val):\n",
    "    if val == 'NOT DIVIDED':\n",
    "        return 1\n",
    "    else:\n",
    "        return 0\n",
    "    \n",
    "df_crash['BAD_TRAFFIC'] = df_crash['TRAFFICWAY_TYPE'].map(trafficway_danger)"
   ]
  },
  {
   "cell_type": "code",
   "execution_count": 307,
   "metadata": {},
   "outputs": [],
   "source": [
    "bad_road_cond = ['WET', 'SNOW OR SLUSH', 'ICE', 'SAND, MUD, DIRT']\n",
    "\n",
    "def road_cond(val):\n",
    "    if val in bad_road_cond:\n",
    "        return 1\n",
    "    else:\n",
    "        return 0\n",
    "    \n",
    "df_crash['BAD_ROAD_CONDITION'] = df_crash['ROADWAY_SURFACE_COND'].map(road_cond)"
   ]
  },
  {
   "cell_type": "code",
   "execution_count": 308,
   "metadata": {},
   "outputs": [],
   "source": [
    "road_defect = ['RUT, HOLES', 'WORN_SURFACE']\n",
    "\n",
    "def defect_road(val):\n",
    "    if val in road_defect:\n",
    "        return 1\n",
    "    else:\n",
    "        return 0\n",
    "\n",
    "df_crash['DEFECT_ROAD'] = df_crash['ROAD_DEFECT'].map(defect_road)"
   ]
  },
  {
   "cell_type": "code",
   "execution_count": 309,
   "metadata": {},
   "outputs": [],
   "source": [
    "driving = ['FAILING TO YIELD RIGHT-OF-WAY', 'FOLLOWING TOO CLOSELY', 'IMPROPER OVERTAKING/PASSING', 'FAILING TO REDUCE SPEED TO AVOID CRASH', \\\n",
    "          'IMPROPER BACKING', 'IMPROPER LANE USAGE', 'IMPROPER TURNING/NO SIGNAL', 'DRIVING SKILLS/KNOWLEDGE/EXPERIENCE', \\\n",
    "          'DISREGARDING TRAFFIC SIGNALS', 'DISREGARDING STOP SIGN', 'DISTRACTION - FROM INSIDE VEHICLE', 'DRIVING ON WRONG SIDE/WRONG WAY', \\\n",
    "          'DISTRACTION - FROM OUTSIDE VEHICLE', 'EXCEEDING AUTHORIZED SPEED LIMIT', 'EXCEEDING SAFE SPEED FOR CONDITIONS', \\\n",
    "          'DISREGARDING OTHER TRAFFIC SIGNS', 'DISREGARDING ROAD MARKINGS', 'TURNING RIGHT ON RED', 'RELATED TO BUS STOP', 'DISREGARDING YIELD SIGN', \\\n",
    "          'DISTRACTION - OTHER ELECTRONIC DEVICE (NAVIGATION DEVICE, DVD PLAYER, ETC.)', 'PASSING STOPPED SCHOOL BUS']\n",
    "behavior = ['PHYSICAL CONDITION OF DRIVER', 'OPERATING VEHICLE IN ERRATIC, RECKLESS, CARELESS, NEGLIGENT OR AGGRESSIVE MANNER' \\\n",
    "           'UNDER THE INFLUENCE OF ALCOHOL/DRUGS (USE WHEN ARREST IS EFFECTED)', 'CELL PHONE USE OTHER THAN TEXTING', \\\n",
    "           'HAD BEEN DRINKING (USE WHEN ARREST IS NOT MADE)', 'TEXTING']\n",
    "road = ['WEATHER', 'VISION OBSCURED (SIGNS, TREE LIMBS, BUILDINGS, ETC.)', 'ROAD ENGINEERING/SURFACE/MARKING DEFECTS', \\\n",
    "       'ROAD CONSTRUCTION/MAINTENANCE']\n",
    "other = ['EQUIPMENT - VEHICLE CONDITION', 'EVASIVE ACTION DUE TO ANIMAL, OBJECT, NONMOTORIST', 'ANIMAL', \\\n",
    "         'BICYCLE ADVANCING LEGALLY ON RED LIGHT', 'OBSTRUCTED CROSSWALKS', 'MOTORCYCLE ADVANCING LEGALLY ON RED LIGHT']"
   ]
  },
  {
   "cell_type": "code",
   "execution_count": 310,
   "metadata": {},
   "outputs": [],
   "source": [
    "for index, row in df_crash.iterrows(): \n",
    "    if df_crash.loc[index,'PRIM_CONTRIBUTORY_CAUSE'] == 'UNABLE TO DETERMINE':\n",
    "        if (df_crash.loc[index,'SEC_CONTRIBUTORY_CAUSE'] != 'UNABLE TO DETERMINE') & (df_crash.loc[index,'SEC_CONTRIBUTORY_CAUSE'] != 'NOT APPLICABLE'):\n",
    "            df_crash.loc[index,'PRIM_CONTRIBUTORY_CAUSE'] = df_crash.loc[index,'SEC_CONTRIBUTORY_CAUSE']"
   ]
  },
  {
   "cell_type": "code",
   "execution_count": 311,
   "metadata": {},
   "outputs": [],
   "source": [
    "def crash_cause(val):\n",
    "    if val in driving:\n",
    "        return 1\n",
    "    elif val in behavior:\n",
    "        return 2\n",
    "    elif val in road:\n",
    "        return 3\n",
    "    else:\n",
    "        return 4\n",
    "\n",
    "df_crash['Target1'] = df_crash['PRIM_CONTRIBUTORY_CAUSE'].map(crash_cause)"
   ]
  },
  {
   "cell_type": "code",
   "execution_count": 312,
   "metadata": {},
   "outputs": [],
   "source": [
    "unnecessary_traffic_columns = ['CRASH_RECORD_ID', 'TRAFFIC_CONTROL_DEVICE', 'DEVICE_CONDITION', 'TRAFFIC_DEVICE_PRESENT', 'DEVICE_WORKING', \\\n",
    "                              'WEATHER_CONDITION', 'LIGHTING_CONDITION', 'TRAFFICWAY_TYPE', 'ROADWAY_SURFACE_COND', 'ROAD_DEFECT', \\\n",
    "                              'PRIM_CONTRIBUTORY_CAUSE', 'SEC_CONTRIBUTORY_CAUSE']\n",
    "df_crash.drop(unnecessary_traffic_columns, axis = 1, inplace = True)"
   ]
  },
  {
   "cell_type": "code",
   "execution_count": 315,
   "metadata": {},
   "outputs": [
    {
     "data": {
      "text/plain": [
       "1    0.515205\n",
       "4    0.446610\n",
       "3    0.028182\n",
       "2    0.010003\n",
       "Name: Target1, dtype: float64"
      ]
     },
     "execution_count": 315,
     "metadata": {},
     "output_type": "execute_result"
    }
   ],
   "source": [
    "df_crash['Target1'].value_counts(normalize = True)"
   ]
  },
  {
   "cell_type": "code",
   "execution_count": 215,
   "metadata": {},
   "outputs": [],
   "source": [
    "# df_crash['DRIVING_ERROR1'] = df_crash['PRIM_CONTRIBUTORY_CAUSE'].map(crash_driving)\n",
    "# df_crash['BEHAVIOR_ERROR1'] = df_crash['PRIM_CONTRIBUTORY_CAUSE'].map(crash_behavior)\n",
    "# df_crash['ROAD_EXTERNAL_CAUSE1'] = df_crash['PRIM_CONTRIBUTORY_CAUSE'].map(crash_road_other)\n",
    "# df_crash['DRIVING_ERROR2'] = df_crash['SEC_CONTRIBUTORY_CAUSE'].map(crash_driving)\n",
    "# df_crash['BEHAVIOR_ERROR2'] = df_crash['SEC_CONTRIBUTORY_CAUSE'].map(crash_behavior)\n",
    "# df_crash['ROAD_EXTERNAL_CAUSE2'] = df_crash['SEC_CONTRIBUTORY_CAUSE'].map(crash_road_other)\n",
    "# driverErrorList = ((df_crash['DRIVING_ERROR1'] == 1) | (df_crash['DRIVING_ERROR2'] == 1))\n",
    "# behaviorErrorList = ((df_crash['BEHAVIOR_ERROR1'] == 1) | (df_crash['BEHAVIOR_ERROR2'] == 1))\n",
    "# roadOther = ((df_crash['ROAD_EXTERNAL_CAUSE1'] == 1) | (df_crash['ROAD_EXTERNAL_CAUSE2'] == 1))\n",
    "# driver_dataframe = pd.DataFrame(device_list, columns = ['DRIVING_ERROR'], index = df_crash.index)\n",
    "# frames = [df_crash, driver_dataframe]\n",
    "# df_crash = pd.concat(frames, axis = 1)"
   ]
  },
  {
   "cell_type": "code",
   "execution_count": 321,
   "metadata": {},
   "outputs": [
    {
     "data": {
      "text/plain": [
       "0.5602820499866481"
      ]
     },
     "execution_count": 321,
     "metadata": {},
     "output_type": "execute_result"
    }
   ],
   "source": [
    "from sklearn.tree import DecisionTreeClassifier\n",
    "from sklearn.model_selection import train_test_split\n",
    "from sklearn.metrics import plot_confusion_matrix\n",
    "\n",
    "\n",
    "dt = DecisionTreeClassifier(random_state = 1)\n",
    "\n",
    "X = df_crash.drop('Target1', axis = 1)\n",
    "y = df_crash['Target1']\n",
    "X_train, X_test, y_train, y_test = train_test_split(X, y, random_state = 1)\n",
    "\n",
    "dt.fit(X_train, y_train)\n",
    "dt.score(X_test, y_test)"
   ]
  },
  {
   "cell_type": "code",
   "execution_count": 322,
   "metadata": {},
   "outputs": [
    {
     "data": {
      "text/plain": [
       "<sklearn.metrics._plot.confusion_matrix.ConfusionMatrixDisplay at 0x1ed88548b20>"
      ]
     },
     "execution_count": 322,
     "metadata": {},
     "output_type": "execute_result"
    },
    {
     "data": {
      "image/png": "[encoded data removed]",
      "text/plain": [
       "<Figure size 432x288 with 2 Axes>"
      ]
     },
     "metadata": {
      "needs_background": "light"
     },
     "output_type": "display_data"
    }
   ],
   "source": [
    "plot_confusion_matrix(dt, X_test, y_test)"
   ]
  },
  {
   "cell_type": "code",
   "execution_count": null,
   "metadata": {},
   "outputs": [],
   "source": []
  }
 ],
 "metadata": {
  "kernelspec": {
   "display_name": "Python 3",
   "language": "python",
   "name": "python3"
  },
  "language_info": {
   "codemirror_mode": {
    "name": "ipython",
    "version": 3
   },
   "file_extension": ".py",
   "mimetype": "text/x-python",
   "name": "python",
   "nbconvert_exporter": "python",
   "pygments_lexer": "ipython3",
   "version": "3.9.2"
  }
 },
 "nbformat": 4,
 "nbformat_minor": 4
}
