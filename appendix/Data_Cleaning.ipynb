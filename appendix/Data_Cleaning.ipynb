{
 "cells": [
  {
   "cell_type": "markdown",
   "id": "finnish-destination",
   "metadata": {},
   "source": [
    "# Data Preparation\n",
    "\n",
    "Since we are looking at contributing factors to a car crash, information that occurs after the crash event is not utilizable. \n",
    "So, we drop unncessary columns and transform the 'object' data types in the dataframe into a 'int' data type in order for us to pass it into a model.\n",
    "\n",
    "For missing values, if there was a way to fill those in with a reasonable explaination, we did so. Luckily, missing values mostly fell under the columns which we determined not relevant to the crash.\n",
    "\n",
    "First we dropped all unnecessary columns such as injury severity and street direction. After dropping missing values we could not reasonably populate ourselves, we were left with a dataset of ~950,000 entries. Then, we mapped all the object data types into an int or float 64 to pass into our model. Finally, we created a Target column to label the crashes as Preventable or Less Preventable.\n",
    "***"
   ]
  },
  {
   "cell_type": "markdown",
   "id": "foster-diagnosis",
   "metadata": {},
   "source": [
    "Import packages"
   ]
  },
  {
   "cell_type": "code",
   "execution_count": 5,
   "id": "funny-junior",
   "metadata": {},
   "outputs": [],
   "source": [
    "import pandas as pd\n",
    "import numpy as np\n",
    "from sklearn.model_selection import train_test_split, cross_val_score\n",
    "from sklearn.dummy import DummyClassifier\n",
    "from sklearn.metrics import plot_confusion_matrix\n",
    "import matplotlib.pyplot as plt\n",
    "import seaborn as sns\n",
    "%matplotlib inline"
   ]
  },
  {
   "cell_type": "markdown",
   "id": "civilian-armenia",
   "metadata": {},
   "source": [
    "Read the csv files using pandas"
   ]
  },
  {
   "cell_type": "code",
   "execution_count": 18,
   "id": "covered-lotus",
   "metadata": {},
   "outputs": [],
   "source": [
    "df_crash = pd.read_csv('../data/raw_data/Traffic_Crashes_Crashes.csv', low_memory=False)"
   ]
  },
  {
   "cell_type": "code",
   "execution_count": 19,
   "id": "informed-audience",
   "metadata": {},
   "outputs": [],
   "source": [
    "df_vehicle = pd.read_csv('../data/raw_data/Traffic_Crashes_Vehicle.csv', low_memory=False)"
   ]
  },
  {
   "cell_type": "code",
   "execution_count": 20,
   "id": "occupied-brisbane",
   "metadata": {},
   "outputs": [],
   "source": [
    "df_people = pd.read_csv('../data/raw_data/Traffic_Crashes_People.csv', low_memory=False)"
   ]
  },
  {
   "cell_type": "markdown",
   "id": "desirable-institute",
   "metadata": {},
   "source": [
    "***\n",
    "# Cleaning Crashes"
   ]
  },
  {
   "cell_type": "markdown",
   "id": "dried-stock",
   "metadata": {},
   "source": [
    "### Dropping Columns\n",
    "\n",
    "\n",
    "Within the Crashes dataset, our team determined that there were a lot of columns that did not contribute any value to the \n",
    "stakeholder's business problem, which is identifying causes of a car crash. Information such as injuries may tell us the severity of the crash, but not a clue on to how the crash occured. Same applies to when the police were notified and time it took place.\n",
    "\n",
    "Columns such as 'INTERSECTION_RELATED_I', 'NOT_RIGHT_OF_WAY_I' may contain relevant information, however they hold too many null values for us to fill, so we decided to drop them.\n",
    "\n",
    "Columns such 'STREET_DIRECTION' and 'ALIGNMENT' tells us the road shape, but since it is not feasible to change any of these roads - meaning they will always have turns and a direction - so we also left these columns from our final dataset."
   ]
  },
  {
   "cell_type": "code",
   "execution_count": 21,
   "id": "increasing-spine",
   "metadata": {
    "tags": []
   },
   "outputs": [],
   "source": [
    "# Drop columns that are not relevant to \"Car Crash Contributors\". For example, information about the injury severity does not \n",
    "# tell us a contributing factor to a crash.\n",
    "\n",
    "not_relevant_info = ['RD_NO', 'CRASH_DATE', 'CRASH_DATE_EST_I', 'LANE_CNT', 'REPORT_TYPE', 'CRASH_TYPE', \\\n",
    "                     'INTERSECTION_RELATED_I', 'NOT_RIGHT_OF_WAY_I', 'DATE_POLICE_NOTIFIED', 'DAMAGE', 'NUM_UNITS', \\\n",
    "                     'HIT_AND_RUN_I', 'PHOTOS_TAKEN_I', 'STATEMENTS_TAKEN_I', 'FIRST_CRASH_TYPE', \\\n",
    "                     'DOORING_I', 'WORK_ZONE_I', 'WORK_ZONE_TYPE', 'WORKERS_PRESENT_I', 'ALIGNMENT', \\\n",
    "                     'MOST_SEVERE_INJURY', 'INJURIES_TOTAL', 'INJURIES_FATAL', 'INJURIES_INCAPACITATING', \\\n",
    "                     'INJURIES_NON_INCAPACITATING', 'INJURIES_REPORTED_NOT_EVIDENT', 'INJURIES_NO_INDICATION', \\\n",
    "                     'INJURIES_REPORTED_NOT_EVIDENT', 'INJURIES_NO_INDICATION', 'INJURIES_UNKNOWN', \\\n",
    "                     'STREET_NO', 'STREET_DIRECTION', 'STREET_NAME', 'BEAT_OF_OCCURRENCE', \\\n",
    "                     'LOCATION', 'CRASH_HOUR', 'CRASH_DAY_OF_WEEK', 'CRASH_MONTH', 'POSTED_SPEED_LIMIT']\n",
    "\n",
    "df_crash.drop((not_relevant_info), axis = 1, inplace = True)\n"
   ]
  },
  {
   "cell_type": "markdown",
   "id": "dress-attempt",
   "metadata": {},
   "source": [
    "Define different functions to categorize columns into numarical columns for our models. "
   ]
  },
  {
   "cell_type": "code",
   "execution_count": 22,
   "id": "blind-lyric",
   "metadata": {},
   "outputs": [],
   "source": [
    "# Helper Functions \n",
    "def traffic_control_transfomer(val):\n",
    "    if val in relevant_device_present:\n",
    "        return 1\n",
    "    else:\n",
    "        return 0\n",
    "    \n",
    "def device_working(val):\n",
    "    if val in working_devices:\n",
    "        return 1\n",
    "    else:\n",
    "        return 0\n",
    "\n",
    "def device_present(val):\n",
    "    if val == True:\n",
    "        return 1\n",
    "    else:\n",
    "        return 0\n",
    "\n",
    "def weather_condition(val):\n",
    "    if val in bad_weather_cond:\n",
    "        return 1\n",
    "    else:\n",
    "        return 0\n",
    "\n",
    "def visibility(val):\n",
    "    if val in bad_visibility:\n",
    "        return 1\n",
    "    else:\n",
    "        return 0\n",
    "\n",
    "def trafficway_danger(val):\n",
    "    if val == 'NOT DIVIDED':\n",
    "        return 1\n",
    "    else:\n",
    "        return 0\n",
    "\n",
    "def road_cond(val):\n",
    "    if val in bad_road_cond:\n",
    "        return 1\n",
    "    else:\n",
    "        return 0\n",
    "\n",
    "def defect_road(val):\n",
    "    if val in road_defect:\n",
    "        return 1\n",
    "    else:\n",
    "        return 0\n",
    "    \n",
    "def crash_cause(val):\n",
    "    if val in driving:\n",
    "        return 1\n",
    "    elif val in behavior:\n",
    "        return 2\n",
    "    elif val in road:\n",
    "        return 3\n",
    "    else:\n",
    "        return 4\n",
    "\n",
    "def boolean(val):\n",
    "    if val == False:\n",
    "        return 0\n",
    "    else:\n",
    "        return 1\n",
    "    \n",
    "def one(val):\n",
    "    if val == 5:\n",
    "        return 1\n",
    "    else:\n",
    "        return val\n",
    "\n",
    "def two(val):\n",
    "    if val == 5:\n",
    "        return 2\n",
    "    else:\n",
    "        return val"
   ]
  },
  {
   "cell_type": "markdown",
   "id": "express-livestock",
   "metadata": {},
   "source": [
    "Initialize list to help map columns from object to int64 based upon the 4 main factors"
   ]
  },
  {
   "cell_type": "code",
   "execution_count": 23,
   "id": "premier-strike",
   "metadata": {
    "tags": []
   },
   "outputs": [],
   "source": [
    "relevant_device_present = ['TRAFFIC SIGNAL', 'STOP SIGN/FLASHER', 'OTHER', 'LANE USE MARKING', 'YIELD', 'OTHER REG. SIGN', \\\n",
    "                 'OTHER WARNING SIGN', 'RAILROAD CROSSING GATE', 'PEDESTRIAN CROSSING SIGN', 'POLICE/FLAGMAN', 'SCHOOL ZONE', \\\n",
    "                 'DELINEATORS', 'FLASHING CONTROL SIGNAL', 'BICYCLE CROSSING SIGN', 'NO PASSING', 'RR CROSSING SIGN']\n",
    "working_devices = ['FUNCTIONING PROPERLY', 'WORN REFLECTIVE MATERIAL']\n",
    "bad_weather_cond = ['RAIN', 'SNOW', 'FOG/SMOKE/HAZE', 'SLEET/HAIL', 'FREEZING RAIN/DRIZZLE', 'BLOWING SNOW', \\\n",
    "                   'SEVERE CROSS WIND GATE', 'BLOWING SAND, SOIL, DIRT']\n",
    "bad_visibility = ['DARKNESS', 'DUSK', 'DAWN']\n",
    "bad_road_cond = ['WET', 'SNOW OR SLUSH', 'ICE', 'SAND, MUD, DIRT']\n",
    "road_defect = ['RUT, HOLES', 'WORN_SURFACE']"
   ]
  },
  {
   "cell_type": "markdown",
   "id": "absent-waste",
   "metadata": {},
   "source": [
    "Map all columns to int64 to model"
   ]
  },
  {
   "cell_type": "code",
   "execution_count": 24,
   "id": "executed-adapter",
   "metadata": {
    "tags": []
   },
   "outputs": [],
   "source": [
    "df_crash['BAD_WEATHER'] = df_crash['WEATHER_CONDITION'].map(weather_condition)\n",
    "df_crash['BAD_VISIBILITY'] = df_crash['LIGHTING_CONDITION'].map(visibility)\n",
    "df_crash['BAD_TRAFFIC'] = df_crash['TRAFFICWAY_TYPE'].map(trafficway_danger)\n",
    "df_crash['BAD_ROAD_CONDITION'] = df_crash['ROADWAY_SURFACE_COND'].map(road_cond)\n",
    "df_crash['DEFECT_ROAD'] = df_crash['ROAD_DEFECT'].map(defect_road)\n",
    "\n",
    "df_crash['TRAFFIC_DEVICE_PRESENT'] = df_crash['TRAFFIC_CONTROL_DEVICE'].map(traffic_control_transfomer)\n",
    "df_crash['DEVICE_WORKING'] = df_crash['DEVICE_CONDITION'].map(device_working)"
   ]
  },
  {
   "cell_type": "markdown",
   "id": "medical-special",
   "metadata": {},
   "source": [
    "Final 'Device' column that returns \"1\" when the traffice device is both present, AND working."
   ]
  },
  {
   "cell_type": "code",
   "execution_count": 25,
   "id": "incoming-country",
   "metadata": {
    "tags": []
   },
   "outputs": [],
   "source": [
    "device_list = (df_crash['TRAFFIC_DEVICE_PRESENT'] == 1) & (df_crash['DEVICE_WORKING'] == 1)\n",
    "device_dataframe = pd.DataFrame(device_list, columns = ['TRAFFIC_DEVICE'], index = df_crash.index)\n",
    "frames = [df_crash, device_dataframe]\n",
    "df_crash = pd.concat(frames, axis = 1)\n",
    "df_crash['WORKING_TRAFFIC_DEVICE'] = df_crash['TRAFFIC_DEVICE'].map(device_present)"
   ]
  },
  {
   "cell_type": "markdown",
   "id": "fifteen-tumor",
   "metadata": {},
   "source": [
    "List for mapping \"PRIMARY CONTRIBUTORY CAUSE\" as recorded by officer at scene."
   ]
  },
  {
   "cell_type": "code",
   "execution_count": 26,
   "id": "interesting-swimming",
   "metadata": {
    "tags": []
   },
   "outputs": [],
   "source": [
    "driving = ['FAILING TO YIELD RIGHT-OF-WAY', 'FOLLOWING TOO CLOSELY', 'IMPROPER OVERTAKING/PASSING', 'FAILING TO REDUCE SPEED TO AVOID CRASH', \\\n",
    "          'IMPROPER BACKING', 'IMPROPER LANE USAGE', 'IMPROPER TURNING/NO SIGNAL', 'DRIVING SKILLS/KNOWLEDGE/EXPERIENCE', \\\n",
    "          'DISREGARDING TRAFFIC SIGNALS', 'DISREGARDING STOP SIGN', 'DISTRACTION - FROM INSIDE VEHICLE', 'DRIVING ON WRONG SIDE/WRONG WAY', \\\n",
    "          'DISTRACTION - FROM OUTSIDE VEHICLE', 'EXCEEDING AUTHORIZED SPEED LIMIT', 'EXCEEDING SAFE SPEED FOR CONDITIONS', \\\n",
    "          'DISREGARDING OTHER TRAFFIC SIGNS', 'DISREGARDING ROAD MARKINGS', 'TURNING RIGHT ON RED', 'RELATED TO BUS STOP', 'DISREGARDING YIELD SIGN', \\\n",
    "           'PASSING STOPPED SCHOOL BUS']\n",
    "behavior = ['PHYSICAL CONDITION OF DRIVER', 'OPERATING VEHICLE IN ERRATIC, RECKLESS, CARELESS, NEGLIGENT OR AGGRESSIVE MANNER' \\\n",
    "           'UNDER THE INFLUENCE OF ALCOHOL/DRUGS (USE WHEN ARREST IS EFFECTED)', 'CELL PHONE USE OTHER THAN TEXTING', \\\n",
    "           'HAD BEEN DRINKING (USE WHEN ARREST IS NOT MADE)', 'TEXTING', 'DISTRACTION - OTHER ELECTRONIC DEVICE (NAVIGATION DEVICE, DVD PLAYER, ETC.)']\n",
    "road = ['WEATHER', 'VISION OBSCURED (SIGNS, TREE LIMBS, BUILDINGS, ETC.)', 'ROAD ENGINEERING/SURFACE/MARKING DEFECTS', \\\n",
    "       'ROAD CONSTRUCTION/MAINTENANCE']\n",
    "other = ['EQUIPMENT - VEHICLE CONDITION', 'EVASIVE ACTION DUE TO ANIMAL, OBJECT, NONMOTORIST', 'ANIMAL', \\\n",
    "         'BICYCLE ADVANCING LEGALLY ON RED LIGHT', 'OBSTRUCTED CROSSWALKS', 'MOTORCYCLE ADVANCING LEGALLY ON RED LIGHT']\n",
    "\n",
    "df_crash['Target1'] = df_crash['PRIM_CONTRIBUTORY_CAUSE'].map(crash_cause)"
   ]
  },
  {
   "cell_type": "markdown",
   "id": "leading-luxembourg",
   "metadata": {},
   "source": [
    "Update any rows where 'PRIM_CONTRIBUTORY_CAUSE' is \"not determined\" and 'SEC_CONTRIBUTORY_CAUSE' have a value, then update 'PRIM_CONTRIBUTORY_CAUSE' to the value entered in'SEC_CONTRIBUTORY_CAUSE'"
   ]
  },
  {
   "cell_type": "code",
   "execution_count": 27,
   "id": "structured-regression",
   "metadata": {
    "tags": []
   },
   "outputs": [],
   "source": [
    "for index, row in df_crash.iterrows(): \n",
    "    if df_crash.loc[index,'PRIM_CONTRIBUTORY_CAUSE'] == 'UNABLE TO DETERMINE':\n",
    "        if (df_crash.loc[index,'SEC_CONTRIBUTORY_CAUSE'] != 'UNABLE TO DETERMINE') & (df_crash.loc[index,'SEC_CONTRIBUTORY_CAUSE'] != 'NOT APPLICABLE'):\n",
    "            df_crash.loc[index,'PRIM_CONTRIBUTORY_CAUSE'] = df_crash.loc[index,'SEC_CONTRIBUTORY_CAUSE']"
   ]
  },
  {
   "cell_type": "markdown",
   "id": "grateful-fleece",
   "metadata": {},
   "source": [
    "Converting 'UNABLE TO DETERMINE' columns to be recorded as \"road\" when 'BAD ROAD CONDITION' is also true"
   ]
  },
  {
   "cell_type": "code",
   "execution_count": 28,
   "id": "wireless-clause",
   "metadata": {},
   "outputs": [],
   "source": [
    "df_crash['is_two'] = (df_crash['Target1'] == 4) & (df_crash['BAD_ROAD_CONDITION'] == 1)\n",
    "df_crash['Target'] = df_crash['Target1'] + df_crash['is_two']\n",
    "df_crash['is_two'] = df_crash['is_two'].map(two)\n",
    "df_crash['Target'] = df_crash['Target1'] + df_crash['is_two']"
   ]
  },
  {
   "cell_type": "code",
   "execution_count": 29,
   "id": "focused-secretary",
   "metadata": {},
   "outputs": [],
   "source": [
    "def road(val):\n",
    "    if val == 5:\n",
    "        return 3\n",
    "    else:\n",
    "        return val\n",
    "df_crash['Target'] = df_crash['Target'].map(road)"
   ]
  },
  {
   "cell_type": "markdown",
   "id": "polished-springfield",
   "metadata": {},
   "source": [
    "Drop transformed columns to have final clean dataset"
   ]
  },
  {
   "cell_type": "code",
   "execution_count": 30,
   "id": "another-stack",
   "metadata": {
    "tags": []
   },
   "outputs": [],
   "source": [
    "unnecessary_traffic_columns = ['TRAFFIC_CONTROL_DEVICE', 'DEVICE_CONDITION', 'TRAFFIC_DEVICE_PRESENT', 'DEVICE_WORKING', \\\n",
    "                              'WEATHER_CONDITION', 'LIGHTING_CONDITION', 'TRAFFICWAY_TYPE', 'ROADWAY_SURFACE_COND', 'ROAD_DEFECT', \\\n",
    "                              'PRIM_CONTRIBUTORY_CAUSE', 'SEC_CONTRIBUTORY_CAUSE', 'TRAFFIC_DEVICE', 'Target1', 'is_two']\n",
    "df_crash.drop(unnecessary_traffic_columns, axis = 1, inplace = True)"
   ]
  },
  {
   "cell_type": "markdown",
   "id": "funny-trailer",
   "metadata": {},
   "source": [
    "Save file to a csv folder so we do not have to run all the data cleaning steps again."
   ]
  },
  {
   "cell_type": "code",
   "execution_count": 31,
   "id": "recovered-gather",
   "metadata": {},
   "outputs": [],
   "source": [
    "df_crash.to_csv('../data/cleaned_data/cleaned_crash_data.csv')"
   ]
  },
  {
   "cell_type": "markdown",
   "id": "exotic-niagara",
   "metadata": {},
   "source": [
    "***\n",
    "# Cleaning People"
   ]
  },
  {
   "cell_type": "markdown",
   "id": "received-salvation",
   "metadata": {},
   "source": [
    "Drop columns that do not have any predictive or inferential value in determining the cause of a car crash"
   ]
  },
  {
   "cell_type": "code",
   "execution_count": 32,
   "id": "biblical-metabolism",
   "metadata": {},
   "outputs": [],
   "source": [
    "df_people.drop(['PERSON_ID', 'PERSON_TYPE', 'RD_NO', 'VEHICLE_ID', 'SEAT_NO', 'CITY', 'STATE', 'ZIPCODE', 'SEX', \n",
    "         'DRIVERS_LICENSE_STATE', 'DRIVERS_LICENSE_CLASS', 'SAFETY_EQUIPMENT', 'AIRBAG_DEPLOYED', 'EJECTION', \n",
    "         'INJURY_CLASSIFICATION', 'HOSPITAL', 'EMS_AGENCY', 'EMS_RUN_NO', 'PEDPEDAL_ACTION', 'PEDPEDAL_VISIBILITY', \n",
    "         'PEDPEDAL_LOCATION', 'BAC_RESULT', 'BAC_RESULT VALUE', 'CELL_PHONE_USE'], axis=1, inplace=True)"
   ]
  },
  {
   "cell_type": "markdown",
   "id": "potential-works",
   "metadata": {},
   "source": [
    "Drop missing and null values"
   ]
  },
  {
   "cell_type": "code",
   "execution_count": 33,
   "id": "fleet-doctrine",
   "metadata": {},
   "outputs": [],
   "source": [
    "df_people.dropna(subset=['AGE'], inplace=True)\n",
    "df_people.dropna(subset=['DRIVER_ACTION'], inplace=True)\n",
    "df_people.dropna(subset=['DRIVER_VISION'], inplace=True)\n",
    "df_people.dropna(subset=['PHYSICAL_CONDITION'], inplace=True)"
   ]
  },
  {
   "cell_type": "markdown",
   "id": "instructional-remainder",
   "metadata": {},
   "source": [
    "Cleaning the 3 columns with many unknown values"
   ]
  },
  {
   "cell_type": "code",
   "execution_count": 34,
   "id": "instructional-partnership",
   "metadata": {},
   "outputs": [],
   "source": [
    "df_people = df_people[df_people['DRIVER_VISION']!='UNKNOWN']\n",
    "df_people = df_people[df_people['DRIVER_ACTION']!='UNKNOWN']\n",
    "df_people = df_people[df_people['PHYSICAL_CONDITION']!='UNKNOWN']"
   ]
  },
  {
   "cell_type": "markdown",
   "id": "little-saturday",
   "metadata": {},
   "source": [
    "Formatting, cleaning, and binning the AGE column. 15 is the youngest age to legally drive in the state of Illinois\n",
    "with a learner's permit. "
   ]
  },
  {
   "cell_type": "code",
   "execution_count": 35,
   "id": "amazing-zealand",
   "metadata": {},
   "outputs": [],
   "source": [
    "df_people = df_people[df_people['AGE']>=15]"
   ]
  },
  {
   "cell_type": "markdown",
   "id": "cloudy-threshold",
   "metadata": {},
   "source": [
    "Define Lists for helper functions in order to map"
   ]
  },
  {
   "cell_type": "code",
   "execution_count": 36,
   "id": "public-branch",
   "metadata": {},
   "outputs": [],
   "source": [
    "dangerous_beh = ['IMPAIRED - ALCOHOL', 'FATIGUED/ASLEEP', 'EMOTIONAL', 'ILLNESS/FAINTED', 'HAD BEEN DRINKING', \n",
    "                 'IMPAIRED - DRUGS', 'IMPAIRED - ALCOHOL AND DRUGS', 'MEDICATED']\n",
    "bad_vision = ['OTHER', 'MOVING VEHICLES', 'PARKED VEHICLES', 'WINDSHIELD (WATER/ICE)', 'BLINDED - SUNLIGHT', 'HILLCREST',\n",
    "             'EMBANKMENT', 'BLOWING MATERIALS', 'SIGNBOARD']\n",
    "bad_action = ['OTHER', 'FAILED TO YIELD', 'FOLLOWED TOO CLOSELY', 'IMPROPER TURN', 'IMPROPER BACKING', 'IMPROPER LANE CHANGE',\n",
    "             'IMPROPER PASSING', 'TOO FAST FOR CONDITIONS', 'DISREGARDED CONTROL DEVICES', 'IMPROPER PARKING',\n",
    "             'WRONG WAY/SIDE', 'CELL PHONE USE OTHER THAN TEXTING', 'OVERCORRECTED', 'EMERGENCY VEHICLE ON CALL',\n",
    "             'EVADING POLICE VEHICLE', 'TEXTING', 'STOPPED SCHOOL BUS', 'LICENSE RESTRICTIONS']"
   ]
  },
  {
   "cell_type": "markdown",
   "id": "directed-worker",
   "metadata": {},
   "source": [
    "Transform more categorical columns into numerical format. "
   ]
  },
  {
   "cell_type": "code",
   "execution_count": 37,
   "id": "impaired-oxford",
   "metadata": {},
   "outputs": [],
   "source": [
    "def physical_condition(val):\n",
    "    if val in dangerous_beh:\n",
    "        return 1\n",
    "    else:\n",
    "        return 0\n",
    "    \n",
    "def obscured_vision(val):\n",
    "    if val in bad_vision:\n",
    "        return 1\n",
    "    else:\n",
    "        return 0\n",
    "\n",
    "def driver_error(val):\n",
    "    if val in bad_action:\n",
    "        return 1\n",
    "    else:\n",
    "        return 0\n",
    "\n",
    "def ages(val):\n",
    "    if val in highrisk_ages:\n",
    "        return 1\n",
    "    else:\n",
    "        return 0"
   ]
  },
  {
   "cell_type": "markdown",
   "id": "proved-joining",
   "metadata": {},
   "source": [
    "Map and drop object columns as they were tranformed into a data format we can pass into a model columns"
   ]
  },
  {
   "cell_type": "code",
   "execution_count": 38,
   "id": "superior-beads",
   "metadata": {},
   "outputs": [],
   "source": [
    "df_people['DANGEROUS_BEH'] = df_people['PHYSICAL_CONDITION'].map(physical_condition)\n",
    "df_people['OBSCURED_VIZ'] = df_people['DRIVER_VISION'].map(obscured_vision)\n",
    "df_people['DRIVER_ERROR'] = df_people['DRIVER_ACTION'].map(driver_error)\n",
    "unnecessary_columns = ['AGE', 'DRIVER_ACTION', 'DRIVER_VISION', 'PHYSICAL_CONDITION']\n",
    "df_people.drop(unnecessary_columns, axis = 1, inplace=True)"
   ]
  },
  {
   "cell_type": "markdown",
   "id": "threatened-minority",
   "metadata": {},
   "source": [
    "Save file to a csv folder so we do not have to run all the data cleaning steps again."
   ]
  },
  {
   "cell_type": "code",
   "execution_count": 39,
   "id": "conditional-offer",
   "metadata": {},
   "outputs": [],
   "source": [
    "df_people.to_csv('../data/cleaned_data/cleaned_people_data.csv')"
   ]
  },
  {
   "cell_type": "markdown",
   "id": "endangered-catalog",
   "metadata": {},
   "source": [
    "***\n",
    "# Cleaning Vehicles"
   ]
  },
  {
   "cell_type": "markdown",
   "id": "legislative-prevention",
   "metadata": {},
   "source": [
    "Instantiate pandas DataFrame with only relevant columns"
   ]
  },
  {
   "cell_type": "code",
   "execution_count": 40,
   "id": "attached-freeware",
   "metadata": {},
   "outputs": [],
   "source": [
    "df_vehicle = df_vehicle[['CRASH_RECORD_ID', 'NUM_PASSENGERS', 'VEHICLE_DEFECT']]"
   ]
  },
  {
   "cell_type": "markdown",
   "id": "hispanic-front",
   "metadata": {},
   "source": [
    "Transform the last categorical columns into numerical format and clean up for our models. "
   ]
  },
  {
   "cell_type": "code",
   "execution_count": 49,
   "id": "smart-beach",
   "metadata": {},
   "outputs": [],
   "source": [
    "No_def = ['NONE', 'UNKNOWN']\n",
    "\n",
    "def veh_defect(val):\n",
    "    if val in No_def:\n",
    "        return 0\n",
    "    else:\n",
    "        return 1\n",
    "\n",
    "def passengers(val):\n",
    "    if val >= 1:\n",
    "        return 1\n",
    "    else:\n",
    "        pass"
   ]
  },
  {
   "cell_type": "code",
   "execution_count": 42,
   "id": "healthy-vision",
   "metadata": {},
   "outputs": [],
   "source": [
    "df_vehicle['VEHICLE_DEFECT'] = df_vehicle['VEHICLE_DEFECT'].map(veh_defect)\n",
    "df_vehicle['NUM_PASSENGERS'] = df_vehicle['NUM_PASSENGERS'].map(passengers)"
   ]
  },
  {
   "cell_type": "markdown",
   "id": "differential-leone",
   "metadata": {},
   "source": [
    "If missing values for passengers, update to just driver in car"
   ]
  },
  {
   "cell_type": "code",
   "execution_count": 43,
   "id": "convenient-genre",
   "metadata": {},
   "outputs": [],
   "source": [
    "df_vehicle.NUM_PASSENGERS = df_vehicle.NUM_PASSENGERS.fillna(0)"
   ]
  },
  {
   "cell_type": "markdown",
   "id": "secure-intervention",
   "metadata": {},
   "source": [
    "Save file to a csv folder so we do not have to run all the data cleaning steps again."
   ]
  },
  {
   "cell_type": "code",
   "execution_count": 44,
   "id": "charged-nicaragua",
   "metadata": {},
   "outputs": [],
   "source": [
    "df_vehicle.to_csv('../data/cleaned_data/cleaned_vehicle_data.csv')"
   ]
  },
  {
   "cell_type": "markdown",
   "id": "crazy-wrestling",
   "metadata": {},
   "source": [
    "# Creating the Main Dataframe, \"main_df\""
   ]
  },
  {
   "cell_type": "code",
   "execution_count": 45,
   "id": "activated-triangle",
   "metadata": {},
   "outputs": [],
   "source": [
    "# Merge the the DataFrames into one using 'CRASH_RECORD_ID' column to join\n",
    "main_df = df_crash.merge(df_vehicle, left_on='CRASH_RECORD_ID', right_on = 'CRASH_RECORD_ID', how='inner')\n",
    "main_df = main_df.merge(df_people, left_on='CRASH_RECORD_ID', right_on = 'CRASH_RECORD_ID', how='inner')"
   ]
  },
  {
   "cell_type": "markdown",
   "id": "critical-license",
   "metadata": {},
   "source": [
    "Once we merged the dataframes, we noticed that the number of rows in our dataset increased drastically, but not exactly 2x. \n",
    "\n",
    "After examining the data, we found that some rows had split into two entries due to a crash normally involving two parties (but not always, so hence the ALMOST 2x). \n",
    "\n",
    "We decided to keep the duplicated entries as no matter how many parties were involved, a cause that determined the crash affected all parties.\n",
    "\n",
    "Then, we fixed the Target columns to accurately reflect the 'DANGEROUS_BEH' column as the Target column was created before the \n",
    "'DANGEROUS_BEH' merge. Same logic applies to the 'DRIVER_ERROR' column."
   ]
  },
  {
   "cell_type": "code",
   "execution_count": 46,
   "id": "removable-brick",
   "metadata": {},
   "outputs": [],
   "source": [
    "# Converting 'UNABLE TO DETERMINE' columns to be recorded as \"behavior\" when 'DANGEROUS_BEH' is also true\n",
    "main_df['is_two'] = (main_df['Target'] == 4) & (main_df['DANGEROUS_BEH'] == 1)\n",
    "main_df['is_two'] = main_df['is_two'].map(boolean)\n",
    "main_df['Target'] = main_df['Target'] + main_df['is_two']\n",
    "main_df['Target'] = main_df['Target'].map(two)\n",
    "main_df.drop(['is_two'], axis = 1, inplace = True)\n",
    "\n",
    "# Converting 'UNABLE TO DETERMINE' columns to be recorded as \"driver\" when 'DRIVER_ERROR' is also true\n",
    "main_df['is_one'] = (main_df['Target'] == 4) & (main_df['DRIVER_ERROR'] == 1)\n",
    "main_df['is_one'] = main_df['is_one'].map(boolean)\n",
    "main_df['Target'] = main_df['Target'] + main_df['is_one']\n",
    "main_df['Target'] = main_df['Target'].map(one)\n",
    "main_df.drop(['is_one'], axis = 1, inplace = True)"
   ]
  },
  {
   "cell_type": "markdown",
   "id": "bridal-cover",
   "metadata": {},
   "source": [
    "## Originally we wanted to do a 4 target classifer - driver error, behavioral error, road conditions, and other factors.\n",
    "\n",
    "However, due to the class imbalance, we grouped driver action (driver error, behavioral error) and road / external factors in order to fix the class imbalance problem."
   ]
  },
  {
   "cell_type": "code",
   "execution_count": 47,
   "id": "polished-ultimate",
   "metadata": {},
   "outputs": [
    {
     "data": {
      "text/plain": [
       "0    718270\n",
       "1    233870\n",
       "Name: Target, dtype: int64"
      ]
     },
     "execution_count": 47,
     "metadata": {},
     "output_type": "execute_result"
    }
   ],
   "source": [
    "def target_map(val):\n",
    "    if ((val == 1) | (val == 2)):\n",
    "        return 0\n",
    "    elif ((val == 3) | (val == 4)):\n",
    "        return 1\n",
    "    \n",
    "main_df['Target'] = main_df['Target'].map(target_map)\n",
    "main_df['Target'].value_counts()\n",
    "\n"
   ]
  },
  {
   "cell_type": "markdown",
   "id": "plain-granny",
   "metadata": {},
   "source": [
    "Before saving our final modeling data to a csv, we ran a heatmap to see if there are any concerning correlations."
   ]
  },
  {
   "cell_type": "code",
   "execution_count": 48,
   "id": "documented-lucas",
   "metadata": {},
   "outputs": [
    {
     "data": {
      "image/png": "[encoded data removed]",
      "text/plain": [
       "<Figure size 1440x1440 with 2 Axes>"
      ]
     },
     "metadata": {},
     "output_type": "display_data"
    }
   ],
   "source": [
    "sns.set(rc={'figure.figsize':(20, 20)})\n",
    "sns.heatmap(main_df.corr().abs(),annot=True);"
   ]
  },
  {
   "cell_type": "markdown",
   "id": "current-class",
   "metadata": {},
   "source": [
    "Because BAD_WEATHER and BAD_ROAD_CONDITIONS are highly correlated with each other. To not overfit to our data, we dropped BAD_WEATHER from our dataset."
   ]
  },
  {
   "cell_type": "code",
   "execution_count": 39,
   "id": "fourth-broadcast",
   "metadata": {},
   "outputs": [],
   "source": [
    "main_df.drop('BAD_WEATHER', axis = 1, inplace = True)"
   ]
  },
  {
   "cell_type": "markdown",
   "id": "pleasant-philadelphia",
   "metadata": {},
   "source": [
    "Save final file to a csv folder for our main cleaned csv file. "
   ]
  },
  {
   "cell_type": "code",
   "execution_count": 40,
   "id": "artistic-pressing",
   "metadata": {},
   "outputs": [],
   "source": [
    "main_df.to_csv('../data/cleaned_data/cleaned_modeling_data.csv')"
   ]
  },
  {
   "cell_type": "code",
   "execution_count": 51,
   "id": "chemical-words",
   "metadata": {
    "scrolled": true
   },
   "outputs": [
    {
     "data": {
      "text/html": [
       "<div>\n",
       "<style scoped>\n",
       "    .dataframe tbody tr th:only-of-type {\n",
       "        vertical-align: middle;\n",
       "    }\n",
       "\n",
       "    .dataframe tbody tr th {\n",
       "        vertical-align: top;\n",
       "    }\n",
       "\n",
       "    .dataframe thead th {\n",
       "        text-align: right;\n",
       "    }\n",
       "</style>\n",
       "<table border=\"1\" class=\"dataframe\">\n",
       "  <thead>\n",
       "    <tr style=\"text-align: right;\">\n",
       "      <th></th>\n",
       "      <th>CRASH_RECORD_ID</th>\n",
       "      <th>LATITUDE</th>\n",
       "      <th>LONGITUDE</th>\n",
       "      <th>BAD_VISIBILITY</th>\n",
       "      <th>BAD_TRAFFIC</th>\n",
       "      <th>BAD_ROAD_CONDITION</th>\n",
       "      <th>DEFECT_ROAD</th>\n",
       "      <th>WORKING_TRAFFIC_DEVICE</th>\n",
       "      <th>Target</th>\n",
       "      <th>NUM_PASSENGERS</th>\n",
       "      <th>VEHICLE_DEFECT</th>\n",
       "      <th>CRASH_DATE</th>\n",
       "      <th>DANGEROUS_BEH</th>\n",
       "      <th>OBSCURED_VIZ</th>\n",
       "      <th>DRIVER_ERROR</th>\n",
       "    </tr>\n",
       "  </thead>\n",
       "  <tbody>\n",
       "    <tr>\n",
       "      <th>0</th>\n",
       "      <td>4fd0a3e0897b3335b94cd8d5b2d2b350eb691add56c62d...</td>\n",
       "      <td>41.919664</td>\n",
       "      <td>-87.773288</td>\n",
       "      <td>0</td>\n",
       "      <td>0</td>\n",
       "      <td>0</td>\n",
       "      <td>0</td>\n",
       "      <td>0</td>\n",
       "      <td>0</td>\n",
       "      <td>0.0</td>\n",
       "      <td>0</td>\n",
       "      <td>07/10/2019 05:56:00 PM</td>\n",
       "      <td>0</td>\n",
       "      <td>0</td>\n",
       "      <td>0</td>\n",
       "    </tr>\n",
       "    <tr>\n",
       "      <th>1</th>\n",
       "      <td>4fd0a3e0897b3335b94cd8d5b2d2b350eb691add56c62d...</td>\n",
       "      <td>41.919664</td>\n",
       "      <td>-87.773288</td>\n",
       "      <td>0</td>\n",
       "      <td>0</td>\n",
       "      <td>0</td>\n",
       "      <td>0</td>\n",
       "      <td>0</td>\n",
       "      <td>0</td>\n",
       "      <td>1.0</td>\n",
       "      <td>0</td>\n",
       "      <td>07/10/2019 05:56:00 PM</td>\n",
       "      <td>0</td>\n",
       "      <td>0</td>\n",
       "      <td>0</td>\n",
       "    </tr>\n",
       "    <tr>\n",
       "      <th>2</th>\n",
       "      <td>009e9e67203442370272e1a13d6ee51a4155dac65e583d...</td>\n",
       "      <td>41.741804</td>\n",
       "      <td>-87.740954</td>\n",
       "      <td>0</td>\n",
       "      <td>1</td>\n",
       "      <td>0</td>\n",
       "      <td>0</td>\n",
       "      <td>1</td>\n",
       "      <td>0</td>\n",
       "      <td>0.0</td>\n",
       "      <td>0</td>\n",
       "      <td>06/30/2017 04:00:00 PM</td>\n",
       "      <td>0</td>\n",
       "      <td>0</td>\n",
       "      <td>0</td>\n",
       "    </tr>\n",
       "    <tr>\n",
       "      <th>3</th>\n",
       "      <td>009e9e67203442370272e1a13d6ee51a4155dac65e583d...</td>\n",
       "      <td>41.741804</td>\n",
       "      <td>-87.740954</td>\n",
       "      <td>0</td>\n",
       "      <td>1</td>\n",
       "      <td>0</td>\n",
       "      <td>0</td>\n",
       "      <td>1</td>\n",
       "      <td>0</td>\n",
       "      <td>1.0</td>\n",
       "      <td>0</td>\n",
       "      <td>06/30/2017 04:00:00 PM</td>\n",
       "      <td>0</td>\n",
       "      <td>0</td>\n",
       "      <td>0</td>\n",
       "    </tr>\n",
       "    <tr>\n",
       "      <th>4</th>\n",
       "      <td>ee9283eff3a55ac50ee58f3d9528ce1d689b1c4180b4c4...</td>\n",
       "      <td>41.773456</td>\n",
       "      <td>-87.585022</td>\n",
       "      <td>0</td>\n",
       "      <td>0</td>\n",
       "      <td>0</td>\n",
       "      <td>0</td>\n",
       "      <td>1</td>\n",
       "      <td>0</td>\n",
       "      <td>0.0</td>\n",
       "      <td>0</td>\n",
       "      <td>07/10/2020 10:25:00 AM</td>\n",
       "      <td>0</td>\n",
       "      <td>0</td>\n",
       "      <td>1</td>\n",
       "    </tr>\n",
       "  </tbody>\n",
       "</table>\n",
       "</div>"
      ],
      "text/plain": [
       "                                     CRASH_RECORD_ID   LATITUDE  LONGITUDE  \\\n",
       "0  4fd0a3e0897b3335b94cd8d5b2d2b350eb691add56c62d...  41.919664 -87.773288   \n",
       "1  4fd0a3e0897b3335b94cd8d5b2d2b350eb691add56c62d...  41.919664 -87.773288   \n",
       "2  009e9e67203442370272e1a13d6ee51a4155dac65e583d...  41.741804 -87.740954   \n",
       "3  009e9e67203442370272e1a13d6ee51a4155dac65e583d...  41.741804 -87.740954   \n",
       "4  ee9283eff3a55ac50ee58f3d9528ce1d689b1c4180b4c4...  41.773456 -87.585022   \n",
       "\n",
       "   BAD_VISIBILITY  BAD_TRAFFIC  BAD_ROAD_CONDITION  DEFECT_ROAD  \\\n",
       "0               0            0                   0            0   \n",
       "1               0            0                   0            0   \n",
       "2               0            1                   0            0   \n",
       "3               0            1                   0            0   \n",
       "4               0            0                   0            0   \n",
       "\n",
       "   WORKING_TRAFFIC_DEVICE  Target  NUM_PASSENGERS  VEHICLE_DEFECT  \\\n",
       "0                       0       0             0.0               0   \n",
       "1                       0       0             1.0               0   \n",
       "2                       1       0             0.0               0   \n",
       "3                       1       0             1.0               0   \n",
       "4                       1       0             0.0               0   \n",
       "\n",
       "               CRASH_DATE  DANGEROUS_BEH  OBSCURED_VIZ  DRIVER_ERROR  \n",
       "0  07/10/2019 05:56:00 PM              0             0             0  \n",
       "1  07/10/2019 05:56:00 PM              0             0             0  \n",
       "2  06/30/2017 04:00:00 PM              0             0             0  \n",
       "3  06/30/2017 04:00:00 PM              0             0             0  \n",
       "4  07/10/2020 10:25:00 AM              0             0             1  "
      ]
     },
     "execution_count": 51,
     "metadata": {},
     "output_type": "execute_result"
    }
   ],
   "source": [
    "# A preview, if you wanted to load the data to explore\n",
    "main_df = pd.read_csv('../data/cleaned_data/cleaned_modeling_data.csv')\n",
    "main_df.drop('Unnamed: 0', axis = 1, inplace = True)\n",
    "main_df.head()"
   ]
  },
  {
   "cell_type": "code",
   "execution_count": null,
   "id": "severe-crest",
   "metadata": {},
   "outputs": [],
   "source": []
  }
 ],
 "metadata": {
  "kernelspec": {
   "display_name": "Python 3",
   "language": "python",
   "name": "python3"
  },
  "language_info": {
   "codemirror_mode": {
    "name": "ipython",
    "version": 3
   },
   "file_extension": ".py",
   "mimetype": "text/x-python",
   "name": "python",
   "nbconvert_exporter": "python",
   "pygments_lexer": "ipython3",
   "version": "3.9.2"
  }
 },
 "nbformat": 4,
 "nbformat_minor": 5
}
