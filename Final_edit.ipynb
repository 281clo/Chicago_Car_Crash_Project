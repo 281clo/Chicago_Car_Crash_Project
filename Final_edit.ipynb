{
 "cells": [
  {
   "cell_type": "markdown",
   "id": "initial-microphone",
   "metadata": {},
   "source": [
    "# Project Title\n",
    "\n",
    "**Authors:** Student 1, Student 2, Student 3\n",
    "***"
   ]
  },
  {
   "cell_type": "markdown",
   "id": "southeast-judges",
   "metadata": {},
   "source": [
    "## Overview\n",
    "\n",
    "A one-paragraph overview of the project, including the business problem, data, methods, results and recommendations."
   ]
  },
  {
   "cell_type": "markdown",
   "id": "productive-silver",
   "metadata": {},
   "source": [
    "## Business Problem\n",
    "\n",
    "Summary of the business problem you are trying to solve, and the data questions that you plan to answer to solve them.\n",
    "\n",
    "***\n",
    "Questions to consider:\n",
    "* What are the business's pain points related to this project?\n",
    "* How did you pick the data analysis question(s) that you did?\n",
    "* Why are these questions important from a business perspective?\n",
    "***"
   ]
  },
  {
   "cell_type": "markdown",
   "id": "musical-luxury",
   "metadata": {},
   "source": [
    "## Data Understanding\n",
    "\n",
    "Describe the data being used for this project.\n",
    "***\n",
    "Questions to consider:\n",
    "* Where did the data come from, and how do they relate to the data analysis questions?\n",
    "* What do the data represent? Who is in the sample and what variables are included?\n",
    "* What is the target variable?\n",
    "* What are the properties of the variables you intend to use?\n",
    "***"
   ]
  },
  {
   "cell_type": "code",
   "execution_count": 7,
   "id": "constitutional-gentleman",
   "metadata": {},
   "outputs": [],
   "source": [
    "import pandas as pd\n",
    "import numpy as np\n",
    "import matplotlib.pyplot as plt\n",
    "import seaborn as sns\n",
    "from sklearn.tree import DecisionTreeClassifier\n",
    "from sklearn.model_selection import train_test_split\n",
    "from sklearn.metrics import plot_confusion_matrix\n",
    "\n",
    "%matplotlib inline\n",
    "import warnings\n",
    "warnings.filterwarnings('ignore')"
   ]
  },
  {
   "cell_type": "markdown",
   "id": "hourly-branch",
   "metadata": {},
   "source": [
    "## Data Preparation\n",
    "\n",
    "Describe and justify the process for preparing the data for analysis.\n",
    "\n",
    "***\n",
    "Questions to consider:\n",
    "* Were there variables you dropped or created?\n",
    "* How did you address missing values or outliers?\n",
    "* Why are these choices appropriate given the data and the business problem?\n",
    "***"
   ]
  },
  {
   "cell_type": "code",
   "execution_count": 28,
   "id": "gothic-employee",
   "metadata": {},
   "outputs": [],
   "source": [
    "df_crash = pd.read_csv('data/Traffic_Crashes_-_Crashes.csv')"
   ]
  },
  {
   "cell_type": "code",
   "execution_count": 29,
   "id": "artificial-signature",
   "metadata": {},
   "outputs": [],
   "source": [
    "df_vehicle = pd.read_csv('data/Traffic_Crashes_-_Vehicles.csv')"
   ]
  },
  {
   "cell_type": "code",
   "execution_count": 30,
   "id": "liquid-hardwood",
   "metadata": {},
   "outputs": [],
   "source": [
    "df_people = pd.read_csv('data/Traffic_Crashes_-_People.csv')"
   ]
  },
  {
   "cell_type": "markdown",
   "id": "former-prisoner",
   "metadata": {},
   "source": [
    "***\n",
    "# Cleaning Crashes"
   ]
  },
  {
   "cell_type": "code",
   "execution_count": 11,
   "id": "married-rhythm",
   "metadata": {},
   "outputs": [
    {
     "name": "stdout",
     "output_type": "stream",
     "text": [
      "<class 'pandas.core.frame.DataFrame'>\n",
      "RangeIndex: 554228 entries, 0 to 554227\n",
      "Data columns (total 10 columns):\n",
      " #   Column                   Non-Null Count   Dtype \n",
      "---  ------                   --------------   ----- \n",
      " 0   CRASH_RECORD_ID          554228 non-null  object\n",
      " 1   TRAFFIC_CONTROL_DEVICE   554228 non-null  object\n",
      " 2   DEVICE_CONDITION         554228 non-null  object\n",
      " 3   WEATHER_CONDITION        554228 non-null  object\n",
      " 4   LIGHTING_CONDITION       554228 non-null  object\n",
      " 5   TRAFFICWAY_TYPE          554228 non-null  object\n",
      " 6   ROADWAY_SURFACE_COND     554228 non-null  object\n",
      " 7   ROAD_DEFECT              554228 non-null  object\n",
      " 8   PRIM_CONTRIBUTORY_CAUSE  554228 non-null  object\n",
      " 9   SEC_CONTRIBUTORY_CAUSE   554228 non-null  object\n",
      "dtypes: object(10)\n",
      "memory usage: 42.3+ MB\n"
     ]
    }
   ],
   "source": [
    "# drop 'CRASH_DATE_EST_I', 'LANE_CNT', 'INTERSECTION_RELATED_I', 'NOT_RIGHT_OF_WAY_I', 'HIT_AND_RUN_I',\n",
    "# 'PHOTOS_TAKEN_I', 'STATEMENTS_TAKEN_I', 'DOORING_I', 'WORK_ZONE_I', 'WORK_ZONE_TYPE', 'WORKERS_PRESENT_I'\n",
    "\n",
    "not_relevant_info = ['RD_NO', 'CRASH_DATE', 'CRASH_DATE_EST_I', 'LANE_CNT', 'REPORT_TYPE', 'CRASH_TYPE', \\\n",
    "                  'INTERSECTION_RELATED_I', 'NOT_RIGHT_OF_WAY_I', 'DATE_POLICE_NOTIFIED', 'DAMAGE', 'NUM_UNITS', \\\n",
    "                  'HIT_AND_RUN_I', 'PHOTOS_TAKEN_I', 'STATEMENTS_TAKEN_I', 'FIRST_CRASH_TYPE', \\\n",
    "                  'DOORING_I', 'WORK_ZONE_I', 'WORK_ZONE_TYPE', 'WORKERS_PRESENT_I', 'ALIGNMENT', \\\n",
    "                  'MOST_SEVERE_INJURY', 'INJURIES_TOTAL', 'INJURIES_FATAL', 'INJURIES_INCAPACITATING', \\\n",
    "                  'INJURIES_NON_INCAPACITATING', 'INJURIES_REPORTED_NOT_EVIDENT', 'INJURIES_NO_INDICATION', \\\n",
    "                  'INJURIES_REPORTED_NOT_EVIDENT', 'INJURIES_NO_INDICATION', 'INJURIES_UNKNOWN', \\\n",
    "                  'STREET_NO', 'STREET_DIRECTION', 'STREET_NAME', 'BEAT_OF_OCCURRENCE', \\\n",
    "                  'LATITUDE', 'LONGITUDE', 'LOCATION', 'CRASH_HOUR', 'CRASH_DAY_OF_WEEK', 'CRASH_MONTH', 'POSTED_SPEED_LIMIT'\n",
    "                 ]\n",
    "\n",
    "df_crash.drop((not_relevant_info), axis = 1, inplace = True)\n",
    "df_crash.info()"
   ]
  },
  {
   "cell_type": "code",
   "execution_count": 12,
   "id": "contemporary-sheriff",
   "metadata": {},
   "outputs": [],
   "source": [
    "relevant_device_present = ['TRAFFIC SIGNAL', 'STOP SIGN/FLASHER', 'OTHER', 'LANE USE MARKING', 'YIELD', 'OTHER REG. SIGN', \\\n",
    "                 'OTHER WARNING SIGN', 'RAILROAD CROSSING GATE', 'PEDESTRIAN CROSSING SIGN', 'POLICE/FLAGMAN', 'SCHOOL ZONE', \\\n",
    "                 'DELINEATORS', 'FLASHING CONTROL SIGNAL', 'BICYCLE CROSSING SIGN', 'NO PASSING', 'RR CROSSING SIGN']\n",
    "\n",
    "def traffic_control_transfomer(val):\n",
    "    if val in relevant_device_present:\n",
    "        return 1\n",
    "    else:\n",
    "        return 0\n",
    "\n",
    "df_crash['TRAFFIC_DEVICE_PRESENT'] = df_crash['TRAFFIC_CONTROL_DEVICE'].map(traffic_control_transfomer)"
   ]
  },
  {
   "cell_type": "code",
   "execution_count": 13,
   "id": "helpful-placement",
   "metadata": {},
   "outputs": [],
   "source": [
    "working_devices = ['FUNCTIONING PROPERLY', 'WORN REFLECTIVE MATERIAL']\n",
    "\n",
    "def device_working(val):\n",
    "    if val in working_devices:\n",
    "        return 1\n",
    "    else:\n",
    "        return 0\n",
    "    \n",
    "df_crash['DEVICE_WORKING'] = df_crash['DEVICE_CONDITION'].map(device_working)"
   ]
  },
  {
   "cell_type": "code",
   "execution_count": 14,
   "id": "looking-processing",
   "metadata": {},
   "outputs": [],
   "source": [
    "def device_present(val):\n",
    "    if val == True:\n",
    "        return 1\n",
    "    else:\n",
    "        return 0"
   ]
  },
  {
   "cell_type": "code",
   "execution_count": 15,
   "id": "exceptional-picking",
   "metadata": {},
   "outputs": [],
   "source": [
    "device_list = (df_crash['TRAFFIC_DEVICE_PRESENT'] == 1) & (df_crash['DEVICE_WORKING'] == 1)\n",
    "device_dataframe = pd.DataFrame(device_list, columns = ['TRAFFIC_DEVICE'], index = df_crash.index)\n",
    "frames = [df_crash, device_dataframe]\n",
    "df_crash = pd.concat(frames, axis = 1)"
   ]
  },
  {
   "cell_type": "code",
   "execution_count": 16,
   "id": "complete-hardwood",
   "metadata": {},
   "outputs": [],
   "source": [
    "df_crash['TRAFFIC_DEVICE'] = df_crash['TRAFFIC_DEVICE'].map(device_present)"
   ]
  },
  {
   "cell_type": "code",
   "execution_count": 17,
   "id": "norman-north",
   "metadata": {},
   "outputs": [],
   "source": [
    "bad_weather_cond = ['RAIN', 'SNOW', 'FOG/SMOKE/HAZE', 'SLEET/HAIL', 'FREEZING RAIN/DRIZZLE', 'BLOWING SNOW', \\\n",
    "                   'SEVERE CROSS WIND GATE', 'BLOWING SAND, SOIL, DIRT']\n",
    "\n",
    "def weather_condition(val):\n",
    "    if val in bad_weather_cond:\n",
    "        return 1\n",
    "    else:\n",
    "        return 0\n",
    "    \n",
    "df_crash['BAD_WEATHER'] = df_crash['WEATHER_CONDITION'].map(weather_condition)"
   ]
  },
  {
   "cell_type": "code",
   "execution_count": 18,
   "id": "handled-oregon",
   "metadata": {},
   "outputs": [],
   "source": [
    "bad_visibility = ['DARKNESS', 'DUSK', 'DAWN']\n",
    "\n",
    "def visibility(val):\n",
    "    if val in bad_visibility:\n",
    "        return 1\n",
    "    else:\n",
    "        return 0\n",
    "\n",
    "df_crash['BAD_VISIBILITY'] = df_crash['LIGHTING_CONDITION'].map(visibility)"
   ]
  },
  {
   "cell_type": "code",
   "execution_count": 19,
   "id": "radical-deputy",
   "metadata": {},
   "outputs": [],
   "source": [
    "def trafficway_danger(val):\n",
    "    if val == 'NOT DIVIDED':\n",
    "        return 1\n",
    "    else:\n",
    "        return 0\n",
    "    \n",
    "df_crash['BAD_TRAFFIC'] = df_crash['TRAFFICWAY_TYPE'].map(trafficway_danger)"
   ]
  },
  {
   "cell_type": "code",
   "execution_count": 20,
   "id": "embedded-briefs",
   "metadata": {},
   "outputs": [],
   "source": [
    "bad_road_cond = ['WET', 'SNOW OR SLUSH', 'ICE', 'SAND, MUD, DIRT']\n",
    "\n",
    "def road_cond(val):\n",
    "    if val in bad_road_cond:\n",
    "        return 1\n",
    "    else:\n",
    "        return 0\n",
    "    \n",
    "df_crash['BAD_ROAD_CONDITION'] = df_crash['ROADWAY_SURFACE_COND'].map(road_cond)"
   ]
  },
  {
   "cell_type": "code",
   "execution_count": 21,
   "id": "human-editor",
   "metadata": {},
   "outputs": [],
   "source": [
    "road_defect = ['RUT, HOLES', 'WORN_SURFACE']\n",
    "\n",
    "def defect_road(val):\n",
    "    if val in road_defect:\n",
    "        return 1\n",
    "    else:\n",
    "        return 0\n",
    "\n",
    "df_crash['DEFECT_ROAD'] = df_crash['ROAD_DEFECT'].map(defect_road)"
   ]
  },
  {
   "cell_type": "code",
   "execution_count": 22,
   "id": "adaptive-innocent",
   "metadata": {},
   "outputs": [],
   "source": [
    "driving = ['FAILING TO YIELD RIGHT-OF-WAY', 'FOLLOWING TOO CLOSELY', 'IMPROPER OVERTAKING/PASSING', 'FAILING TO REDUCE SPEED TO AVOID CRASH', \\\n",
    "          'IMPROPER BACKING', 'IMPROPER LANE USAGE', 'IMPROPER TURNING/NO SIGNAL', 'DRIVING SKILLS/KNOWLEDGE/EXPERIENCE', \\\n",
    "          'DISREGARDING TRAFFIC SIGNALS', 'DISREGARDING STOP SIGN', 'DISTRACTION - FROM INSIDE VEHICLE', 'DRIVING ON WRONG SIDE/WRONG WAY', \\\n",
    "          'DISTRACTION - FROM OUTSIDE VEHICLE', 'EXCEEDING AUTHORIZED SPEED LIMIT', 'EXCEEDING SAFE SPEED FOR CONDITIONS', \\\n",
    "          'DISREGARDING OTHER TRAFFIC SIGNS', 'DISREGARDING ROAD MARKINGS', 'TURNING RIGHT ON RED', 'RELATED TO BUS STOP', 'DISREGARDING YIELD SIGN', \\\n",
    "          'DISTRACTION - OTHER ELECTRONIC DEVICE (NAVIGATION DEVICE, DVD PLAYER, ETC.)', 'PASSING STOPPED SCHOOL BUS']\n",
    "behavior = ['PHYSICAL CONDITION OF DRIVER', 'OPERATING VEHICLE IN ERRATIC, RECKLESS, CARELESS, NEGLIGENT OR AGGRESSIVE MANNER' \\\n",
    "           'UNDER THE INFLUENCE OF ALCOHOL/DRUGS (USE WHEN ARREST IS EFFECTED)', 'CELL PHONE USE OTHER THAN TEXTING', \\\n",
    "           'HAD BEEN DRINKING (USE WHEN ARREST IS NOT MADE)', 'TEXTING']\n",
    "road = ['WEATHER', 'VISION OBSCURED (SIGNS, TREE LIMBS, BUILDINGS, ETC.)', 'ROAD ENGINEERING/SURFACE/MARKING DEFECTS', \\\n",
    "       'ROAD CONSTRUCTION/MAINTENANCE']\n",
    "other = ['EQUIPMENT - VEHICLE CONDITION', 'EVASIVE ACTION DUE TO ANIMAL, OBJECT, NONMOTORIST', 'ANIMAL', \\\n",
    "         'BICYCLE ADVANCING LEGALLY ON RED LIGHT', 'OBSTRUCTED CROSSWALKS', 'MOTORCYCLE ADVANCING LEGALLY ON RED LIGHT']"
   ]
  },
  {
   "cell_type": "code",
   "execution_count": 23,
   "id": "square-skirt",
   "metadata": {},
   "outputs": [],
   "source": [
    "for index, row in df_crash.iterrows(): \n",
    "    if df_crash.loc[index,'PRIM_CONTRIBUTORY_CAUSE'] == 'UNABLE TO DETERMINE':\n",
    "        if (df_crash.loc[index,'SEC_CONTRIBUTORY_CAUSE'] != 'UNABLE TO DETERMINE') & (df_crash.loc[index,'SEC_CONTRIBUTORY_CAUSE'] != 'NOT APPLICABLE'):\n",
    "            df_crash.loc[index,'PRIM_CONTRIBUTORY_CAUSE'] = df_crash.loc[index,'SEC_CONTRIBUTORY_CAUSE']"
   ]
  },
  {
   "cell_type": "code",
   "execution_count": 24,
   "id": "behind-blond",
   "metadata": {},
   "outputs": [],
   "source": [
    "def crash_cause(val):\n",
    "    if val in driving:\n",
    "        return 1\n",
    "    elif val in behavior:\n",
    "        return 2\n",
    "    elif val in road:\n",
    "        return 3\n",
    "    else:\n",
    "        return 4\n",
    "\n",
    "df_crash['Target1'] = df_crash['PRIM_CONTRIBUTORY_CAUSE'].map(crash_cause)"
   ]
  },
  {
   "cell_type": "code",
   "execution_count": 25,
   "id": "leading-breathing",
   "metadata": {},
   "outputs": [],
   "source": [
    "unnecessary_traffic_columns = ['CRASH_RECORD_ID', 'TRAFFIC_CONTROL_DEVICE', 'DEVICE_CONDITION', 'TRAFFIC_DEVICE_PRESENT', 'DEVICE_WORKING', \\\n",
    "                              'WEATHER_CONDITION', 'LIGHTING_CONDITION', 'TRAFFICWAY_TYPE', 'ROADWAY_SURFACE_COND', 'ROAD_DEFECT', \\\n",
    "                              'PRIM_CONTRIBUTORY_CAUSE', 'SEC_CONTRIBUTORY_CAUSE']\n",
    "df_crash.drop(unnecessary_traffic_columns, axis = 1, inplace = True)"
   ]
  },
  {
   "cell_type": "markdown",
   "id": "champion-paint",
   "metadata": {},
   "source": [
    "***\n",
    "# Cleaning People"
   ]
  },
  {
   "cell_type": "code",
   "execution_count": 31,
   "id": "eight-favorite",
   "metadata": {},
   "outputs": [
    {
     "data": {
      "text/plain": [
       "Index(['CRASH_RECORD_ID', 'CRASH_DATE', 'AGE', 'DRIVER_ACTION',\n",
       "       'DRIVER_VISION', 'PHYSICAL_CONDITION'],\n",
       "      dtype='object')"
      ]
     },
     "execution_count": 31,
     "metadata": {},
     "output_type": "execute_result"
    }
   ],
   "source": [
    "df_people.drop(['PERSON_ID', 'PERSON_TYPE', 'RD_NO', 'VEHICLE_ID', 'SEAT_NO', 'CITY', 'STATE', 'ZIPCODE', 'SEX', \n",
    "         'DRIVERS_LICENSE_STATE', 'DRIVERS_LICENSE_CLASS', 'SAFETY_EQUIPMENT', 'AIRBAG_DEPLOYED', 'EJECTION', \n",
    "         'INJURY_CLASSIFICATION', 'HOSPITAL', 'EMS_AGENCY', 'EMS_RUN_NO', 'PEDPEDAL_ACTION', 'PEDPEDAL_VISIBILITY', \n",
    "         'PEDPEDAL_LOCATION', 'BAC_RESULT', 'BAC_RESULT VALUE', 'CELL_PHONE_USE'], axis=1, inplace=True)\n",
    "df_people.columns"
   ]
  },
  {
   "cell_type": "code",
   "execution_count": 32,
   "id": "comic-surveillance",
   "metadata": {},
   "outputs": [],
   "source": [
    "#Drop missing and null values\n",
    "df_people.dropna(subset=['AGE'], inplace=True)\n",
    "df_people.dropna(subset=['DRIVER_ACTION'], inplace=True)\n",
    "df_people.dropna(subset=['DRIVER_VISION'], inplace=True)\n",
    "df_people.dropna(subset=['PHYSICAL_CONDITION'], inplace=True)\n",
    "\n"
   ]
  },
  {
   "cell_type": "code",
   "execution_count": 33,
   "id": "inclusive-circus",
   "metadata": {},
   "outputs": [],
   "source": [
    "#Cleaning the 3 columns with many unknown values\n",
    "df_people = df_people[df_people['DRIVER_VISION']!='UNKNOWN']\n",
    "df_people = df_people[df_people['DRIVER_ACTION']!='UNKNOWN']\n",
    "df_people = df_people[df_people['PHYSICAL_CONDITION']!='UNKNOWN']"
   ]
  },
  {
   "cell_type": "code",
   "execution_count": 34,
   "id": "honest-generation",
   "metadata": {},
   "outputs": [
    {
     "name": "stdout",
     "output_type": "stream",
     "text": [
      "20-29             116624\n",
      "30-39             105008\n",
      "40-49              82265\n",
      "50-59              69003\n",
      "60-69              41753\n",
      "70+                18967\n",
      "15-19              16790\n",
      "Underage 10-14       645\n",
      "Name: AGE_RANGES, dtype: int64\n"
     ]
    }
   ],
   "source": [
    "#Formatting, cleaning, and binning the AGE column. 15 is the youngest age to legally drive in the state of Illinois\n",
    "#with a learner's permit. \n",
    "df_people = df_people[df_people['AGE']>=10]\n",
    "bins = [9, 14, 19, 29, 39, 49, 59, 69, np.inf]\n",
    "names = ['Underage 10-14', '15-19', '20-29', '30-39', '40-49', '50-59', '60-69', '70+']\n",
    "df_people['AGE_RANGES'] = pd.cut(df_people['AGE'], bins, labels=names)\n",
    "print(df_people['AGE_RANGES'].value_counts())\n",
    "# df.drop('AGE', axis=1, inplace=True)"
   ]
  },
  {
   "cell_type": "code",
   "execution_count": 35,
   "id": "cutting-brunei",
   "metadata": {},
   "outputs": [
    {
     "data": {
      "text/plain": [
       "14.0    242\n",
       "13.0    132\n",
       "12.0     93\n",
       "11.0     92\n",
       "10.0     86\n",
       "Name: AGE, dtype: int64"
      ]
     },
     "execution_count": 35,
     "metadata": {},
     "output_type": "execute_result"
    }
   ],
   "source": [
    "#value counts of underage drivers between 10-15. 9 and under deleted.\n",
    "df_people[df_people['AGE_RANGES']=='Underage 10-14']['AGE'].value_counts()"
   ]
  },
  {
   "cell_type": "code",
   "execution_count": 36,
   "id": "resistant-sapphire",
   "metadata": {},
   "outputs": [
    {
     "name": "stdout",
     "output_type": "stream",
     "text": [
      "NONE                                 271746\n",
      "OTHER                                 47478\n",
      "FAILED TO YIELD                       44505\n",
      "FOLLOWED TOO CLOSELY                  28518\n",
      "IMPROPER TURN                         11857\n",
      "IMPROPER BACKING                      10877\n",
      "IMPROPER LANE CHANGE                  10599\n",
      "IMPROPER PASSING                       7038\n",
      "TOO FAST FOR CONDITIONS                6993\n",
      "DISREGARDED CONTROL DEVICES            6196\n",
      "IMPROPER PARKING                       1394\n",
      "WRONG WAY/SIDE                         1200\n",
      "CELL PHONE USE OTHER THAN TEXTING       672\n",
      "OVERCORRECTED                           638\n",
      "EMERGENCY VEHICLE ON CALL               636\n",
      "EVADING POLICE VEHICLE                  430\n",
      "TEXTING                                 178\n",
      "STOPPED SCHOOL BUS                       80\n",
      "LICENSE RESTRICTIONS                     20\n",
      "Name: DRIVER_ACTION, dtype: int64\n",
      "NOT OBSCURED              431116\n",
      "OTHER                       7782\n",
      "MOVING VEHICLES             4965\n",
      "PARKED VEHICLES             3008\n",
      "WINDSHIELD (WATER/ICE)      2294\n",
      "BLINDED - SUNLIGHT           958\n",
      "TREES, PLANTS                386\n",
      "BUILDINGS                    291\n",
      "BLINDED - HEADLIGHTS          67\n",
      "HILLCREST                     65\n",
      "EMBANKMENT                    56\n",
      "BLOWING MATERIALS             49\n",
      "SIGNBOARD                     18\n",
      "Name: DRIVER_VISION, dtype: int64\n",
      "NORMAL                          442993\n",
      "IMPAIRED - ALCOHOL                2277\n",
      "FATIGUED/ASLEEP                   1416\n",
      "OTHER                             1163\n",
      "REMOVED BY EMS                    1027\n",
      "EMOTIONAL                          923\n",
      "ILLNESS/FAINTED                    525\n",
      "HAD BEEN DRINKING                  346\n",
      "IMPAIRED - DRUGS                   256\n",
      "IMPAIRED - ALCOHOL AND DRUGS        67\n",
      "MEDICATED                           62\n",
      "Name: PHYSICAL_CONDITION, dtype: int64\n"
     ]
    }
   ],
   "source": [
    "print(df_people['DRIVER_ACTION'].value_counts())\n",
    "print(df_people['DRIVER_VISION'].value_counts())\n",
    "print(df_people['PHYSICAL_CONDITION'].value_counts())"
   ]
  },
  {
   "cell_type": "code",
   "execution_count": 37,
   "id": "vietnamese-muscle",
   "metadata": {},
   "outputs": [
    {
     "name": "stdout",
     "output_type": "stream",
     "text": [
      "<class 'pandas.core.frame.DataFrame'>\n",
      "Int64Index: 451055 entries, 1 to 1224557\n",
      "Data columns (total 7 columns):\n",
      " #   Column              Non-Null Count   Dtype   \n",
      "---  ------              --------------   -----   \n",
      " 0   CRASH_RECORD_ID     451055 non-null  object  \n",
      " 1   CRASH_DATE          451055 non-null  object  \n",
      " 2   AGE                 451055 non-null  float64 \n",
      " 3   DRIVER_ACTION       451055 non-null  object  \n",
      " 4   DRIVER_VISION       451055 non-null  object  \n",
      " 5   PHYSICAL_CONDITION  451055 non-null  object  \n",
      " 6   AGE_RANGES          451055 non-null  category\n",
      "dtypes: category(1), float64(1), object(5)\n",
      "memory usage: 24.5+ MB\n"
     ]
    }
   ],
   "source": [
    "df_people.info()"
   ]
  },
  {
   "cell_type": "markdown",
   "id": "silent-terror",
   "metadata": {},
   "source": [
    "***\n",
    "# Cleaning Vehicles"
   ]
  },
  {
   "cell_type": "code",
   "execution_count": 40,
   "id": "responsible-functionality",
   "metadata": {},
   "outputs": [
    {
     "name": "stdout",
     "output_type": "stream",
     "text": [
      "<class 'pandas.core.frame.DataFrame'>\n",
      "RangeIndex: 1134612 entries, 0 to 1134611\n",
      "Data columns (total 72 columns):\n",
      " #   Column                    Non-Null Count    Dtype  \n",
      "---  ------                    --------------    -----  \n",
      " 0   CRASH_UNIT_ID             1134612 non-null  int64  \n",
      " 1   CRASH_RECORD_ID           1134612 non-null  object \n",
      " 2   RD_NO                     1125395 non-null  object \n",
      " 3   CRASH_DATE                1134612 non-null  object \n",
      " 4   UNIT_NO                   1134612 non-null  int64  \n",
      " 5   UNIT_TYPE                 1132985 non-null  object \n",
      " 6   NUM_PASSENGERS            169810 non-null   float64\n",
      " 7   VEHICLE_ID                1108583 non-null  float64\n",
      " 8   CMRC_VEH_I                20992 non-null    object \n",
      " 9   MAKE                      1108578 non-null  object \n",
      " 10  MODEL                     1108435 non-null  object \n",
      " 11  LIC_PLATE_STATE           1011371 non-null  object \n",
      " 12  VEHICLE_YEAR              928020 non-null   float64\n",
      " 13  VEHICLE_DEFECT            1108583 non-null  object \n",
      " 14  VEHICLE_TYPE              1108583 non-null  object \n",
      " 15  VEHICLE_USE               1108583 non-null  object \n",
      " 16  TRAVEL_DIRECTION          1108583 non-null  object \n",
      " 17  MANEUVER                  1108583 non-null  object \n",
      " 18  TOWED_I                   133454 non-null   object \n",
      " 19  FIRE_I                    876 non-null      object \n",
      " 20  OCCUPANT_CNT              1108583 non-null  float64\n",
      " 21  EXCEED_SPEED_LIMIT_I      2393 non-null     object \n",
      " 22  TOWED_BY                  98334 non-null    object \n",
      " 23  TOWED_TO                  60909 non-null    object \n",
      " 24  AREA_00_I                 42406 non-null    object \n",
      " 25  AREA_01_I                 296147 non-null   object \n",
      " 26  AREA_02_I                 188784 non-null   object \n",
      " 27  AREA_03_I                 107599 non-null   object \n",
      " 28  AREA_04_I                 111287 non-null   object \n",
      " 29  AREA_05_I                 170415 non-null   object \n",
      " 30  AREA_06_I                 172712 non-null   object \n",
      " 31  AREA_07_I                 151534 non-null   object \n",
      " 32  AREA_08_I                 181877 non-null   object \n",
      " 33  AREA_09_I                 55854 non-null    object \n",
      " 34  AREA_10_I                 80221 non-null    object \n",
      " 35  AREA_11_I                 158386 non-null   object \n",
      " 36  AREA_12_I                 155992 non-null   object \n",
      " 37  AREA_99_I                 121722 non-null   object \n",
      " 38  FIRST_CONTACT_POINT       1099970 non-null  object \n",
      " 39  CMV_ID                    11866 non-null    float64\n",
      " 40  USDOT_NO                  6895 non-null     object \n",
      " 41  CCMC_NO                   1509 non-null     object \n",
      " 42  ILCC_NO                   1092 non-null     object \n",
      " 43  COMMERCIAL_SRC            8349 non-null     object \n",
      " 44  GVWR                      6885 non-null     object \n",
      " 45  CARRIER_NAME              11364 non-null    object \n",
      " 46  CARRIER_STATE             10728 non-null    object \n",
      " 47  CARRIER_CITY              10536 non-null    object \n",
      " 48  HAZMAT_PLACARDS_I         239 non-null      object \n",
      " 49  HAZMAT_NAME               45 non-null       object \n",
      " 50  UN_NO                     436 non-null      object \n",
      " 51  HAZMAT_PRESENT_I          8783 non-null     object \n",
      " 52  HAZMAT_REPORT_I           8505 non-null     object \n",
      " 53  HAZMAT_REPORT_NO          1 non-null        object \n",
      " 54  MCS_REPORT_I              8566 non-null     object \n",
      " 55  MCS_REPORT_NO             6 non-null        object \n",
      " 56  HAZMAT_VIO_CAUSE_CRASH_I  8644 non-null     object \n",
      " 57  MCS_VIO_CAUSE_CRASH_I     8497 non-null     object \n",
      " 58  IDOT_PERMIT_NO            697 non-null      object \n",
      " 59  WIDE_LOAD_I               102 non-null      object \n",
      " 60  TRAILER1_WIDTH            2354 non-null     object \n",
      " 61  TRAILER2_WIDTH            272 non-null      object \n",
      " 62  TRAILER1_LENGTH           1946 non-null     float64\n",
      " 63  TRAILER2_LENGTH           53 non-null       float64\n",
      " 64  TOTAL_VEHICLE_LENGTH      2330 non-null     float64\n",
      " 65  AXLE_CNT                  3382 non-null     float64\n",
      " 66  VEHICLE_CONFIG            9903 non-null     object \n",
      " 67  CARGO_BODY_TYPE           9490 non-null     object \n",
      " 68  LOAD_TYPE                 9087 non-null     object \n",
      " 69  HAZMAT_OUT_OF_SERVICE_I   8252 non-null     object \n",
      " 70  MCS_OUT_OF_SERVICE_I      8482 non-null     object \n",
      " 71  HAZMAT_CLASS              825 non-null      object \n",
      "dtypes: float64(9), int64(2), object(61)\n",
      "memory usage: 623.3+ MB\n"
     ]
    }
   ],
   "source": [
    "df_vehicle.info()"
   ]
  },
  {
   "cell_type": "code",
   "execution_count": 46,
   "id": "proper-morocco",
   "metadata": {},
   "outputs": [],
   "source": [
    "df_vehicle = df_vehicle[['CRASH_RECORD_ID', 'CRASH_DATE', 'NUM_PASSENGERS', 'MAKE', 'MODEL', 'VEHICLE_TYPE', 'VEHICLE_DEFECT', 'EXCEED_SPEED_LIMIT_I']]"
   ]
  },
  {
   "cell_type": "code",
   "execution_count": 47,
   "id": "disciplinary-threshold",
   "metadata": {},
   "outputs": [
    {
     "name": "stdout",
     "output_type": "stream",
     "text": [
      "<class 'pandas.core.frame.DataFrame'>\n",
      "RangeIndex: 1134612 entries, 0 to 1134611\n",
      "Data columns (total 8 columns):\n",
      " #   Column                Non-Null Count    Dtype  \n",
      "---  ------                --------------    -----  \n",
      " 0   CRASH_RECORD_ID       1134612 non-null  object \n",
      " 1   CRASH_DATE            1134612 non-null  object \n",
      " 2   NUM_PASSENGERS        169810 non-null   float64\n",
      " 3   MAKE                  1108578 non-null  object \n",
      " 4   MODEL                 1108435 non-null  object \n",
      " 5   VEHICLE_TYPE          1108583 non-null  object \n",
      " 6   VEHICLE_DEFECT        1108583 non-null  object \n",
      " 7   EXCEED_SPEED_LIMIT_I  2393 non-null     object \n",
      "dtypes: float64(1), object(7)\n",
      "memory usage: 69.3+ MB\n"
     ]
    }
   ],
   "source": [
    "df_vehicle.info()"
   ]
  },
  {
   "cell_type": "markdown",
   "id": "bright-crazy",
   "metadata": {},
   "source": [
    "## Data Modeling\n",
    "Describe and justify the process for analyzing or modeling the data.\n",
    "\n",
    "***\n",
    "Questions to consider:\n",
    "* How did you analyze or model the data?\n",
    "* How did you iterate on your initial approach to make it better?\n",
    "* Why are these choices appropriate given the data and the business problem?\n",
    "***"
   ]
  },
  {
   "cell_type": "code",
   "execution_count": 26,
   "id": "crude-stability",
   "metadata": {},
   "outputs": [
    {
     "data": {
      "text/plain": [
       "1    0.515205\n",
       "4    0.446610\n",
       "3    0.028182\n",
       "2    0.010003\n",
       "Name: Target1, dtype: float64"
      ]
     },
     "execution_count": 26,
     "metadata": {},
     "output_type": "execute_result"
    }
   ],
   "source": [
    "df_crash['Target1'].value_counts(normalize = True)"
   ]
  },
  {
   "cell_type": "code",
   "execution_count": 27,
   "id": "informed-bulgarian",
   "metadata": {},
   "outputs": [
    {
     "data": {
      "text/plain": [
       "0.5596108460777874"
      ]
     },
     "execution_count": 27,
     "metadata": {},
     "output_type": "execute_result"
    }
   ],
   "source": [
    "\n",
    "\n",
    "\n",
    "dt = DecisionTreeClassifier(random_state = 1)\n",
    "\n",
    "X = df_crash.drop('Target1', axis = 1)\n",
    "y = df_crash['Target1']\n",
    "X_train, X_test, y_train, y_test = train_test_split(X, y, random_state = 1)\n",
    "\n",
    "dt.fit(X_train, y_train)\n",
    "dt.score(X_test, y_test)"
   ]
  },
  {
   "cell_type": "markdown",
   "id": "excess-alliance",
   "metadata": {},
   "source": [
    "## Evaluation\n",
    "Evaluate how well your work solves the stated business problem.\n",
    "\n",
    "***\n",
    "Questions to consider:\n",
    "* How do you interpret the results?\n",
    "* How well does your model fit your data? How much better is this than your baseline model?\n",
    "* How confident are you that your results would generalize beyond the data you have?\n",
    "* How confident are you that this model would benefit the business if put into use?\n",
    "***"
   ]
  },
  {
   "cell_type": "markdown",
   "id": "breeding-athens",
   "metadata": {},
   "source": [
    "## Conclusions\n",
    "Provide your conclusions about the work you've done, including any limitations or next steps.\n",
    "\n",
    "***\n",
    "Questions to consider:\n",
    "* What would you recommend the business do as a result of this work?\n",
    "* What are some reasons why your analysis might not fully solve the business problem?\n",
    "* What else could you do in the future to improve this project?\n",
    "***"
   ]
  },
  {
   "cell_type": "code",
   "execution_count": null,
   "id": "sustainable-healing",
   "metadata": {},
   "outputs": [],
   "source": []
  }
 ],
 "metadata": {
  "kernelspec": {
   "display_name": "Python 3",
   "language": "python",
   "name": "python3"
  },
  "language_info": {
   "codemirror_mode": {
    "name": "ipython",
    "version": 3
   },
   "file_extension": ".py",
   "mimetype": "text/x-python",
   "name": "python",
   "nbconvert_exporter": "python",
   "pygments_lexer": "ipython3",
   "version": "3.9.2"
  }
 },
 "nbformat": 4,
 "nbformat_minor": 5
}
