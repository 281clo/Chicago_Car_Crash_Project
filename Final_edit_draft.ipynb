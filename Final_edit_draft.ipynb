{
 "cells": [
  {
   "cell_type": "markdown",
   "id": "speaking-enterprise",
   "metadata": {},
   "source": [
    "# Curbing Chicago Car Crashes\n",
    "\n",
    "**Authors:** Carlos McCrum, Michael Lee, Doug Mill\n",
    "***"
   ]
  },
  {
   "cell_type": "markdown",
   "id": "satisfied-nylon",
   "metadata": {},
   "source": [
    "## Overview\n",
    "\n",
    "Our task is to build inferential classification models for the Vehicle Safety Board of Chicago. We cleaned and formatted our data provided by the City of Chicago containing crashes,  vehicles and people relating to crashes from 2016 to 2020, we then modeled the primary contributory causes of car accidents into two categories. We used an iterative modeling approach and incorporated several classification models to see if we could find what crashes were preventable. Our recommendations include investing in driver education for certain age groups and fixing certain road conditions that could cause a crash. \n",
    "***"
   ]
  },
  {
   "cell_type": "markdown",
   "id": "functional-dictionary",
   "metadata": {},
   "source": [
    "## Business Problem\n",
    "\n",
    "Vehicle Safety Board wants to know if they should spend more funding in drivers education or fixing roads. Determining whether a crash is preventable and how to allocate funds to limit the number of crashes to present to the Vehicle Safety Board of Chicago.\n",
    "\n",
    "\n",
    "***"
   ]
  },
  {
   "cell_type": "markdown",
   "id": "electric-alaska",
   "metadata": {},
   "source": [
    "## Data Understanding\n",
    "\n",
    "Our stakeholder is the Vehicle Safety Board of Chicago. They are launching a new campaign to reduce car crashes. Our task is to build an inferential model to find out  which crashes were preventable and not. We labeled ‘Preventable’ as crashes that could have easily been avoided. Not following traffic laws and negligent driving would fall under this category. ‘Less Preventable’ are crashes that would require a substantial amount of money, time, and labor to fix. Bad road conditions, vision obscurity, and bad weather conditions would fall under this category.\n",
    "***\n",
    "\n",
    "##### Start by importing necessary packages. "
   ]
  },
  {
   "cell_type": "code",
   "execution_count": 1,
   "id": "technical-default",
   "metadata": {},
   "outputs": [],
   "source": [
    "import pandas as pd\n",
    "import numpy as np\n",
    "import matplotlib.pyplot as plt\n",
    "import seaborn as sns\n",
    "from sklearn.tree import DecisionTreeClassifier\n",
    "from sklearn.model_selection import train_test_split, GridSearchCV, cross_val_score\n",
    "from sklearn.metrics import plot_confusion_matrix, roc_auc_score, plot_roc_curve\n",
    "from sklearn.preprocessing import OneHotEncoder, StandardScaler\n",
    "from sklearn.compose import make_column_transformer\n",
    "from sklearn.svm import LinearSVC\n",
    "from sklearn.ensemble import RandomForestClassifier\n",
    "from sklearn.pipeline import Pipeline\n",
    "from sklearn.metrics import accuracy_score\n",
    "from sklearn.linear_model import LogisticRegression\n",
    "from sklearn.feature_selection import RFE\n",
    "\n",
    "%matplotlib inline\n",
    "import warnings\n",
    "warnings.filterwarnings('ignore')"
   ]
  },
  {
   "cell_type": "markdown",
   "id": "national-brooklyn",
   "metadata": {},
   "source": [
    "***\n",
    "\n",
    "## Data Loading\n",
    "\n",
    "Import data previously cleaned with only the relevant columns we need for our analysis. Our variable is a binary target that points to the contributory cause of the crash either being preventable or non-preventable.\n",
    "\n",
    "***\n"
   ]
  },
  {
   "cell_type": "markdown",
   "id": "final-taylor",
   "metadata": {},
   "source": [
    "Import our cleaned dataframe we cleaned previously. "
   ]
  },
  {
   "cell_type": "code",
   "execution_count": 2,
   "id": "administrative-issue",
   "metadata": {},
   "outputs": [],
   "source": [
    "main_df = pd.read_csv('data/cleaned_data/cleaned_modeling_data.csv')\n",
    "# Remove Bad Weather as it was too highly correlated with Bad Road Conditions\n",
    "columns_to_drop = ['Unnamed: 0', 'BAD_WEATHER']\n",
    "main_df.drop((columns_to_drop), axis = 1, inplace = True)"
   ]
  },
  {
   "cell_type": "markdown",
   "id": "infectious-lottery",
   "metadata": {},
   "source": [
    "Check to see if we have a class imbalance. "
   ]
  },
  {
   "cell_type": "code",
   "execution_count": 3,
   "id": "verbal-london",
   "metadata": {},
   "outputs": [
    {
     "data": {
      "text/plain": [
       "0    0.754374\n",
       "1    0.245626\n",
       "Name: Target, dtype: float64"
      ]
     },
     "execution_count": 3,
     "metadata": {},
     "output_type": "execute_result"
    }
   ],
   "source": [
    "main_df['Target'].value_counts(normalize = True)"
   ]
  },
  {
   "cell_type": "markdown",
   "id": "administrative-pressing",
   "metadata": {},
   "source": [
    "Check correlations with our target"
   ]
  },
  {
   "cell_type": "code",
   "execution_count": 19,
   "id": "passive-balloon",
   "metadata": {},
   "outputs": [],
   "source": [
    "# sns.set(rc={'figure.figsize':(20, 20)})\n",
    "# sns.heatmap(main_df.corr().abs(),annot=True);"
   ]
  },
  {
   "cell_type": "markdown",
   "id": "identified-flesh",
   "metadata": {},
   "source": [
    "\n",
    "## Data Modeling\n",
    "We modeled the data through iterative modeling. We used a logistic regression model as our first simple model. For our second model, we created a Decision Tree Classifier that scored slightly better than our simple model. We used a RFE to determine the most important features and iterated with GridSearch to find the best parameters. Lastly, we used a XGBoost classifier with GridSearchCV to find the best model.\n",
    "***"
   ]
  },
  {
   "cell_type": "markdown",
   "id": "opposed-accreditation",
   "metadata": {},
   "source": [
    "## Simple Model - Logistic Regression"
   ]
  },
  {
   "cell_type": "markdown",
   "id": "forward-partition",
   "metadata": {},
   "source": [
    "To run our first simple model we start off by dropping irrelevant columns. "
   ]
  },
  {
   "cell_type": "code",
   "execution_count": 5,
   "id": "valued-oxygen",
   "metadata": {},
   "outputs": [],
   "source": [
    "columns_to_drop = ['CRASH_RECORD_ID','CRASH_DATE', 'LONGITUDE', 'LATITUDE', 'Target']"
   ]
  },
  {
   "cell_type": "markdown",
   "id": "neutral-investigator",
   "metadata": {},
   "source": [
    "Split our data with train test split "
   ]
  },
  {
   "cell_type": "code",
   "execution_count": 6,
   "id": "norwegian-latex",
   "metadata": {},
   "outputs": [],
   "source": [
    "X = main_df.drop((columns_to_drop), axis=1)\n",
    "y = main_df['Target']\n",
    "X_train, X_test, y_train, y_test = train_test_split(X, y, random_state=42)"
   ]
  },
  {
   "cell_type": "code",
   "execution_count": 7,
   "id": "vocational-saint",
   "metadata": {},
   "outputs": [
    {
     "data": {
      "text/plain": [
       "0.7466465015648959"
      ]
     },
     "execution_count": 7,
     "metadata": {},
     "output_type": "execute_result"
    }
   ],
   "source": [
    "logreg = LogisticRegression()\n",
    "logreg.fit(X_train, y_train)\n",
    "logreg.score(X_test, y_test)"
   ]
  },
  {
   "cell_type": "markdown",
   "id": "seven-disposition",
   "metadata": {},
   "source": [
    "Because our class balance is 3:1, we are not going to SMOTE the minority class."
   ]
  },
  {
   "cell_type": "markdown",
   "id": "external-tourist",
   "metadata": {},
   "source": [
    "## Using RFE to select the most important columns"
   ]
  },
  {
   "cell_type": "code",
   "execution_count": 12,
   "id": "educated-serial",
   "metadata": {
    "tags": []
   },
   "outputs": [
    {
     "data": {
      "text/plain": [
       "'BAD_VISIBILITY,BAD_TRAFFIC,BAD_ROAD_CONDITION,DEFECT_ROAD,WORKING_TRAFFIC_DEVICE'"
      ]
     },
     "execution_count": 12,
     "metadata": {},
     "output_type": "execute_result"
    }
   ],
   "source": [
    "dt = DecisionTreeClassifier()\n",
    "num_features_to_select = 5\n",
    "use_RSE = True\n",
    "\n",
    "select = RFE(dt, n_features_to_select=num_features_to_select)\n",
    "select.fit(X = X_train, y = y_train)\n",
    "\n",
    "keep_list = [(k,v) for k,v in zip(main_df.drop((columns_to_drop), axis=1).columns,select.support_)]\n",
    "keep_string = ''\n",
    "for k,v in keep_list:\n",
    "    if v:\n",
    "        keep_string += k + ','\n",
    "if use_RSE == False:\n",
    "    keep_list = formula_string.split('+')\n",
    "keep_string = keep_string[:-1]\n",
    "\n",
    "keep_string"
   ]
  },
  {
   "cell_type": "code",
   "execution_count": 13,
   "id": "egyptian-stamp",
   "metadata": {},
   "outputs": [
    {
     "data": {
      "text/plain": [
       "0.7555023420925494"
      ]
     },
     "execution_count": 13,
     "metadata": {},
     "output_type": "execute_result"
    }
   ],
   "source": [
    "X = main_df[['BAD_ROAD_CONDITION','DEFECT_ROAD','WORKING_TRAFFIC_DEVICE','OBSCURED_VIZ','DRIVER_ERROR']]\n",
    "y = main_df['Target']\n",
    "X_train, X_test, y_train, y_test = train_test_split(X, y, random_state = 1)\n",
    "\n",
    "dt_rfe = DecisionTreeClassifier(random_state = 42)\n",
    "dt_rfe.fit(X_train, y_train)\n",
    "dt_rfe.score(X_test, y_test)"
   ]
  },
  {
   "cell_type": "code",
   "execution_count": 14,
   "id": "equal-still",
   "metadata": {},
   "outputs": [
    {
     "data": {
      "text/plain": [
       "0.7563467557291995"
      ]
     },
     "execution_count": 14,
     "metadata": {},
     "output_type": "execute_result"
    }
   ],
   "source": [
    "X = main_df.drop((columns_to_drop), axis = 1)\n",
    "y = main_df['Target']\n",
    "X_train, X_test, y_train, y_test = train_test_split(X, y, random_state = 1)\n",
    "\n",
    "dt = DecisionTreeClassifier(random_state = 42)\n",
    "dt.fit(X_train, y_train)\n",
    "dt.score(X_test, y_test)"
   ]
  },
  {
   "cell_type": "code",
   "execution_count": 18,
   "id": "mobile-prairie",
   "metadata": {},
   "outputs": [
    {
     "data": {
      "image/png": "[encoded data removed]",
      "text/plain": [
       "<Figure size 720x720 with 2 Axes>"
      ]
     },
     "metadata": {},
     "output_type": "display_data"
    }
   ],
   "source": [
    "sns.set(rc={'figure.figsize':(10, 10)})\n",
    "plot_confusion_matrix(dt, X_train, y_train)\n",
    "plt.grid('OFF');"
   ]
  },
  {
   "cell_type": "code",
   "execution_count": 16,
   "id": "august-imperial",
   "metadata": {
    "tags": []
   },
   "outputs": [
    {
     "data": {
      "image/png": "[encoded data removed]",
      "text/plain": [
       "<Figure size 720x720 with 2 Axes>"
      ]
     },
     "metadata": {},
     "output_type": "display_data"
    }
   ],
   "source": [
    "plot_confusion_matrix(dt, X_test, y_test);"
   ]
  },
  {
   "cell_type": "markdown",
   "id": "forward-details",
   "metadata": {},
   "source": [
    "# Grid Search"
   ]
  },
  {
   "cell_type": "markdown",
   "id": "medical-accreditation",
   "metadata": {},
   "source": [
    "Because Decision Trees gave us the best accuracy score, we decided to try and find the best parameters\n",
    "Using Grid Search to find the best parameters"
   ]
  },
  {
   "cell_type": "code",
   "execution_count": 20,
   "id": "egyptian-emerald",
   "metadata": {},
   "outputs": [],
   "source": [
    "# Look through max depth, min samples split, min sample leaf to find the best perameters. \n",
    "grid = [{'max_depth': [4, 6, 8], \n",
    "         'min_samples_split': [5, 10, 15], \n",
    "         'min_samples_leaf': [20, 25, 30]}]\n",
    "GS = GridSearchCV(estimator=dt, \n",
    "                          param_grid=grid, \n",
    "                          scoring='recall', \n",
    "                          cv=5)"
   ]
  },
  {
   "cell_type": "markdown",
   "id": "ahead-domain",
   "metadata": {},
   "source": [
    "Fit to our grid"
   ]
  },
  {
   "cell_type": "code",
   "execution_count": 140,
   "id": "timely-hawaii",
   "metadata": {},
   "outputs": [
    {
     "data": {
      "text/plain": [
       "GridSearchCV(cv=5, estimator=DecisionTreeClassifier(random_state=42),\n",
       "             param_grid=[{'max_depth': [4, 6, 8],\n",
       "                          'min_samples_leaf': [20, 25, 30],\n",
       "                          'min_samples_split': [5, 10, 15]}],\n",
       "             scoring='recall')"
      ]
     },
     "execution_count": 140,
     "metadata": {},
     "output_type": "execute_result"
    }
   ],
   "source": [
    "GS.fit(X_train, y_train)"
   ]
  },
  {
   "cell_type": "markdown",
   "id": "revised-recommendation",
   "metadata": {},
   "source": [
    "- Analyze the results"
   ]
  },
  {
   "cell_type": "code",
   "execution_count": 141,
   "id": "stable-discipline",
   "metadata": {},
   "outputs": [
    {
     "data": {
      "text/plain": [
       "{'mean_fit_time': array([0.2447485 , 0.24604931, 0.26230397, 0.25861583, 0.24504924,\n",
       "        0.26130981, 0.29262919, 0.32643795, 0.27138014, 0.34458575,\n",
       "        0.34264293, 0.34032536, 0.3376245 , 0.33871341, 0.34239502,\n",
       "        0.36982017, 0.35815492, 0.3525671 , 0.40582809, 0.3998384 ,\n",
       "        0.38398399, 0.40741863, 0.42419848, 0.41262202, 0.41620736,\n",
       "        0.41063604, 0.40554047]),\n",
       " 'std_fit_time': array([0.00214896, 0.00663728, 0.02088562, 0.01942095, 0.0040863 ,\n",
       "        0.01419883, 0.03309763, 0.01705002, 0.0085237 , 0.00867417,\n",
       "        0.00853743, 0.00638358, 0.00443393, 0.00306203, 0.00472789,\n",
       "        0.02413453, 0.02094852, 0.01987518, 0.00692623, 0.02138009,\n",
       "        0.0191504 , 0.03735162, 0.02433384, 0.0238465 , 0.01979958,\n",
       "        0.01947908, 0.01564996]),\n",
       " 'mean_score_time': array([0.03949442, 0.04009309, 0.0412899 , 0.03969393, 0.03979497,\n",
       "        0.04168835, 0.06382971, 0.04908423, 0.04258776, 0.04757447,\n",
       "        0.04328775, 0.0420907 , 0.04279504, 0.04298682, 0.04308486,\n",
       "        0.045682  , 0.04378424, 0.04528484, 0.045085  , 0.04358439,\n",
       "        0.04288735, 0.0466754 , 0.0463779 , 0.04827352, 0.04617758,\n",
       "        0.04927044, 0.04548597]),\n",
       " 'std_score_time': array([0.00101722, 0.00116297, 0.00205341, 0.00074631, 0.0011954 ,\n",
       "        0.00230887, 0.02726233, 0.00260739, 0.00107544, 0.00638215,\n",
       "        0.00101232, 0.00039734, 0.00057474, 0.00020292, 0.00097723,\n",
       "        0.00368912, 0.00253193, 0.00334534, 0.00097602, 0.00171548,\n",
       "        0.00125887, 0.00447823, 0.0029607 , 0.00403247, 0.0015949 ,\n",
       "        0.00909721, 0.00298216]),\n",
       " 'param_max_depth': masked_array(data=[4, 4, 4, 4, 4, 4, 4, 4, 4, 6, 6, 6, 6, 6, 6, 6, 6, 6,\n",
       "                    8, 8, 8, 8, 8, 8, 8, 8, 8],\n",
       "              mask=[False, False, False, False, False, False, False, False,\n",
       "                    False, False, False, False, False, False, False, False,\n",
       "                    False, False, False, False, False, False, False, False,\n",
       "                    False, False, False],\n",
       "        fill_value='?',\n",
       "             dtype=object),\n",
       " 'param_min_samples_leaf': masked_array(data=[20, 20, 20, 25, 25, 25, 30, 30, 30, 20, 20, 20, 25, 25,\n",
       "                    25, 30, 30, 30, 20, 20, 20, 25, 25, 25, 30, 30, 30],\n",
       "              mask=[False, False, False, False, False, False, False, False,\n",
       "                    False, False, False, False, False, False, False, False,\n",
       "                    False, False, False, False, False, False, False, False,\n",
       "                    False, False, False],\n",
       "        fill_value='?',\n",
       "             dtype=object),\n",
       " 'param_min_samples_split': masked_array(data=[5, 10, 15, 5, 10, 15, 5, 10, 15, 5, 10, 15, 5, 10, 15,\n",
       "                    5, 10, 15, 5, 10, 15, 5, 10, 15, 5, 10, 15],\n",
       "              mask=[False, False, False, False, False, False, False, False,\n",
       "                    False, False, False, False, False, False, False, False,\n",
       "                    False, False, False, False, False, False, False, False,\n",
       "                    False, False, False],\n",
       "        fill_value='?',\n",
       "             dtype=object),\n",
       " 'params': [{'max_depth': 4, 'min_samples_leaf': 20, 'min_samples_split': 5},\n",
       "  {'max_depth': 4, 'min_samples_leaf': 20, 'min_samples_split': 10},\n",
       "  {'max_depth': 4, 'min_samples_leaf': 20, 'min_samples_split': 15},\n",
       "  {'max_depth': 4, 'min_samples_leaf': 25, 'min_samples_split': 5},\n",
       "  {'max_depth': 4, 'min_samples_leaf': 25, 'min_samples_split': 10},\n",
       "  {'max_depth': 4, 'min_samples_leaf': 25, 'min_samples_split': 15},\n",
       "  {'max_depth': 4, 'min_samples_leaf': 30, 'min_samples_split': 5},\n",
       "  {'max_depth': 4, 'min_samples_leaf': 30, 'min_samples_split': 10},\n",
       "  {'max_depth': 4, 'min_samples_leaf': 30, 'min_samples_split': 15},\n",
       "  {'max_depth': 6, 'min_samples_leaf': 20, 'min_samples_split': 5},\n",
       "  {'max_depth': 6, 'min_samples_leaf': 20, 'min_samples_split': 10},\n",
       "  {'max_depth': 6, 'min_samples_leaf': 20, 'min_samples_split': 15},\n",
       "  {'max_depth': 6, 'min_samples_leaf': 25, 'min_samples_split': 5},\n",
       "  {'max_depth': 6, 'min_samples_leaf': 25, 'min_samples_split': 10},\n",
       "  {'max_depth': 6, 'min_samples_leaf': 25, 'min_samples_split': 15},\n",
       "  {'max_depth': 6, 'min_samples_leaf': 30, 'min_samples_split': 5},\n",
       "  {'max_depth': 6, 'min_samples_leaf': 30, 'min_samples_split': 10},\n",
       "  {'max_depth': 6, 'min_samples_leaf': 30, 'min_samples_split': 15},\n",
       "  {'max_depth': 8, 'min_samples_leaf': 20, 'min_samples_split': 5},\n",
       "  {'max_depth': 8, 'min_samples_leaf': 20, 'min_samples_split': 10},\n",
       "  {'max_depth': 8, 'min_samples_leaf': 20, 'min_samples_split': 15},\n",
       "  {'max_depth': 8, 'min_samples_leaf': 25, 'min_samples_split': 5},\n",
       "  {'max_depth': 8, 'min_samples_leaf': 25, 'min_samples_split': 10},\n",
       "  {'max_depth': 8, 'min_samples_leaf': 25, 'min_samples_split': 15},\n",
       "  {'max_depth': 8, 'min_samples_leaf': 30, 'min_samples_split': 5},\n",
       "  {'max_depth': 8, 'min_samples_leaf': 30, 'min_samples_split': 10},\n",
       "  {'max_depth': 8, 'min_samples_leaf': 30, 'min_samples_split': 15}],\n",
       " 'split0_test_score': array([0.01169624, 0.01169624, 0.01169624, 0.01169624, 0.01169624,\n",
       "        0.01169624, 0.01169624, 0.01169624, 0.01169624, 0.03337708,\n",
       "        0.03337708, 0.03337708, 0.03337708, 0.03337708, 0.03337708,\n",
       "        0.0334056 , 0.0334056 , 0.0334056 , 0.03814115, 0.03814115,\n",
       "        0.03814115, 0.03814115, 0.03814115, 0.03814115, 0.03845496,\n",
       "        0.03845496, 0.03845496]),\n",
       " 'split1_test_score': array([0.00935699, 0.00935699, 0.00935699, 0.00935699, 0.00935699,\n",
       "        0.00935699, 0.00935699, 0.00935699, 0.00935699, 0.03409026,\n",
       "        0.03409026, 0.03409026, 0.03409026, 0.03409026, 0.03409026,\n",
       "        0.03411879, 0.03411879, 0.03411879, 0.02573173, 0.02573173,\n",
       "        0.02573173, 0.02581731, 0.02581731, 0.02581731, 0.02584584,\n",
       "        0.02584584, 0.02584584]),\n",
       " 'split2_test_score': array([0.01084011, 0.01084011, 0.01084011, 0.01084011, 0.01084011,\n",
       "        0.01084011, 0.01084011, 0.01084011, 0.01084011, 0.03129368,\n",
       "        0.03129368, 0.03129368, 0.03129368, 0.03129368, 0.03129368,\n",
       "        0.03135073, 0.03135073, 0.03135073, 0.03711311, 0.03711311,\n",
       "        0.03711311, 0.03719869, 0.03719869, 0.03719869, 0.03728427,\n",
       "        0.03728427, 0.03728427]),\n",
       " 'split3_test_score': array([0.00747397, 0.00747397, 0.00747397, 0.00747397, 0.00747397,\n",
       "        0.00747397, 0.00747397, 0.00747397, 0.00747397, 0.02989588,\n",
       "        0.02989588, 0.02989588, 0.02989588, 0.02989588, 0.02989588,\n",
       "        0.02989588, 0.02989588, 0.02989588, 0.02864071, 0.02864071,\n",
       "        0.02864071, 0.02826986, 0.02826986, 0.02826986, 0.02807018,\n",
       "        0.02807018, 0.02807018]),\n",
       " 'split4_test_score': array([0.01152475, 0.01152475, 0.01152475, 0.01152475, 0.01152475,\n",
       "        0.01152475, 0.01152475, 0.01152475, 0.01152475, 0.03349023,\n",
       "        0.03349023, 0.03349023, 0.03357581, 0.03357581, 0.03357581,\n",
       "        0.03363286, 0.03363286, 0.03363286, 0.04002282, 0.04002282,\n",
       "        0.04002282, 0.04073599, 0.04073599, 0.04073599, 0.03648552,\n",
       "        0.03648552, 0.03648552]),\n",
       " 'mean_test_score': array([0.01017841, 0.01017841, 0.01017841, 0.01017841, 0.01017841,\n",
       "        0.01017841, 0.01017841, 0.01017841, 0.01017841, 0.03242943,\n",
       "        0.03242943, 0.03242943, 0.03244654, 0.03244654, 0.03244654,\n",
       "        0.03248077, 0.03248077, 0.03248077, 0.0339299 , 0.0339299 ,\n",
       "        0.0339299 , 0.0340326 , 0.0340326 , 0.0340326 , 0.03322815,\n",
       "        0.03322815, 0.03322815]),\n",
       " 'std_test_score': array([0.00158386, 0.00158386, 0.00158386, 0.00158386, 0.00158386,\n",
       "        0.00158386, 0.00158386, 0.00158386, 0.00158386, 0.00158054,\n",
       "        0.00158054, 0.00158054, 0.00159235, 0.00159235, 0.00159235,\n",
       "        0.00160152, 0.00160152, 0.00160152, 0.00565998, 0.00565998,\n",
       "        0.00565998, 0.00587435, 0.00587435, 0.00587435, 0.00520548,\n",
       "        0.00520548, 0.00520548]),\n",
       " 'rank_test_score': array([19, 19, 19, 19, 19, 19, 19, 19, 19, 16, 16, 16, 13, 13, 13, 10, 10,\n",
       "        10,  4,  4,  4,  1,  1,  1,  7,  7,  7])}"
      ]
     },
     "execution_count": 141,
     "metadata": {},
     "output_type": "execute_result"
    }
   ],
   "source": [
    "GS.cv_results_"
   ]
  },
  {
   "cell_type": "markdown",
   "id": "graphic-score",
   "metadata": {},
   "source": [
    "- Find our best score"
   ]
  },
  {
   "cell_type": "code",
   "execution_count": 142,
   "id": "native-discussion",
   "metadata": {},
   "outputs": [
    {
     "data": {
      "text/plain": [
       "0.7563425546663306"
      ]
     },
     "execution_count": 142,
     "metadata": {},
     "output_type": "execute_result"
    }
   ],
   "source": [
    "GS.best_estimator_.score(X_test, y_test)"
   ]
  },
  {
   "cell_type": "markdown",
   "id": "challenging-finding",
   "metadata": {},
   "source": [
    "- See what the best perameters are"
   ]
  },
  {
   "cell_type": "code",
   "execution_count": 144,
   "id": "declared-injection",
   "metadata": {},
   "outputs": [
    {
     "data": {
      "text/plain": [
       "{'max_depth': 8, 'min_samples_leaf': 25, 'min_samples_split': 5}"
      ]
     },
     "execution_count": 144,
     "metadata": {},
     "output_type": "execute_result"
    }
   ],
   "source": [
    "GS.best_params_"
   ]
  },
  {
   "cell_type": "markdown",
   "id": "cloudy-dodge",
   "metadata": {},
   "source": [
    "## XGBoost"
   ]
  },
  {
   "cell_type": "markdown",
   "id": "similar-restaurant",
   "metadata": {},
   "source": [
    "- Initiate XGBClassifier, fit, and determine the training and validation scores. "
   ]
  },
  {
   "cell_type": "code",
   "execution_count": null,
   "id": "fatal-christmas",
   "metadata": {},
   "outputs": [],
   "source": [
    "clf = XGBClassifier(eval_metric='mlogloss')\n",
    "clf.fit(X_train, y_train)\n",
    "training_preds = clf.predict(X_train)\n",
    "test_preds = clf.predict(X_test)\n",
    "\n",
    "# Accuracy\n",
    "training_accuracy = accuracy_score(y_train, training_preds)\n",
    "test_accuracy = accuracy_score(y_test, test_preds)\n",
    "print('Training Accuracy: {:.4}%'.format(training_accuracy * 100))\n",
    "print('Validation accuracy: {:.4}%'.format(test_accuracy * 100))"
   ]
  },
  {
   "cell_type": "code",
   "execution_count": null,
   "id": "varied-theology",
   "metadata": {},
   "outputs": [],
   "source": [
    "param_grid = {\n",
    "    'learning_rate': [0.2, 0.5],\n",
    "    'max_depth': [6],\n",
    "    'min_child_weight': [1],\n",
    "    'subsample': [0.7],\n",
    "    'n_estimators': [100],[200]\n",
    "}"
   ]
  },
  {
   "cell_type": "code",
   "execution_count": null,
   "id": "statutory-mustang",
   "metadata": {},
   "outputs": [],
   "source": [
    "\n",
    "grid_clf = GridSearchCV(clf, param_grid, scoring='accuracy', cv=None, n_jobs=1)\n",
    "grid_clf.fit(X_train, y_train)\n",
    "\n",
    "best_parameters = grid_clf.best_params_\n",
    "\n",
    "print('Grid Search found the following optimal parameters: ')\n",
    "for param_name in sorted(best_parameters.keys()):\n",
    "    print('%s: %r' % (param_name, best_parameters[param_name]))\n",
    "\n",
    "training_preds = grid_clf.predict(X_train)\n",
    "test_preds = grid_clf.predict(X_test)\n",
    "training_accuracy = accuracy_score(y_train, training_preds)\n",
    "test_accuracy = accuracy_score(y_test, test_preds)\n",
    "\n",
    "print('')\n",
    "print('Training Accuracy: {:.4}%'.format(training_accuracy * 100))\n",
    "print('Validation accuracy: {:.4}%'.format(test_accuracy * 100))"
   ]
  },
  {
   "cell_type": "markdown",
   "id": "external-appreciation",
   "metadata": {},
   "source": [
    "## Results"
   ]
  },
  {
   "cell_type": "markdown",
   "id": "activated-cisco",
   "metadata": {},
   "source": [
    "The results of our model indicated that most of the crashes were Preventable. By spending more money on drivers education in ages 20 - 39, we could curb the total accidents in Chicago drastically."
   ]
  },
  {
   "cell_type": "markdown",
   "id": "optimum-consultancy",
   "metadata": {},
   "source": [
    "## Evaluation\n",
    "Evaluate how well your work solves the stated business problem.\n",
    "\n",
    "***\n",
    "Questions to consider:\n",
    "* How do you interpret the results?\n",
    "* How well does your model fit your data? How much better is this than your baseline model?\n",
    "* How confident are you that your results would generalize beyond the data you have?\n",
    "* How confident are you that this model would benefit the business if put into use?\n",
    "***"
   ]
  },
  {
   "cell_type": "markdown",
   "id": "featured-bones",
   "metadata": {},
   "source": [
    "## Conclusions\n",
    "\n",
    "We recommend investing in online drivers education because this could significantly lower the amount of preventable crashes in the Chicago area. We recommend driver education because it is affordable, easy to implement, and saves a lot more in labor costs vs. repairing all the roads in Chicago.\n",
    "\n",
    "***\n",
    "Questions to consider:\n",
    "* What would you recommend the business do as a result of this work?\n",
    "* What are some reasons why your analysis might not fully solve the business problem?\n",
    "* What else could you do in the future to improve this project?\n",
    "***"
   ]
  },
  {
   "cell_type": "code",
   "execution_count": null,
   "id": "killing-answer",
   "metadata": {},
   "outputs": [],
   "source": []
  }
 ],
 "metadata": {
  "kernelspec": {
   "display_name": "Python 3",
   "language": "python",
   "name": "python3"
  },
  "language_info": {
   "codemirror_mode": {
    "name": "ipython",
    "version": 3
   },
   "file_extension": ".py",
   "mimetype": "text/x-python",
   "name": "python",
   "nbconvert_exporter": "python",
   "pygments_lexer": "ipython3",
   "version": "3.9.2"
  }
 },
 "nbformat": 4,
 "nbformat_minor": 5
}
