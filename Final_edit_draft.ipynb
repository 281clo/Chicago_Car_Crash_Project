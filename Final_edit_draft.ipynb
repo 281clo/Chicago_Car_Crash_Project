{
 "cells": [
  {
   "cell_type": "markdown",
   "metadata": {},
   "source": [
    "# Curbing Chicago Car Crashes\n",
    "\n",
    "**Authors:** Carlos McCrum, Michael Lee, Doug Mill\n",
    "***"
   ]
  },
  {
   "cell_type": "markdown",
   "metadata": {},
   "source": [
    "## Overview\n",
    "\n",
    "Our task is to build inferential classification models for the Vehicle Safety Board of Chicago. We cleaned and formatted our data provided by the City of Chicago containing crashes,  vehicles and people relating to crashes from 2016 to 2020, we then modeled the primary contributory causes of car accidents into two categories. We used an iterative modeling approach and incorporated several classification models to see if we could find what crashes were preventable. Our recommendations include investing in driver education for certain age groups and fixing certain road conditions that could cause a crash. \n",
    "***"
   ]
  },
  {
   "cell_type": "markdown",
   "metadata": {},
   "source": [
    "## Business Problem\n",
    "\n",
    "Vehicle Safety Board wants to know if they should spend more funding in drivers education or fixing roads. Determining whether a crash is preventable and how to allocate funds to limit the number of crashes to present to the Vehicle Safety Board of Chicago.\n",
    "\n",
    "\n",
    "***"
   ]
  },
  {
   "cell_type": "markdown",
   "metadata": {},
   "source": [
    "## Data Understanding\n",
    "\n",
    "Our stakeholder is the Vehicle Safety Board of Chicago. They are launching a new campaign to reduce car crashes. Our task is to build an inferential model to find out  which crashes were preventable and not. We labeled ‘Preventable’ as crashes that could have easily been avoided. Not following traffic laws and negligent driving would fall under this category. ‘Less Preventable’ are crashes that would require a substantial amount of money, time, and labor to fix. Bad road conditions, vision obscurity, and bad weather conditions would fall under this category.\n",
    "***\n",
    "\n",
    "##### Start by importing necessary packages. "
   ]
  },
  {
   "cell_type": "code",
   "execution_count": 19,
   "metadata": {},
   "outputs": [],
   "source": [
    "import pandas as pd\n",
    "import numpy as np\n",
    "import matplotlib.pyplot as plt\n",
    "import seaborn as sns\n",
    "from sklearn.tree import DecisionTreeClassifier\n",
    "from sklearn.model_selection import train_test_split, GridSearchCV, cross_val_score\n",
    "from sklearn.metrics import plot_confusion_matrix, roc_auc_score, plot_roc_curve\n",
    "from sklearn.preprocessing import OneHotEncoder, StandardScaler\n",
    "from sklearn.compose import make_column_transformer\n",
    "from sklearn.svm import LinearSVC\n",
    "from sklearn.ensemble import RandomForestClassifier\n",
    "from sklearn.pipeline import Pipeline\n",
    "from sklearn.metrics import accuracy_score\n",
    "from sklearn.linear_model import LogisticRegression\n",
    "from sklearn.feature_selection import RFE\n",
    "from xgboost import XGBClassifier\n",
    "\n",
    "%matplotlib inline\n",
    "import warnings\n",
    "warnings.filterwarnings('ignore')"
   ]
  },
  {
   "cell_type": "markdown",
   "metadata": {},
   "source": [
    "***\n",
    "\n",
    "## Data Loading\n",
    "\n",
    "Import data previously cleaned with only the relevant columns we need for our analysis. Our variable is a binary target that points to the contributory cause of the crash either being preventable or non-preventable.\n",
    "\n",
    "***\n"
   ]
  },
  {
   "cell_type": "markdown",
   "metadata": {},
   "source": [
    "Import our cleaned dataframe we cleaned previously. "
   ]
  },
  {
   "cell_type": "code",
   "execution_count": 2,
   "metadata": {},
   "outputs": [],
   "source": [
    "main_df = pd.read_csv('data/cleaned_data/cleaned_modeling_data.csv')\n",
    "# Remove Bad Weather as it was too highly correlated with Bad Road Conditions\n",
    "columns_to_drop = ['Unnamed: 0', 'BAD_WEATHER']\n",
    "main_df.drop((columns_to_drop), axis = 1, inplace = True)"
   ]
  },
  {
   "cell_type": "markdown",
   "metadata": {},
   "source": [
    "Check to see if we have a class imbalance. "
   ]
  },
  {
   "cell_type": "code",
   "execution_count": 3,
   "metadata": {},
   "outputs": [
    {
     "data": {
      "text/plain": [
       "0    0.754374\n",
       "1    0.245626\n",
       "Name: Target, dtype: float64"
      ]
     },
     "execution_count": 3,
     "metadata": {},
     "output_type": "execute_result"
    }
   ],
   "source": [
    "main_df['Target'].value_counts(normalize = True)"
   ]
  },
  {
   "cell_type": "markdown",
   "metadata": {},
   "source": [
    "Check correlations with our target"
   ]
  },
  {
   "cell_type": "code",
   "execution_count": 4,
   "metadata": {},
   "outputs": [],
   "source": [
    "# sns.set(rc={'figure.figsize':(20, 20)})\n",
    "# sns.heatmap(main_df.corr().abs(),annot=True);"
   ]
  },
  {
   "cell_type": "markdown",
   "metadata": {},
   "source": [
    "\n",
    "## Data Modeling\n",
    "We modeled the data through iterative modeling. We used a logistic regression model as our first simple model. For our second model, we created a Decision Tree Classifier that scored slightly better than our simple model. We used a RFE to determine the most important features and iterated with GridSearch to find the best parameters. Lastly, we used a XGBoost classifier with GridSearchCV to find the best model.\n",
    "***"
   ]
  },
  {
   "cell_type": "markdown",
   "metadata": {},
   "source": [
    "## Simple Model - Logistic Regression"
   ]
  },
  {
   "cell_type": "markdown",
   "metadata": {},
   "source": [
    "To run our first simple model we start off by dropping irrelevant columns. "
   ]
  },
  {
   "cell_type": "code",
   "execution_count": 5,
   "metadata": {},
   "outputs": [],
   "source": [
    "columns_to_drop = ['CRASH_RECORD_ID','CRASH_DATE', 'LONGITUDE', 'LATITUDE', 'Target']"
   ]
  },
  {
   "cell_type": "markdown",
   "metadata": {},
   "source": [
    "Split our data with train test split "
   ]
  },
  {
   "cell_type": "code",
   "execution_count": 6,
   "metadata": {},
   "outputs": [],
   "source": [
    "X = main_df.drop((columns_to_drop), axis=1)\n",
    "y = main_df['Target']\n",
    "X_train, X_test, y_train, y_test = train_test_split(X, y, random_state=42)"
   ]
  },
  {
   "cell_type": "code",
   "execution_count": 7,
   "metadata": {},
   "outputs": [
    {
     "data": {
      "text/plain": [
       "0.7466465015648959"
      ]
     },
     "execution_count": 7,
     "metadata": {},
     "output_type": "execute_result"
    }
   ],
   "source": [
    "logreg = LogisticRegression()\n",
    "logreg.fit(X_train, y_train)\n",
    "logreg.score(X_test, y_test)"
   ]
  },
  {
   "cell_type": "markdown",
   "metadata": {},
   "source": [
    "Because our class balance is 3:1, we are not going to SMOTE the minority class."
   ]
  },
  {
   "cell_type": "markdown",
   "metadata": {},
   "source": [
    "## Using RFE to select the most important columns"
   ]
  },
  {
   "cell_type": "code",
   "execution_count": 8,
   "metadata": {
    "tags": []
   },
   "outputs": [
    {
     "data": {
      "text/plain": [
       "'BAD_ROAD_CONDITION,DEFECT_ROAD,WORKING_TRAFFIC_DEVICE,OBSCURED_VIZ,DRIVER_ERROR'"
      ]
     },
     "execution_count": 8,
     "metadata": {},
     "output_type": "execute_result"
    }
   ],
   "source": [
    "dt = DecisionTreeClassifier()\n",
    "num_features_to_select = 5\n",
    "use_RSE = True\n",
    "\n",
    "select = RFE(dt, n_features_to_select=num_features_to_select)\n",
    "select.fit(X = X_train, y = y_train)\n",
    "\n",
    "keep_list = [(k,v) for k,v in zip(main_df.drop((columns_to_drop), axis=1).columns,select.support_)]\n",
    "keep_string = ''\n",
    "for k,v in keep_list:\n",
    "    if v:\n",
    "        keep_string += k + ','\n",
    "if use_RSE == False:\n",
    "    keep_list = formula_string.split('+')\n",
    "keep_string = keep_string[:-1]\n",
    "\n",
    "keep_string"
   ]
  },
  {
   "cell_type": "code",
   "execution_count": 9,
   "metadata": {},
   "outputs": [
    {
     "data": {
      "text/plain": [
       "0.7555023420925494"
      ]
     },
     "execution_count": 9,
     "metadata": {},
     "output_type": "execute_result"
    }
   ],
   "source": [
    "X = main_df[['BAD_ROAD_CONDITION','DEFECT_ROAD','WORKING_TRAFFIC_DEVICE','OBSCURED_VIZ','DRIVER_ERROR']]\n",
    "y = main_df['Target']\n",
    "X_train, X_test, y_train, y_test = train_test_split(X, y, random_state = 1)\n",
    "\n",
    "dt_rfe = DecisionTreeClassifier(random_state = 42)\n",
    "dt_rfe.fit(X_train, y_train)\n",
    "dt_rfe.score(X_test, y_test)"
   ]
  },
  {
   "cell_type": "code",
   "execution_count": 10,
   "metadata": {},
   "outputs": [
    {
     "data": {
      "text/plain": [
       "0.7563467557291995"
      ]
     },
     "execution_count": 10,
     "metadata": {},
     "output_type": "execute_result"
    }
   ],
   "source": [
    "X = main_df.drop((columns_to_drop), axis = 1)\n",
    "y = main_df['Target']\n",
    "X_train, X_test, y_train, y_test = train_test_split(X, y, random_state = 1)\n",
    "\n",
    "dt = DecisionTreeClassifier(random_state = 42)\n",
    "dt.fit(X_train, y_train)\n",
    "dt.score(X_test, y_test)"
   ]
  },
  {
   "cell_type": "code",
   "execution_count": 11,
   "metadata": {},
   "outputs": [
    {
     "data": {
      "image/png": "[encoded data removed]",
      "text/plain": [
       "<Figure size 720x720 with 2 Axes>"
      ]
     },
     "metadata": {},
     "output_type": "display_data"
    }
   ],
   "source": [
    "sns.set(rc={'figure.figsize':(10, 10)})\n",
    "plot_confusion_matrix(dt, X_train, y_train)\n",
    "plt.grid('OFF');"
   ]
  },
  {
   "cell_type": "code",
   "execution_count": 12,
   "metadata": {
    "tags": []
   },
   "outputs": [
    {
     "data": {
      "image/png": "[encoded data removed]",
      "text/plain": [
       "<Figure size 720x720 with 2 Axes>"
      ]
     },
     "metadata": {},
     "output_type": "display_data"
    }
   ],
   "source": [
    "plot_confusion_matrix(dt, X_test, y_test);"
   ]
  },
  {
   "cell_type": "markdown",
   "metadata": {},
   "source": [
    "# Grid Search"
   ]
  },
  {
   "cell_type": "markdown",
   "metadata": {},
   "source": [
    "Because Decision Trees gave us the best accuracy score, we decided to try and find the best parameters\n",
    "Using Grid Search to find the best parameters"
   ]
  },
  {
   "cell_type": "code",
   "execution_count": 13,
   "metadata": {},
   "outputs": [],
   "source": [
    "# Look through max depth, min samples split, min sample leaf to find the best perameters. \n",
    "grid = [{'max_depth': [4, 6, 8], \n",
    "         'min_samples_split': [5, 10, 15], \n",
    "         'min_samples_leaf': [20, 25, 30]}]\n",
    "GS = GridSearchCV(estimator=dt, \n",
    "                          param_grid=grid, \n",
    "                          scoring='recall', \n",
    "                          cv=5)"
   ]
  },
  {
   "cell_type": "markdown",
   "metadata": {},
   "source": [
    "Fit to our grid"
   ]
  },
  {
   "cell_type": "code",
   "execution_count": 14,
   "metadata": {},
   "outputs": [
    {
     "data": {
      "text/plain": [
       "GridSearchCV(cv=5, estimator=DecisionTreeClassifier(random_state=42),\n",
       "             param_grid=[{'max_depth': [4, 6, 8],\n",
       "                          'min_samples_leaf': [20, 25, 30],\n",
       "                          'min_samples_split': [5, 10, 15]}],\n",
       "             scoring='recall')"
      ]
     },
     "execution_count": 14,
     "metadata": {},
     "output_type": "execute_result"
    }
   ],
   "source": [
    "GS.fit(X_train, y_train)"
   ]
  },
  {
   "cell_type": "markdown",
   "metadata": {},
   "source": [
    "- Analyze the results"
   ]
  },
  {
   "cell_type": "code",
   "execution_count": 15,
   "metadata": {},
   "outputs": [
    {
     "data": {
      "text/plain": [
       "{'mean_fit_time': array([0.35560446, 0.34678764, 0.37320633, 0.37112365, 0.34759998,\n",
       "        0.38221169, 0.38217106, 0.39899058, 0.41856804, 0.4664773 ,\n",
       "        0.47220221, 0.52819695, 0.63868399, 0.55239935, 0.47600203,\n",
       "        0.45340414, 0.50191679, 0.53906188, 0.79195437, 0.56460056,\n",
       "        0.5321876 , 0.63445539, 0.5730927 , 0.51401711, 0.5073936 ,\n",
       "        0.54820719, 0.55901132]),\n",
       " 'std_fit_time': array([0.00614475, 0.01369094, 0.02851856, 0.03007365, 0.01665852,\n",
       "        0.03652989, 0.03018826, 0.03014424, 0.0658414 , 0.0109104 ,\n",
       "        0.02776469, 0.06572693, 0.09607571, 0.03148176, 0.01982853,\n",
       "        0.01066299, 0.03881964, 0.02847085, 0.30765887, 0.03844761,\n",
       "        0.02539385, 0.02295768, 0.03153303, 0.00695917, 0.008435  ,\n",
       "        0.06722884, 0.02558967]),\n",
       " 'mean_score_time': array([0.05599885, 0.05120759, 0.05720754, 0.05480165, 0.05079389,\n",
       "        0.05560021, 0.05802264, 0.05660257, 0.05795217, 0.05559587,\n",
       "        0.05439267, 0.0560101 , 0.06920609, 0.06320157, 0.05300546,\n",
       "        0.05319409, 0.074015  , 0.05840006, 0.0673986 , 0.05740099,\n",
       "        0.05501347, 0.05679479, 0.05679698, 0.05300679, 0.05540752,\n",
       "        0.05759544, 0.05819058]),\n",
       " 'std_score_time': array([0.0075536 , 0.00159982, 0.00662405, 0.00550354, 0.0004108 ,\n",
       "        0.00804096, 0.00636145, 0.00382868, 0.00857216, 0.00674488,\n",
       "        0.00149123, 0.00304455, 0.00982417, 0.01183948, 0.00226121,\n",
       "        0.00172184, 0.02358831, 0.00630986, 0.01213421, 0.00344157,\n",
       "        0.00267748, 0.00318684, 0.0055979 , 0.00064179, 0.0058626 ,\n",
       "        0.00839447, 0.00458443]),\n",
       " 'param_max_depth': masked_array(data=[4, 4, 4, 4, 4, 4, 4, 4, 4, 6, 6, 6, 6, 6, 6, 6, 6, 6,\n",
       "                    8, 8, 8, 8, 8, 8, 8, 8, 8],\n",
       "              mask=[False, False, False, False, False, False, False, False,\n",
       "                    False, False, False, False, False, False, False, False,\n",
       "                    False, False, False, False, False, False, False, False,\n",
       "                    False, False, False],\n",
       "        fill_value='?',\n",
       "             dtype=object),\n",
       " 'param_min_samples_leaf': masked_array(data=[20, 20, 20, 25, 25, 25, 30, 30, 30, 20, 20, 20, 25, 25,\n",
       "                    25, 30, 30, 30, 20, 20, 20, 25, 25, 25, 30, 30, 30],\n",
       "              mask=[False, False, False, False, False, False, False, False,\n",
       "                    False, False, False, False, False, False, False, False,\n",
       "                    False, False, False, False, False, False, False, False,\n",
       "                    False, False, False],\n",
       "        fill_value='?',\n",
       "             dtype=object),\n",
       " 'param_min_samples_split': masked_array(data=[5, 10, 15, 5, 10, 15, 5, 10, 15, 5, 10, 15, 5, 10, 15,\n",
       "                    5, 10, 15, 5, 10, 15, 5, 10, 15, 5, 10, 15],\n",
       "              mask=[False, False, False, False, False, False, False, False,\n",
       "                    False, False, False, False, False, False, False, False,\n",
       "                    False, False, False, False, False, False, False, False,\n",
       "                    False, False, False],\n",
       "        fill_value='?',\n",
       "             dtype=object),\n",
       " 'params': [{'max_depth': 4, 'min_samples_leaf': 20, 'min_samples_split': 5},\n",
       "  {'max_depth': 4, 'min_samples_leaf': 20, 'min_samples_split': 10},\n",
       "  {'max_depth': 4, 'min_samples_leaf': 20, 'min_samples_split': 15},\n",
       "  {'max_depth': 4, 'min_samples_leaf': 25, 'min_samples_split': 5},\n",
       "  {'max_depth': 4, 'min_samples_leaf': 25, 'min_samples_split': 10},\n",
       "  {'max_depth': 4, 'min_samples_leaf': 25, 'min_samples_split': 15},\n",
       "  {'max_depth': 4, 'min_samples_leaf': 30, 'min_samples_split': 5},\n",
       "  {'max_depth': 4, 'min_samples_leaf': 30, 'min_samples_split': 10},\n",
       "  {'max_depth': 4, 'min_samples_leaf': 30, 'min_samples_split': 15},\n",
       "  {'max_depth': 6, 'min_samples_leaf': 20, 'min_samples_split': 5},\n",
       "  {'max_depth': 6, 'min_samples_leaf': 20, 'min_samples_split': 10},\n",
       "  {'max_depth': 6, 'min_samples_leaf': 20, 'min_samples_split': 15},\n",
       "  {'max_depth': 6, 'min_samples_leaf': 25, 'min_samples_split': 5},\n",
       "  {'max_depth': 6, 'min_samples_leaf': 25, 'min_samples_split': 10},\n",
       "  {'max_depth': 6, 'min_samples_leaf': 25, 'min_samples_split': 15},\n",
       "  {'max_depth': 6, 'min_samples_leaf': 30, 'min_samples_split': 5},\n",
       "  {'max_depth': 6, 'min_samples_leaf': 30, 'min_samples_split': 10},\n",
       "  {'max_depth': 6, 'min_samples_leaf': 30, 'min_samples_split': 15},\n",
       "  {'max_depth': 8, 'min_samples_leaf': 20, 'min_samples_split': 5},\n",
       "  {'max_depth': 8, 'min_samples_leaf': 20, 'min_samples_split': 10},\n",
       "  {'max_depth': 8, 'min_samples_leaf': 20, 'min_samples_split': 15},\n",
       "  {'max_depth': 8, 'min_samples_leaf': 25, 'min_samples_split': 5},\n",
       "  {'max_depth': 8, 'min_samples_leaf': 25, 'min_samples_split': 10},\n",
       "  {'max_depth': 8, 'min_samples_leaf': 25, 'min_samples_split': 15},\n",
       "  {'max_depth': 8, 'min_samples_leaf': 30, 'min_samples_split': 5},\n",
       "  {'max_depth': 8, 'min_samples_leaf': 30, 'min_samples_split': 10},\n",
       "  {'max_depth': 8, 'min_samples_leaf': 30, 'min_samples_split': 15}],\n",
       " 'split0_test_score': array([0.01169624, 0.01169624, 0.01169624, 0.01169624, 0.01169624,\n",
       "        0.01169624, 0.01169624, 0.01169624, 0.01169624, 0.03337708,\n",
       "        0.03337708, 0.03337708, 0.03337708, 0.03337708, 0.03337708,\n",
       "        0.0334056 , 0.0334056 , 0.0334056 , 0.03814115, 0.03814115,\n",
       "        0.03814115, 0.03814115, 0.03814115, 0.03814115, 0.03845496,\n",
       "        0.03845496, 0.03845496]),\n",
       " 'split1_test_score': array([0.00935699, 0.00935699, 0.00935699, 0.00935699, 0.00935699,\n",
       "        0.00935699, 0.00935699, 0.00935699, 0.00935699, 0.03409026,\n",
       "        0.03409026, 0.03409026, 0.03409026, 0.03409026, 0.03409026,\n",
       "        0.03411879, 0.03411879, 0.03411879, 0.02573173, 0.02573173,\n",
       "        0.02573173, 0.02581731, 0.02581731, 0.02581731, 0.02584584,\n",
       "        0.02584584, 0.02584584]),\n",
       " 'split2_test_score': array([0.01084011, 0.01084011, 0.01084011, 0.01084011, 0.01084011,\n",
       "        0.01084011, 0.01084011, 0.01084011, 0.01084011, 0.03129368,\n",
       "        0.03129368, 0.03129368, 0.03129368, 0.03129368, 0.03129368,\n",
       "        0.03135073, 0.03135073, 0.03135073, 0.03711311, 0.03711311,\n",
       "        0.03711311, 0.03719869, 0.03719869, 0.03719869, 0.03728427,\n",
       "        0.03728427, 0.03728427]),\n",
       " 'split3_test_score': array([0.00747397, 0.00747397, 0.00747397, 0.00747397, 0.00747397,\n",
       "        0.00747397, 0.00747397, 0.00747397, 0.00747397, 0.02989588,\n",
       "        0.02989588, 0.02989588, 0.02989588, 0.02989588, 0.02989588,\n",
       "        0.02989588, 0.02989588, 0.02989588, 0.02864071, 0.02864071,\n",
       "        0.02864071, 0.02826986, 0.02826986, 0.02826986, 0.02807018,\n",
       "        0.02807018, 0.02807018]),\n",
       " 'split4_test_score': array([0.01152475, 0.01152475, 0.01152475, 0.01152475, 0.01152475,\n",
       "        0.01152475, 0.01152475, 0.01152475, 0.01152475, 0.03349023,\n",
       "        0.03349023, 0.03349023, 0.03357581, 0.03357581, 0.03357581,\n",
       "        0.03363286, 0.03363286, 0.03363286, 0.04002282, 0.04002282,\n",
       "        0.04002282, 0.04073599, 0.04073599, 0.04073599, 0.03648552,\n",
       "        0.03648552, 0.03648552]),\n",
       " 'mean_test_score': array([0.01017841, 0.01017841, 0.01017841, 0.01017841, 0.01017841,\n",
       "        0.01017841, 0.01017841, 0.01017841, 0.01017841, 0.03242943,\n",
       "        0.03242943, 0.03242943, 0.03244654, 0.03244654, 0.03244654,\n",
       "        0.03248077, 0.03248077, 0.03248077, 0.0339299 , 0.0339299 ,\n",
       "        0.0339299 , 0.0340326 , 0.0340326 , 0.0340326 , 0.03322815,\n",
       "        0.03322815, 0.03322815]),\n",
       " 'std_test_score': array([0.00158386, 0.00158386, 0.00158386, 0.00158386, 0.00158386,\n",
       "        0.00158386, 0.00158386, 0.00158386, 0.00158386, 0.00158054,\n",
       "        0.00158054, 0.00158054, 0.00159235, 0.00159235, 0.00159235,\n",
       "        0.00160152, 0.00160152, 0.00160152, 0.00565998, 0.00565998,\n",
       "        0.00565998, 0.00587435, 0.00587435, 0.00587435, 0.00520548,\n",
       "        0.00520548, 0.00520548]),\n",
       " 'rank_test_score': array([19, 19, 19, 19, 19, 19, 19, 19, 19, 16, 16, 16, 13, 13, 13, 10, 10,\n",
       "        10,  4,  4,  4,  1,  1,  1,  7,  7,  7])}"
      ]
     },
     "execution_count": 15,
     "metadata": {},
     "output_type": "execute_result"
    }
   ],
   "source": [
    "GS.cv_results_"
   ]
  },
  {
   "cell_type": "markdown",
   "metadata": {},
   "source": [
    "- Find our best score"
   ]
  },
  {
   "cell_type": "code",
   "execution_count": 16,
   "metadata": {},
   "outputs": [
    {
     "data": {
      "text/plain": [
       "0.7563425546663306"
      ]
     },
     "execution_count": 16,
     "metadata": {},
     "output_type": "execute_result"
    }
   ],
   "source": [
    "GS.best_estimator_.score(X_test, y_test)"
   ]
  },
  {
   "cell_type": "markdown",
   "metadata": {},
   "source": [
    "- See what the best perameters are"
   ]
  },
  {
   "cell_type": "code",
   "execution_count": 17,
   "metadata": {},
   "outputs": [
    {
     "data": {
      "text/plain": [
       "{'max_depth': 8, 'min_samples_leaf': 25, 'min_samples_split': 5}"
      ]
     },
     "execution_count": 17,
     "metadata": {},
     "output_type": "execute_result"
    }
   ],
   "source": [
    "GS.best_params_"
   ]
  },
  {
   "cell_type": "markdown",
   "metadata": {},
   "source": [
    "## XGBoost"
   ]
  },
  {
   "cell_type": "markdown",
   "metadata": {},
   "source": [
    "- Initiate XGBClassifier, fit, and determine the training and validation scores. "
   ]
  },
  {
   "cell_type": "code",
   "execution_count": 20,
   "metadata": {
    "scrolled": false
   },
   "outputs": [
    {
     "name": "stdout",
     "output_type": "stream",
     "text": [
      "Training Accuracy: 75.73%\n",
      "Validation accuracy: 75.64%\n"
     ]
    }
   ],
   "source": [
    "clf = XGBClassifier(eval_metric='mlogloss')\n",
    "clf.fit(X_train, y_train)\n",
    "training_preds = clf.predict(X_train)\n",
    "test_preds = clf.predict(X_test)\n",
    "\n",
    "# Accuracy\n",
    "training_accuracy = accuracy_score(y_train, training_preds)\n",
    "test_accuracy = accuracy_score(y_test, test_preds)\n",
    "print('Training Accuracy: {:.4}%'.format(training_accuracy * 100))\n",
    "print('Validation accuracy: {:.4}%'.format(test_accuracy * 100))\n",
    "print('Test Accuracy: {}')"
   ]
  },
  {
   "cell_type": "code",
   "execution_count": 26,
   "metadata": {},
   "outputs": [
    {
     "data": {
      "text/plain": [
       "0.7563929674207575"
      ]
     },
     "execution_count": 26,
     "metadata": {},
     "output_type": "execute_result"
    }
   ],
   "source": [
    "clf.score(X_test, y_test)"
   ]
  },
  {
   "cell_type": "code",
   "execution_count": 24,
   "metadata": {},
   "outputs": [],
   "source": [
    "param_grid = {\n",
    "    'learning_rate': [0.2, 0.5],\n",
    "    'max_depth': [6],\n",
    "    'min_child_weight': [1],\n",
    "    'subsample': [0.7],\n",
    "    'n_estimators': [100, 200],\n",
    "}"
   ]
  },
  {
   "cell_type": "code",
   "execution_count": 25,
   "metadata": {},
   "outputs": [
    {
     "name": "stdout",
     "output_type": "stream",
     "text": [
      "Grid Search found the following optimal parameters: \n",
      "learning_rate: 0.2\n",
      "max_depth: 6\n",
      "min_child_weight: 1\n",
      "n_estimators: 200\n",
      "subsample: 0.7\n",
      "\n",
      "Training Accuracy: 75.73%\n",
      "Validation accuracy: 75.64%\n"
     ]
    }
   ],
   "source": [
    "\n",
    "grid_clf = GridSearchCV(clf, param_grid, scoring='accuracy', cv=None, n_jobs=1)\n",
    "grid_clf.fit(X_train, y_train)\n",
    "\n",
    "best_parameters = grid_clf.best_params_\n",
    "\n",
    "print('Grid Search found the following optimal parameters: ')\n",
    "for param_name in sorted(best_parameters.keys()):\n",
    "    print('%s: %r' % (param_name, best_parameters[param_name]))\n",
    "\n",
    "training_preds = grid_clf.predict(X_train)\n",
    "test_preds = grid_clf.predict(X_test)\n",
    "training_accuracy = accuracy_score(y_train, training_preds)\n",
    "test_accuracy = accuracy_score(y_test, test_preds)\n",
    "\n",
    "print('')\n",
    "print('Training Accuracy: {:.4}%'.format(training_accuracy * 100))\n",
    "print('Validation accuracy: {:.4}%'.format(test_accuracy * 100))"
   ]
  },
  {
   "cell_type": "code",
   "execution_count": 27,
   "metadata": {},
   "outputs": [
    {
     "data": {
      "text/plain": [
       "0.7563845652950196"
      ]
     },
     "execution_count": 27,
     "metadata": {},
     "output_type": "execute_result"
    }
   ],
   "source": [
    "grid_clf.score(X_test, y_test)"
   ]
  },
  {
   "cell_type": "markdown",
   "metadata": {},
   "source": [
    "## Results"
   ]
  },
  {
   "cell_type": "markdown",
   "metadata": {},
   "source": [
    "The results of our model indicated that most of the crashes were Preventable. By spending more money on drivers education in ages 20 - 39, we could curb the total accidents in Chicago drastically."
   ]
  },
  {
   "cell_type": "markdown",
   "metadata": {},
   "source": [
    "## Evaluation\n",
    "Evaluate how well your work solves the stated business problem.\n",
    "\n",
    "***\n",
    "Questions to consider:\n",
    "* How do you interpret the results?\n",
    "* How well does your model fit your data? How much better is this than your baseline model?\n",
    "* How confident are you that your results would generalize beyond the data you have?\n",
    "* How confident are you that this model would benefit the business if put into use?\n",
    "***"
   ]
  },
  {
   "cell_type": "markdown",
   "metadata": {},
   "source": [
    "## Conclusions\n",
    "\n",
    "We recommend investing in online drivers education because this could significantly lower the amount of preventable crashes in the Chicago area. We recommend driver education because it is affordable, easy to implement, and saves a lot more in labor costs vs. repairing all the roads in Chicago.\n",
    "\n",
    "***\n",
    "Questions to consider:\n",
    "* What would you recommend the business do as a result of this work?\n",
    "* What are some reasons why your analysis might not fully solve the business problem?\n",
    "* What else could you do in the future to improve this project?\n",
    "***"
   ]
  },
  {
   "cell_type": "code",
   "execution_count": null,
   "metadata": {},
   "outputs": [],
   "source": []
  }
 ],
 "metadata": {
  "kernelspec": {
   "display_name": "Python 3",
   "language": "python",
   "name": "python3"
  },
  "language_info": {
   "codemirror_mode": {
    "name": "ipython",
    "version": 3
   },
   "file_extension": ".py",
   "mimetype": "text/x-python",
   "name": "python",
   "nbconvert_exporter": "python",
   "pygments_lexer": "ipython3",
   "version": "3.8.5"
  }
 },
 "nbformat": 4,
 "nbformat_minor": 5
}
