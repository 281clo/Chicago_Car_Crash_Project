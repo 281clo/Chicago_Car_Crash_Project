{
 "cells": [
  {
   "cell_type": "code",
   "execution_count": 1,
   "metadata": {},
   "outputs": [],
   "source": [
    "import pandas as pd\n",
    "import numpy as np"
   ]
  },
  {
   "cell_type": "code",
   "execution_count": 50,
   "metadata": {},
   "outputs": [],
   "source": [
    "df=pd.read_csv('data/Traffic_Crashes_People.csv', low_memory=False)"
   ]
  },
  {
   "cell_type": "code",
   "execution_count": 80,
   "metadata": {},
   "outputs": [
    {
     "data": {
      "text/plain": [
       "Index(['PERSON_ID', 'PERSON_TYPE', 'CRASH_RECORD_ID', 'CRASH_DATE',\n",
       "       'DRIVER_ACTION', 'DRIVER_VISION', 'PHYSICAL_CONDITION', 'BAC_RESULT'],\n",
       "      dtype='object')"
      ]
     },
     "execution_count": 80,
     "metadata": {},
     "output_type": "execute_result"
    }
   ],
   "source": [
    "df.drop(['RD_NO', 'VEHICLE_ID', 'SEAT_NO', 'CITY', 'STATE', 'ZIPCODE', 'SEX', 'AGE', 'DRIVERS_LICENSE_STATE', \n",
    "        'DRIVERS_LICENSE_CLASS', 'SAFETY_EQUIPMENT', 'AIRBAG_DEPLOYED', 'EJECTION', 'INJURY_CLASSIFICATION', \n",
    "        'HOSPITAL', 'EMS_AGENCY', 'EMS_RUN_NO', 'PEDPEDAL_ACTION', 'PEDPEDAL_VISIBILITY', 'PEDPEDAL_LOCATION', \n",
    "        'BAC_RESULT VALUE', 'CELL_PHONE_USE'], axis=1, inplace=True)\n",
    "df.columns"
   ]
  },
  {
   "cell_type": "code",
   "execution_count": 81,
   "metadata": {
    "scrolled": false
   },
   "outputs": [
    {
     "data": {
      "text/plain": [
       "PERSON_ID                  0\n",
       "PERSON_TYPE                0\n",
       "CRASH_RECORD_ID            0\n",
       "CRASH_DATE                 0\n",
       "DRIVER_ACTION         252395\n",
       "DRIVER_VISION         252733\n",
       "PHYSICAL_CONDITION    251704\n",
       "BAC_RESULT            251310\n",
       "dtype: int64"
      ]
     },
     "execution_count": 81,
     "metadata": {},
     "output_type": "execute_result"
    }
   ],
   "source": [
    "df.isna().sum()"
   ]
  },
  {
   "cell_type": "code",
   "execution_count": 10,
   "metadata": {
    "scrolled": false
   },
   "outputs": [
    {
     "data": {
      "text/plain": [
       "NONE                                 352932\n",
       "UNKNOWN                              234097\n",
       "FAILED TO YIELD                       89820\n",
       "OTHER                                 84187\n",
       "FOLLOWED TOO CLOSELY                  62084\n",
       "IMPROPER BACKING                      30808\n",
       "IMPROPER TURN                         25714\n",
       "IMPROPER LANE CHANGE                  25604\n",
       "IMPROPER PASSING                      21560\n",
       "DISREGARDED CONTROL DEVICES           16345\n",
       "TOO FAST FOR CONDITIONS               15662\n",
       "IMPROPER PARKING                       3755\n",
       "WRONG WAY/SIDE                         3748\n",
       "CELL PHONE USE OTHER THAN TEXTING      1608\n",
       "EVADING POLICE VEHICLE                 1596\n",
       "OVERCORRECTED                          1192\n",
       "EMERGENCY VEHICLE ON CALL               924\n",
       "TEXTING                                 425\n",
       "STOPPED SCHOOL BUS                      113\n",
       "LICENSE RESTRICTIONS                     44\n",
       "Name: DRIVER_ACTION, dtype: int64"
      ]
     },
     "execution_count": 10,
     "metadata": {},
     "output_type": "execute_result"
    }
   ],
   "source": [
    "df['DRIVER_ACTION'].value_counts()"
   ]
  },
  {
   "cell_type": "code",
   "execution_count": 63,
   "metadata": {
    "scrolled": false
   },
   "outputs": [
    {
     "data": {
      "text/plain": [
       "NOT OBSCURED              522458\n",
       "UNKNOWN                   424299\n",
       "OTHER                      10228\n",
       "MOVING VEHICLES             5983\n",
       "PARKED VEHICLES             3619\n",
       "WINDSHIELD (WATER/ICE)      2949\n",
       "BLINDED - SUNLIGHT          1171\n",
       "TREES, PLANTS                465\n",
       "BUILDINGS                    379\n",
       "BLINDED - HEADLIGHTS          92\n",
       "HILLCREST                     76\n",
       "BLOWING MATERIALS             75\n",
       "EMBANKMENT                    62\n",
       "SIGNBOARD                     24\n",
       "Name: DRIVER_VISION, dtype: int64"
      ]
     },
     "execution_count": 63,
     "metadata": {},
     "output_type": "execute_result"
    }
   ],
   "source": [
    "df['DRIVER_VISION'].value_counts()"
   ]
  },
  {
   "cell_type": "code",
   "execution_count": 84,
   "metadata": {},
   "outputs": [
    {
     "data": {
      "text/plain": [
       "NORMAL                          648469\n",
       "UNKNOWN                         305866\n",
       "IMPAIRED - ALCOHOL                4653\n",
       "REMOVED BY EMS                    3773\n",
       "OTHER                             2812\n",
       "FATIGUED/ASLEEP                   2597\n",
       "EMOTIONAL                         2130\n",
       "ILLNESS/FAINTED                    916\n",
       "HAD BEEN DRINKING                  771\n",
       "IMPAIRED - DRUGS                   563\n",
       "IMPAIRED - ALCOHOL AND DRUGS       236\n",
       "MEDICATED                          123\n",
       "Name: PHYSICAL_CONDITION, dtype: int64"
      ]
     },
     "execution_count": 84,
     "metadata": {},
     "output_type": "execute_result"
    }
   ],
   "source": [
    "df['PHYSICAL_CONDITION'].value_counts()"
   ]
  },
  {
   "cell_type": "code",
   "execution_count": 83,
   "metadata": {},
   "outputs": [
    {
     "data": {
      "text/plain": [
       "TEST NOT OFFERED                   958364\n",
       "TEST REFUSED                        10610\n",
       "TEST PERFORMED, RESULTS UNKNOWN      2463\n",
       "TEST TAKEN                           1866\n",
       "Name: BAC_RESULT, dtype: int64"
      ]
     },
     "execution_count": 83,
     "metadata": {},
     "output_type": "execute_result"
    }
   ],
   "source": [
    "df['BAC_RESULT'].value_counts()"
   ]
  },
  {
   "cell_type": "code",
   "execution_count": null,
   "metadata": {},
   "outputs": [],
   "source": []
  }
 ],
 "metadata": {
  "kernelspec": {
   "display_name": "Python (learn-env)",
   "language": "python",
   "name": "learn-env"
  },
  "language_info": {
   "codemirror_mode": {
    "name": "ipython",
    "version": 3
   },
   "file_extension": ".py",
   "mimetype": "text/x-python",
   "name": "python",
   "nbconvert_exporter": "python",
   "pygments_lexer": "ipython3",
   "version": "3.8.5"
  }
 },
 "nbformat": 4,
 "nbformat_minor": 4
}
