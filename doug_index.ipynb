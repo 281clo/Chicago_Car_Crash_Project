{
 "cells": [
  {
   "cell_type": "code",
   "execution_count": 1,
   "metadata": {},
   "outputs": [],
   "source": [
    "import pandas as pd\n",
    "import numpy as np"
   ]
  },
  {
   "cell_type": "code",
   "execution_count": 2,
   "metadata": {},
   "outputs": [],
   "source": [
    "df=pd.read_csv('data/Traffic_Crashes_People.csv', low_memory=False)"
   ]
  },
  {
   "cell_type": "code",
   "execution_count": 3,
   "metadata": {
    "scrolled": true
   },
   "outputs": [
    {
     "data": {
      "text/plain": [
       "Index(['CRASH_RECORD_ID', 'CRASH_DATE', 'AGE', 'DRIVER_ACTION',\n",
       "       'DRIVER_VISION', 'PHYSICAL_CONDITION', 'BAC_RESULT'],\n",
       "      dtype='object')"
      ]
     },
     "execution_count": 3,
     "metadata": {},
     "output_type": "execute_result"
    }
   ],
   "source": [
    "df.drop(['PERSON_ID', 'PERSON_TYPE', 'RD_NO', 'VEHICLE_ID', 'SEAT_NO', 'CITY', 'STATE', 'ZIPCODE', 'SEX', \n",
    "         'DRIVERS_LICENSE_STATE', 'DRIVERS_LICENSE_CLASS', 'SAFETY_EQUIPMENT', 'AIRBAG_DEPLOYED', 'EJECTION', \n",
    "         'INJURY_CLASSIFICATION', 'HOSPITAL', 'EMS_AGENCY', 'EMS_RUN_NO', 'PEDPEDAL_ACTION', 'PEDPEDAL_VISIBILITY', \n",
    "         'PEDPEDAL_LOCATION', 'BAC_RESULT VALUE', 'CELL_PHONE_USE'], axis=1, inplace=True)\n",
    "df.columns"
   ]
  },
  {
   "cell_type": "code",
   "execution_count": 6,
   "metadata": {
    "scrolled": false
   },
   "outputs": [],
   "source": [
    "#delete age nulls, set to drivers above 16 only\n",
    "df.dropna(subset=['AGE'], inplace=True)\n",
    "# df['AGE'].isna().sum()\n",
    "df = df[df['AGE']>=16]"
   ]
  },
  {
   "cell_type": "code",
   "execution_count": 17,
   "metadata": {},
   "outputs": [],
   "source": [
    "#drop rest of the null values\n",
    "df.dropna(subset=['DRIVER_ACTION'], inplace=True)\n",
    "df.dropna(subset=['DRIVER_VISION'], inplace=True)\n",
    "df.dropna(subset=['BAC_RESULT'], inplace=True)\n",
    "df.dropna(subset=['PHYSICAL_CONDITION'], inplace=True)"
   ]
  },
  {
   "cell_type": "code",
   "execution_count": 18,
   "metadata": {},
   "outputs": [
    {
     "data": {
      "text/plain": [
       "CRASH_RECORD_ID       0\n",
       "CRASH_DATE            0\n",
       "AGE                   0\n",
       "DRIVER_ACTION         0\n",
       "DRIVER_VISION         0\n",
       "PHYSICAL_CONDITION    0\n",
       "BAC_RESULT            0\n",
       "dtype: int64"
      ]
     },
     "execution_count": 18,
     "metadata": {},
     "output_type": "execute_result"
    }
   ],
   "source": [
    "df.isna().sum()"
   ]
  },
  {
   "cell_type": "code",
   "execution_count": 19,
   "metadata": {
    "scrolled": true
   },
   "outputs": [
    {
     "name": "stdout",
     "output_type": "stream",
     "text": [
      "<class 'pandas.core.frame.DataFrame'>\n",
      "Int64Index: 708237 entries, 0 to 1224557\n",
      "Data columns (total 7 columns):\n",
      " #   Column              Non-Null Count   Dtype  \n",
      "---  ------              --------------   -----  \n",
      " 0   CRASH_RECORD_ID     708237 non-null  object \n",
      " 1   CRASH_DATE          708237 non-null  object \n",
      " 2   AGE                 708237 non-null  float64\n",
      " 3   DRIVER_ACTION       708237 non-null  object \n",
      " 4   DRIVER_VISION       708237 non-null  object \n",
      " 5   PHYSICAL_CONDITION  708237 non-null  object \n",
      " 6   BAC_RESULT          708237 non-null  object \n",
      "dtypes: float64(1), object(6)\n",
      "memory usage: 43.2+ MB\n"
     ]
    }
   ],
   "source": [
    "df.info()"
   ]
  },
  {
   "cell_type": "code",
   "execution_count": 20,
   "metadata": {
    "scrolled": true
   },
   "outputs": [
    {
     "data": {
      "text/plain": [
       "NONE                                 320325\n",
       "UNKNOWN                              118669\n",
       "OTHER                                 66729\n",
       "FAILED TO YIELD                       65164\n",
       "FOLLOWED TOO CLOSELY                  43065\n",
       "IMPROPER BACKING                      18725\n",
       "IMPROPER TURN                         18261\n",
       "IMPROPER LANE CHANGE                  16548\n",
       "IMPROPER PASSING                      11297\n",
       "TOO FAST FOR CONDITIONS               10516\n",
       "DISREGARDED CONTROL DEVICES           10368\n",
       "IMPROPER PARKING                       2235\n",
       "WRONG WAY/SIDE                         2153\n",
       "CELL PHONE USE OTHER THAN TEXTING      1130\n",
       "OVERCORRECTED                           952\n",
       "EVADING POLICE VEHICLE                  910\n",
       "EMERGENCY VEHICLE ON CALL               770\n",
       "TEXTING                                 292\n",
       "STOPPED SCHOOL BUS                       93\n",
       "LICENSE RESTRICTIONS                     35\n",
       "Name: DRIVER_ACTION, dtype: int64"
      ]
     },
     "execution_count": 20,
     "metadata": {},
     "output_type": "execute_result"
    }
   ],
   "source": [
    "df['DRIVER_ACTION'].value_counts()"
   ]
  },
  {
   "cell_type": "code",
   "execution_count": 21,
   "metadata": {
    "scrolled": false
   },
   "outputs": [
    {
     "data": {
      "text/plain": [
       "NOT OBSCURED              482888\n",
       "UNKNOWN                   202536\n",
       "OTHER                       9034\n",
       "MOVING VEHICLES             5566\n",
       "PARKED VEHICLES             3368\n",
       "WINDSHIELD (WATER/ICE)      2674\n",
       "BLINDED - SUNLIGHT          1103\n",
       "TREES, PLANTS                431\n",
       "BUILDINGS                    333\n",
       "BLINDED - HEADLIGHTS          83\n",
       "HILLCREST                     74\n",
       "BLOWING MATERIALS             67\n",
       "EMBANKMENT                    59\n",
       "SIGNBOARD                     21\n",
       "Name: DRIVER_VISION, dtype: int64"
      ]
     },
     "execution_count": 21,
     "metadata": {},
     "output_type": "execute_result"
    }
   ],
   "source": [
    "df['DRIVER_VISION'].value_counts()"
   ]
  },
  {
   "cell_type": "code",
   "execution_count": 22,
   "metadata": {},
   "outputs": [
    {
     "data": {
      "text/plain": [
       "NORMAL                          599773\n",
       "UNKNOWN                          91971\n",
       "IMPAIRED - ALCOHOL                4252\n",
       "REMOVED BY EMS                    3345\n",
       "FATIGUED/ASLEEP                   2397\n",
       "OTHER                             2208\n",
       "EMOTIONAL                         1949\n",
       "ILLNESS/FAINTED                    875\n",
       "HAD BEEN DRINKING                  632\n",
       "IMPAIRED - DRUGS                   510\n",
       "IMPAIRED - ALCOHOL AND DRUGS       213\n",
       "MEDICATED                          112\n",
       "Name: PHYSICAL_CONDITION, dtype: int64"
      ]
     },
     "execution_count": 22,
     "metadata": {},
     "output_type": "execute_result"
    }
   ],
   "source": [
    "df['PHYSICAL_CONDITION'].value_counts()"
   ]
  },
  {
   "cell_type": "code",
   "execution_count": 23,
   "metadata": {},
   "outputs": [
    {
     "data": {
      "text/plain": [
       "TEST NOT OFFERED                   694723\n",
       "TEST REFUSED                         9508\n",
       "TEST PERFORMED, RESULTS UNKNOWN      2211\n",
       "TEST TAKEN                           1795\n",
       "Name: BAC_RESULT, dtype: int64"
      ]
     },
     "execution_count": 23,
     "metadata": {},
     "output_type": "execute_result"
    }
   ],
   "source": [
    "df['BAC_RESULT'].value_counts()"
   ]
  },
  {
   "cell_type": "code",
   "execution_count": null,
   "metadata": {},
   "outputs": [],
   "source": []
  }
 ],
 "metadata": {
  "kernelspec": {
   "display_name": "Python (learn-env)",
   "language": "python",
   "name": "learn-env"
  },
  "language_info": {
   "codemirror_mode": {
    "name": "ipython",
    "version": 3
   },
   "file_extension": ".py",
   "mimetype": "text/x-python",
   "name": "python",
   "nbconvert_exporter": "python",
   "pygments_lexer": "ipython3",
   "version": "3.8.5"
  }
 },
 "nbformat": 4,
 "nbformat_minor": 4
}
