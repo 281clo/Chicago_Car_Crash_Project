{
 "cells": [
  {
   "cell_type": "code",
   "execution_count": 1,
   "metadata": {},
   "outputs": [],
   "source": [
    "import pandas as pd\n",
    "import numpy as np"
   ]
  },
  {
   "cell_type": "code",
   "execution_count": 2,
   "metadata": {},
   "outputs": [],
   "source": [
    "df=pd.read_csv('data/Traffic_Crashes_People.csv', low_memory=False)"
   ]
  },
  {
   "cell_type": "code",
   "execution_count": 3,
   "metadata": {
    "scrolled": true
   },
   "outputs": [
    {
     "data": {
      "text/plain": [
       "Index(['CRASH_RECORD_ID', 'CRASH_DATE', 'AGE', 'DRIVER_ACTION',\n",
       "       'DRIVER_VISION', 'PHYSICAL_CONDITION'],\n",
       "      dtype='object')"
      ]
     },
     "execution_count": 3,
     "metadata": {},
     "output_type": "execute_result"
    }
   ],
   "source": [
    "df.drop(['PERSON_ID', 'PERSON_TYPE', 'RD_NO', 'VEHICLE_ID', 'SEAT_NO', 'CITY', 'STATE', 'ZIPCODE', 'SEX', \n",
    "         'DRIVERS_LICENSE_STATE', 'DRIVERS_LICENSE_CLASS', 'SAFETY_EQUIPMENT', 'AIRBAG_DEPLOYED', 'EJECTION', \n",
    "         'INJURY_CLASSIFICATION', 'HOSPITAL', 'EMS_AGENCY', 'EMS_RUN_NO', 'PEDPEDAL_ACTION', 'PEDPEDAL_VISIBILITY', \n",
    "         'PEDPEDAL_LOCATION', 'BAC_RESULT', 'BAC_RESULT VALUE', 'CELL_PHONE_USE'], axis=1, inplace=True)\n",
    "df.columns"
   ]
  },
  {
   "cell_type": "code",
   "execution_count": 4,
   "metadata": {
    "scrolled": true
   },
   "outputs": [],
   "source": [
    "#Drop missing and null values\n",
    "df.dropna(subset=['AGE'], inplace=True)\n",
    "df.dropna(subset=['DRIVER_ACTION'], inplace=True)\n",
    "df.dropna(subset=['DRIVER_VISION'], inplace=True)\n",
    "df.dropna(subset=['PHYSICAL_CONDITION'], inplace=True)\n"
   ]
  },
  {
   "cell_type": "code",
   "execution_count": 5,
   "metadata": {},
   "outputs": [],
   "source": [
    "#Cleaning the 3 columns with many unknown values\n",
    "df = df[df['DRIVER_VISION']!='UNKNOWN']\n",
    "df = df[df['DRIVER_ACTION']!='UNKNOWN']\n",
    "df = df[df['PHYSICAL_CONDITION']!='UNKNOWN']"
   ]
  },
  {
   "cell_type": "code",
   "execution_count": 6,
   "metadata": {
    "scrolled": true
   },
   "outputs": [
    {
     "name": "stdout",
     "output_type": "stream",
     "text": [
      "20-29             116624\n",
      "30-39             105008\n",
      "40-49              82265\n",
      "50-59              69003\n",
      "60-69              41753\n",
      "70+                18967\n",
      "15-19              16790\n",
      "Underage 10-14       645\n",
      "Name: AGE_RANGES, dtype: int64\n"
     ]
    }
   ],
   "source": [
    "#Formatting, cleaning, and binning the AGE column. 15 is the youngest age to legally drive in the state of Illinois\n",
    "#with a learner's permit. \n",
    "df = df[df['AGE']>=10]\n",
    "bins = [9, 14, 19, 29, 39, 49, 59, 69, np.inf]\n",
    "names = ['Underage 10-14', '15-19', '20-29', '30-39', '40-49', '50-59', '60-69', '70+']\n",
    "df['AGE_RANGES'] = pd.cut(df['AGE'], bins, labels=names)\n",
    "print(df['AGE_RANGES'].value_counts())\n",
    "# df.drop('AGE', axis=1, inplace=True)"
   ]
  },
  {
   "cell_type": "code",
   "execution_count": 7,
   "metadata": {
    "scrolled": true
   },
   "outputs": [
    {
     "data": {
      "text/plain": [
       "14.0    242\n",
       "13.0    132\n",
       "12.0     93\n",
       "11.0     92\n",
       "10.0     86\n",
       "Name: AGE, dtype: int64"
      ]
     },
     "execution_count": 7,
     "metadata": {},
     "output_type": "execute_result"
    }
   ],
   "source": [
    "#value counts of underage drivers between 10-15. 9 and under deleted.\n",
    "df[df['AGE_RANGES']=='Underage 10-14']['AGE'].value_counts()"
   ]
  },
  {
   "cell_type": "code",
   "execution_count": 10,
   "metadata": {},
   "outputs": [
    {
     "name": "stdout",
     "output_type": "stream",
     "text": [
      "NONE                                 271746\n",
      "OTHER                                 47478\n",
      "FAILED TO YIELD                       44505\n",
      "FOLLOWED TOO CLOSELY                  28518\n",
      "IMPROPER TURN                         11857\n",
      "IMPROPER BACKING                      10877\n",
      "IMPROPER LANE CHANGE                  10599\n",
      "IMPROPER PASSING                       7038\n",
      "TOO FAST FOR CONDITIONS                6993\n",
      "DISREGARDED CONTROL DEVICES            6196\n",
      "IMPROPER PARKING                       1394\n",
      "WRONG WAY/SIDE                         1200\n",
      "CELL PHONE USE OTHER THAN TEXTING       672\n",
      "OVERCORRECTED                           638\n",
      "EMERGENCY VEHICLE ON CALL               636\n",
      "EVADING POLICE VEHICLE                  430\n",
      "TEXTING                                 178\n",
      "STOPPED SCHOOL BUS                       80\n",
      "LICENSE RESTRICTIONS                     20\n",
      "Name: DRIVER_ACTION, dtype: int64\n",
      "NOT OBSCURED              431116\n",
      "OTHER                       7782\n",
      "MOVING VEHICLES             4965\n",
      "PARKED VEHICLES             3008\n",
      "WINDSHIELD (WATER/ICE)      2294\n",
      "BLINDED - SUNLIGHT           958\n",
      "TREES, PLANTS                386\n",
      "BUILDINGS                    291\n",
      "BLINDED - HEADLIGHTS          67\n",
      "HILLCREST                     65\n",
      "EMBANKMENT                    56\n",
      "BLOWING MATERIALS             49\n",
      "SIGNBOARD                     18\n",
      "Name: DRIVER_VISION, dtype: int64\n",
      "NORMAL                          442993\n",
      "IMPAIRED - ALCOHOL                2277\n",
      "FATIGUED/ASLEEP                   1416\n",
      "OTHER                             1163\n",
      "REMOVED BY EMS                    1027\n",
      "EMOTIONAL                          923\n",
      "ILLNESS/FAINTED                    525\n",
      "HAD BEEN DRINKING                  346\n",
      "IMPAIRED - DRUGS                   256\n",
      "IMPAIRED - ALCOHOL AND DRUGS        67\n",
      "MEDICATED                           62\n",
      "Name: PHYSICAL_CONDITION, dtype: int64\n"
     ]
    }
   ],
   "source": [
    "print(df['DRIVER_ACTION'].value_counts())\n",
    "print(df['DRIVER_VISION'].value_counts())\n",
    "print(df['PHYSICAL_CONDITION'].value_counts())"
   ]
  },
  {
   "cell_type": "code",
   "execution_count": 9,
   "metadata": {
    "scrolled": true
   },
   "outputs": [
    {
     "name": "stdout",
     "output_type": "stream",
     "text": [
      "<class 'pandas.core.frame.DataFrame'>\n",
      "Int64Index: 451055 entries, 1 to 1224557\n",
      "Data columns (total 7 columns):\n",
      " #   Column              Non-Null Count   Dtype   \n",
      "---  ------              --------------   -----   \n",
      " 0   CRASH_RECORD_ID     451055 non-null  object  \n",
      " 1   CRASH_DATE          451055 non-null  object  \n",
      " 2   AGE                 451055 non-null  float64 \n",
      " 3   DRIVER_ACTION       451055 non-null  object  \n",
      " 4   DRIVER_VISION       451055 non-null  object  \n",
      " 5   PHYSICAL_CONDITION  451055 non-null  object  \n",
      " 6   AGE_RANGES          451055 non-null  category\n",
      "dtypes: category(1), float64(1), object(5)\n",
      "memory usage: 24.5+ MB\n"
     ]
    }
   ],
   "source": [
    "df.info()"
   ]
  },
  {
   "cell_type": "code",
   "execution_count": null,
   "metadata": {},
   "outputs": [],
   "source": []
  }
 ],
 "metadata": {
  "kernelspec": {
   "display_name": "Python (learn-env)",
   "language": "python",
   "name": "learn-env"
  },
  "language_info": {
   "codemirror_mode": {
    "name": "ipython",
    "version": 3
   },
   "file_extension": ".py",
   "mimetype": "text/x-python",
   "name": "python",
   "nbconvert_exporter": "python",
   "pygments_lexer": "ipython3",
   "version": "3.8.5"
  }
 },
 "nbformat": 4,
 "nbformat_minor": 4
}
